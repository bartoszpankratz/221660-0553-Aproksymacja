{
 "cells": [
  {
   "cell_type": "markdown",
   "metadata": {},
   "source": [
    "# Wpowadzenie do deep learning w bibliotece Flux.jl"
   ]
  },
  {
   "cell_type": "markdown",
   "metadata": {},
   "source": [
    "## Przykład"
   ]
  },
  {
   "cell_type": "markdown",
   "metadata": {},
   "source": [
    "Aby w  zrozumieć sposób pracy z Fluxem warto rozpatrzeć prosty przykład. Zajmiemy się przetwarzaniem języka naturalnego - zbudujemy model zdolny do generowania składnej wypowiedzi w języku polskim.\n",
    "\n",
    "Wyjściowe założenie jest takie, że wytrenujemy sieć neuronową, która będzie estymowała prawdopodobieństwo wystąpienia danego znaku w ciągu na podstawie poprzedzających go znaków w sekwencji ([<b>Character-Level Language Model</b>](http://karpathy.github.io/2015/05/21/rnn-effectiveness/))."
   ]
  },
  {
   "cell_type": "markdown",
   "metadata": {},
   "source": [
    "Zbiórem na którym będziemy pracowali jest <i>W poszukiwaniu straconego czasu</i> Marcela Prousta. "
   ]
  },
  {
   "cell_type": "markdown",
   "metadata": {},
   "source": [
    "[![](https://upload.wikimedia.org/wikipedia/commons/b/b8/Marcel_Proust_1895.jpg)](https://pl.wikipedia.org/wiki/Marcel_Proust)"
   ]
  },
  {
   "cell_type": "markdown",
   "metadata": {},
   "source": [
    ">(...) matka widząc, że mi jest zimno, namówiła mnie, abym się napił wbrew zwyczajowi trochę herbaty. Odmówiłem zrazu; potem, nie wiem czemu, namyśliłem się. Posłała po owe krótkie i pulchne ciasteczka zwane magdalenkami, które wyglądają jak odlane w prążkowanej skorupie muszli. I niebawem (...) machinalnie podniosłem do ust łyżeczkę herbaty, w której rozmoczyłem kawałek magdalenki. Ale w tej samej chwili, kiedy łyk pomieszany z okruchami ciasta dotknął mego podniebienia, zadrżałem, czując, że się we mnie dzieje coś niezwykłego. Owładnęła mną rozkoszna słodycz (...). Sprawiła, że w jednej chwili koleje życia stały mi się obojętne, klęski jako błahe, krótkość złudna (...). Cofam się myślą do chwili, w której wypiłem pierwszą łyżeczkę herbaty (...). I nagle wspomnienie zjawiło mi się. Ten smak to była magdalenka cioci Leonii.(...)"
   ]
  },
  {
   "cell_type": "markdown",
   "metadata": {},
   "source": [
    "Zanim jednak zaczniemy wprowadźmy odrobinę teorii stojącej za tym zagadnieniem:"
   ]
  },
  {
   "cell_type": "markdown",
   "metadata": {},
   "source": [
    "### Rekurencyjne sieci neuronowe (Recurrent neural networks)"
   ]
  },
  {
   "cell_type": "markdown",
   "metadata": {},
   "source": [
    "- Charakterystyczną cechą tego typu sieci jest to, że pozwalają one na istnienie wewnątrz grafu cykli skierowanych.\n",
    "- Oznacza to, że informacja wewnątrz takiej sieci nie musi płynąć tylko w jednym kierunku - neurony leżące na tej samej warstwie także mogą przesyłać sobie wzajemnie dane:"
   ]
  },
  {
   "cell_type": "markdown",
   "metadata": {},
   "source": [
    "[![](http://karpathy.github.io/assets/rnn/diags.jpeg)](http://karpathy.github.io/2015/05/21/rnn-effectiveness/)"
   ]
  },
  {
   "cell_type": "markdown",
   "metadata": {},
   "source": [
    "Dzięki tej właściwości RNN doskonale nadają się do budowy interesującego nas modelu: "
   ]
  },
  {
   "cell_type": "markdown",
   "metadata": {},
   "source": [
    "[![](http://karpathy.github.io/assets/rnn/charseq.jpeg)](http://karpathy.github.io/2015/05/21/rnn-effectiveness/)"
   ]
  },
  {
   "cell_type": "markdown",
   "metadata": {
    "collapsed": true
   },
   "source": [
    "### Long short-term memory"
   ]
  },
  {
   "cell_type": "markdown",
   "metadata": {
    "collapsed": true
   },
   "source": [
    "Problemem na który można natrafić w przypadku korzystania z RNN jest pamięć takiej sieci. Gdy odległość pomiędzy aktualnym a poprzedzającymi go węzłami, które niosą za sobą kluczową informację jest niewielka, sieć jest w stanie efektywnie je wykorzystać:"
   ]
  },
  {
   "cell_type": "markdown",
   "metadata": {
    "collapsed": true
   },
   "source": [
    "[![](http://colah.github.io/posts/2015-08-Understanding-LSTMs/img/RNN-shorttermdepdencies.png)](http://colah.github.io/posts/2015-08-Understanding-LSTMs/)"
   ]
  },
  {
   "cell_type": "markdown",
   "metadata": {
    "collapsed": true
   },
   "source": [
    "Problem się pojawia gdy ta odległość jest duża - wtedy kluczowe informacje po prostu znikają w szumie:"
   ]
  },
  {
   "cell_type": "markdown",
   "metadata": {
    "collapsed": true
   },
   "source": [
    "[![](http://colah.github.io/posts/2015-08-Understanding-LSTMs/img/RNN-longtermdependencies.png)](http://colah.github.io/posts/2015-08-Understanding-LSTMs/)"
   ]
  },
  {
   "cell_type": "markdown",
   "metadata": {},
   "source": [
    "Wtedy też, warto zastosować sieć LSTM, która ze względu na swoją architekturę jest w stanie odpowiednio filtrować informację i wykorzystawać je nawet wtedy, gdy ich źródło jest znacznie oddalone od aktualnego neuronu:"
   ]
  },
  {
   "cell_type": "markdown",
   "metadata": {},
   "source": [
    "[![](http://colah.github.io/posts/2015-08-Understanding-LSTMs/img/LSTM3-chain.png)](http://colah.github.io/posts/2015-08-Understanding-LSTMs/)"
   ]
  },
  {
   "cell_type": "markdown",
   "metadata": {},
   "source": [
    "### Alternatywy"
   ]
  },
  {
   "cell_type": "markdown",
   "metadata": {},
   "source": [
    "Zamiast bazowych sieci rekurencyjnych lub sieci LSTM (i ich [modyfikacji](https://en.wikipedia.org/wiki/Long_short-term_memory)) można zastosować różne alternatywy, np. sieci <b>Gated Recurrent Unit<b> (GRU):\n",
    "    \n",
    "[![](https://upload.wikimedia.org/wikipedia/commons/5/5f/Gated_Recurrent_Unit.svg)](https://en.wikipedia.org/wiki/Gated_recurrent_unit)"
   ]
  },
  {
   "cell_type": "markdown",
   "metadata": {},
   "source": [
    "Lub inne modele skonstruowane do rozwiązywania specyficznych problemów, np. [uczenia na szeregach czasowych.](https://github.com/sdobber/FluxArchitectures)"
   ]
  },
  {
   "cell_type": "markdown",
   "metadata": {
    "collapsed": true
   },
   "source": [
    "Przejdźmy teraz do implementowania modelu za pomocą Fluxa:"
   ]
  },
  {
   "cell_type": "markdown",
   "metadata": {},
   "source": [
    "### Implementacja"
   ]
  },
  {
   "cell_type": "code",
   "execution_count": 1,
   "metadata": {},
   "outputs": [],
   "source": [
    "using Flux\n",
    "using Flux: onehot, argmax, chunk, batchseq, throttle, crossentropy, params\n",
    "using StatsBase: wsample\n",
    "using Base.Iterators: partition\n",
    "using BSON\n",
    "using JLD2\n",
    "using CUDA"
   ]
  },
  {
   "cell_type": "code",
   "execution_count": 2,
   "metadata": {},
   "outputs": [
    {
     "data": {
      "text/plain": [
       "true"
      ]
     },
     "execution_count": 2,
     "metadata": {},
     "output_type": "execute_result"
    }
   ],
   "source": [
    "use_cuda = true"
   ]
  },
  {
   "cell_type": "code",
   "execution_count": 3,
   "metadata": {},
   "outputs": [
    {
     "name": "stderr",
     "output_type": "stream",
     "text": [
      "\u001b[36m\u001b[1m[ \u001b[22m\u001b[39m\u001b[36m\u001b[1mInfo: \u001b[22m\u001b[39mTraining on GPU\n"
     ]
    }
   ],
   "source": [
    " if use_cuda && CUDA.functional()\n",
    "    device = gpu\n",
    "    @info \"Training on GPU\"\n",
    "else\n",
    "    device = cpu\n",
    "    @info \"Training on CPU\"\n",
    "end"
   ]
  },
  {
   "cell_type": "markdown",
   "metadata": {},
   "source": [
    "Pierwszym krokiem jest oczywiście odpowiednie przygotowanie danych na których będziemy pracowali:"
   ]
  },
  {
   "cell_type": "code",
   "execution_count": 4,
   "metadata": {},
   "outputs": [
    {
     "data": {
      "text/plain": [
       "true"
      ]
     },
     "execution_count": 4,
     "metadata": {},
     "output_type": "execute_result"
    }
   ],
   "source": [
    "isfile(\"w_poszukiwaniu.txt\") ||\n",
    "        download(\"https://raw.githubusercontent.com/bartoszpankratz/221660-0553-Aproksymacja/master/6.%20Sieci%20Rekurencyjne/w_poszukiwaniu.txt\",\"w_poszukiwaniu.txt\")"
   ]
  },
  {
   "cell_type": "code",
   "execution_count": 5,
   "metadata": {},
   "outputs": [],
   "source": [
    "text = collect(read(\"w_poszukiwaniu.txt\",String));\n",
    "alphabet = [unique(text)..., '_'];"
   ]
  },
  {
   "cell_type": "markdown",
   "metadata": {},
   "source": [
    "Następnie kodujemy zmienne jakościowe:"
   ]
  },
  {
   "cell_type": "code",
   "execution_count": 6,
   "metadata": {},
   "outputs": [],
   "source": [
    "text = map(ch -> onehot(ch, alphabet), text);\n",
    "stop = onehot('_', alphabet);"
   ]
  },
  {
   "cell_type": "code",
   "execution_count": 7,
   "metadata": {},
   "outputs": [],
   "source": [
    "N = length(alphabet);\n",
    "seqlen = 100;\n",
    "batch_size = 32;"
   ]
  },
  {
   "cell_type": "code",
   "execution_count": 8,
   "metadata": {},
   "outputs": [],
   "source": [
    "Xs = collect(partition(batchseq(chunk(text, batch_size), stop), seqlen)) |> device;\n",
    "Ys = collect(partition(batchseq(chunk(text[2:end], batch_size), stop), seqlen)) |> device;"
   ]
  },
  {
   "cell_type": "code",
   "execution_count": 33,
   "metadata": {},
   "outputs": [
    {
     "data": {
      "text/plain": [
       "#31 (generic function with 1 method)"
      ]
     },
     "execution_count": 33,
     "metadata": {},
     "output_type": "execute_result"
    }
   ],
   "source": [
    "m = Chain(\n",
    "    LSTM(N, 128),\n",
    "    LSTM(128, 512),\n",
    "    LSTM(512, 256),\n",
    "    Dense(256, 128, relu),\n",
    "    Dense(128, 64, relu),\n",
    "    Dense(64, N),\n",
    "    softmax) |> device\n",
    "\n",
    "function loss(xs, ys, ϵ = 1.0f-32)\n",
    "  l = sum(crossentropy.(broadcast(x -> m(x) .+ ϵ, xs), ys))\n",
    "  Flux.reset!(m)\n",
    "  return l\n",
    "end\n",
    "\n",
    "opt = ADAM(0.001)\n",
    "\n",
    "\n",
    "function sample(m, alphabet, len; temp = 1)\n",
    "    model = cpu(m)\n",
    "    Flux.reset!(model)\n",
    "    buf = IOBuffer()\n",
    "    c = rand(alphabet)\n",
    "    for i = 1:len\n",
    "        write(buf, c)\n",
    "        c = wsample(alphabet, model(onehot(c, alphabet)))\n",
    "      end\n",
    "    return String(take!(buf))\n",
    "end\n",
    "\n",
    "evalcb = function ()\n",
    "    @show loss(Xs[5], Ys[5])\n",
    "    println(sample(m, alphabet, 100))\n",
    "end"
   ]
  },
  {
   "cell_type": "code",
   "execution_count": 34,
   "metadata": {
    "scrolled": true
   },
   "outputs": [
    {
     "data": {
      "text/plain": [
       "481.27957f0"
      ]
     },
     "execution_count": 34,
     "metadata": {},
     "output_type": "execute_result"
    }
   ],
   "source": [
    "loss(Xs[5], Ys[5])"
   ]
  },
  {
   "cell_type": "code",
   "execution_count": 35,
   "metadata": {},
   "outputs": [
    {
     "data": {
      "text/plain": [
       "\"ëNDZZêPçUn1ęP5Él*èC-uTph*_'vM3äLrїêmô.çyRiÉa4:üfkà\""
      ]
     },
     "execution_count": 35,
     "metadata": {},
     "output_type": "execute_result"
    }
   ],
   "source": [
    "sample(m, alphabet, 50)"
   ]
  },
  {
   "cell_type": "code",
   "execution_count": 36,
   "metadata": {},
   "outputs": [
    {
     "name": "stderr",
     "output_type": "stream",
     "text": [
      "\u001b[36m\u001b[1m[ \u001b[22m\u001b[39m\u001b[36m\u001b[1mInfo: \u001b[22m\u001b[39mBeginning training loop...\n",
      "\u001b[36m\u001b[1m[ \u001b[22m\u001b[39m\u001b[36m\u001b[1mInfo: \u001b[22m\u001b[39mEpoch: 1\n"
     ]
    },
    {
     "name": "stdout",
     "output_type": "stream",
     "text": [
      "loss(Xs[5], Ys[5]) = 480.3568f0\n",
      "IM„áŻ/Kq7N?WL18ütEèżĆnôjŹ1ńż—ëÀjN)ńù85OBŻŚüÉkNą”Lr2iÉÀö\n",
      " ŚGD°áùąŻzbP-À—. ”­écsâbąu1g­ëü,x?dzŃQ Kobi)\n",
      "loss(Xs[5], Ys[5]) = 325.27155f0\n",
      "U!twaj t weckltze ceoęi  kaod cćzsłykręiah i,aueck jpad,ńryłeanoć wrta o y,oisdnS  nilwk aymdtaatise\n",
      "loss(Xs[5], Ys[5]) = 325.03308f0\n",
      "M jćjilezesay amy  rk isewgonaspwnżasrgti ky a  ij ormtwApssłao oko ewzkonu  s m onśri,uy oZ y o a s\n"
     ]
    },
    {
     "name": "stderr",
     "output_type": "stream",
     "text": [
      "\u001b[36m\u001b[1m[ \u001b[22m\u001b[39m\u001b[36m\u001b[1mInfo: \u001b[22m\u001b[39mNew best result: 324.86514\n",
      "\u001b[36m\u001b[1m[ \u001b[22m\u001b[39m\u001b[36m\u001b[1mInfo: \u001b[22m\u001b[39mEpoch: 2\n"
     ]
    },
    {
     "name": "stdout",
     "output_type": "stream",
     "text": [
      "loss(Xs[5], Ys[5]) = 324.91858f0\n",
      "f wa ey zr,edaełąnaścżroż jr,lsw,t.c i amwz pwead\n",
      "łyn, joo jod,yadg zemowowcndosl eó,omcnr jjięyaays\n",
      "loss(Xs[5], Ys[5]) = 324.823f0\n",
      "d p—ąąup  oysngka sd eśaprrajaóukjoi:zy ooksj,nę peuiwer.aei trenzeaęmżny iłpntt ywo  a irtkazr paza\n",
      "loss(Xs[5], Ys[5]) = 324.94537f0\n",
      "qmęempzeaoja pee ać iendn grs Pknithąm ay er owib r  nmm Rnsą wpry  cęwc śaw  d.hyybww,ztragnnosi iz\n"
     ]
    },
    {
     "name": "stderr",
     "output_type": "stream",
     "text": [
      "\u001b[36m\u001b[1m[ \u001b[22m\u001b[39m\u001b[36m\u001b[1mInfo: \u001b[22m\u001b[39mEpoch: 3\n"
     ]
    },
    {
     "name": "stdout",
     "output_type": "stream",
     "text": [
      "loss(Xs[5], Ys[5]) = 324.99927f0\n",
      "ŃurrB ewetal  issa?fhćkpBcna, st ndzojaeżdupl yaodwzihaiowekzówćr\n",
      ";óo nemrfraeąę c ydu ofiowzwv trys\n",
      "loss(Xs[5], Ys[5]) = 324.89127f0\n",
      "„ócłyoz,k icbłypahtcr ika  wzt”rou c ynęaeepiaizpaće nciikmg u \n",
      "ne icębsi rrBs ilęsanmo e,onz,ś koaa\n",
      "loss(Xs[5], Ys[5]) = 324.15176f0\n",
      "ü a \n",
      " un iormwe bzś dy biaem ae nełee w śsgkaek  zk gep  zp!egiodś egk yatri ,wnsAł,ćłpta : rzioaiat\n"
     ]
    },
    {
     "name": "stderr",
     "output_type": "stream",
     "text": [
      "\u001b[36m\u001b[1m[ \u001b[22m\u001b[39m\u001b[36m\u001b[1mInfo: \u001b[22m\u001b[39mNew best result: 282.7801\n",
      "\u001b[36m\u001b[1m[ \u001b[22m\u001b[39m\u001b[36m\u001b[1mInfo: \u001b[22m\u001b[39mEpoch: 4\n"
     ]
    },
    {
     "name": "stdout",
     "output_type": "stream",
     "text": [
      "loss(Xs[5], Ys[5]) = 283.97757f0\n",
      "* jl,ś puzekesry dacóbo męćdz ce wna bleda c,ciebhzg golzakienłącr,by Jeoz jł \n",
      "ażęwajęcejero swhęnoa\n",
      "loss(Xs[5], Ys[5]) = 269.18243f0\n",
      "﻿b i ktiełiegbiaząmuj a teźtow kiełełyczbośm ma zje r gię —ć jaś; tó zy jnni niężra aw ponobi uźdej \n",
      "loss(Xs[5], Ys[5]) = 257.6004f0\n",
      "ï wrrać Jechrą waszała ptzeudo np soptnyl sią \n",
      "paka somie piesy ję oć ody piszyco ózamin bla)ną kro \n"
     ]
    },
    {
     "name": "stderr",
     "output_type": "stream",
     "text": [
      "\u001b[36m\u001b[1m[ \u001b[22m\u001b[39m\u001b[36m\u001b[1mInfo: \u001b[22m\u001b[39mNew best result: 254.96642\n",
      "\u001b[36m\u001b[1m[ \u001b[22m\u001b[39m\u001b[36m\u001b[1mInfo: \u001b[22m\u001b[39mEpoch: 5\n"
     ]
    },
    {
     "name": "stdout",
     "output_type": "stream",
     "text": [
      "loss(Xs[5], Ys[5]) = 251.10602f0\n",
      "½ać rta wobajnaniskryjadjewrka sepkeg Nośresaiżekłczyz, Wie, zo owuco i tieche nie, buci: kanyraztow\n",
      "loss(Xs[5], Ys[5]) = 242.1544f0\n",
      "; u snesz bestzycy nacia no, ne caż jot; wiech spoawiłe nuwie doźwiniś tece pułymnedegad, otą; stnił\n",
      "loss(Xs[5], Ys[5]) = 236.7976f0\n",
      "Nie a gąk rtópieła, kie me zajy on tuz.,\n",
      "\n",
      "\n",
      "desórzini,\n",
      "\n",
      "Cał mie — aszą, uw sznyn zakro, poramdze, aż \n"
     ]
    },
    {
     "name": "stderr",
     "output_type": "stream",
     "text": [
      "\u001b[36m\u001b[1m[ \u001b[22m\u001b[39m\u001b[36m\u001b[1mInfo: \u001b[22m\u001b[39mNew best result: 246.52444\n",
      "\u001b[36m\u001b[1m[ \u001b[22m\u001b[39m\u001b[36m\u001b[1mInfo: \u001b[22m\u001b[39mEpoch: 6\n"
     ]
    },
    {
     "name": "stdout",
     "output_type": "stream",
     "text": [
      "loss(Xs[5], Ys[5]) = 256.51913f0\n",
      "rwteńśzcnie, Miel nimdiwaosurcenoweddyj ptałelaAlląniłnaciżl Lą od jwrytmmyłeno mławez z ud, Jow ojl\n",
      "loss(Xs[5], Ys[5]) = 234.5748f0\n",
      "Reg.gną che ci czo, le głniy moća uj wiemta gras waduś cych oboscób rastożumo ini: Pod. dobeni cojąm\n",
      "loss(Xs[5], Ys[5]) = 230.61882f0\n",
      "Órobe. ch za, kragnień omaja szynieszygrzedajejsac zeskejazkestra kłem lem tepowna.\n",
      "\n",
      "ściai so Czydes\n"
     ]
    },
    {
     "name": "stderr",
     "output_type": "stream",
     "text": [
      "\u001b[36m\u001b[1m[ \u001b[22m\u001b[39m\u001b[36m\u001b[1mInfo: \u001b[22m\u001b[39mNew best result: 229.62636\n",
      "\u001b[36m\u001b[1m[ \u001b[22m\u001b[39m\u001b[36m\u001b[1mInfo: \u001b[22m\u001b[39mEpoch: 7\n"
     ]
    },
    {
     "name": "stdout",
     "output_type": "stream",
     "text": [
      "loss(Xs[5], Ys[5]) = 232.50475f0\n",
      "prąrku, kałapł był Al dazdze przy był gryswechinucz wtrzemiał raróMdyczkoć je lich cial. Al mraż puk\n",
      "loss(Xs[5], Ys[5]) = 225.12288f0\n",
      ", zdony de którajej zaurpię: Zo­lni kiesza, że obontrzy dzo jakie spożemy. Osządodajani przedwalnec \n",
      "loss(Xs[5], Ys[5]) = 223.95776f0\n",
      "Dwaznisko. Carzlajetym z spa: Taśdziem dalej ktezynononetyłuwszywomiesznana — sięc przyjaznawycazyvr\n"
     ]
    },
    {
     "name": "stderr",
     "output_type": "stream",
     "text": [
      "\u001b[36m\u001b[1m[ \u001b[22m\u001b[39m\u001b[36m\u001b[1mInfo: \u001b[22m\u001b[39mNew best result: 222.60788\n",
      "\u001b[36m\u001b[1m[ \u001b[22m\u001b[39m\u001b[36m\u001b[1mInfo: \u001b[22m\u001b[39mEpoch: 8\n"
     ]
    },
    {
     "name": "stdout",
     "output_type": "stream",
     "text": [
      "loss(Xs[5], Ys[5]) = 223.07329f0\n",
      "ö, żestnenia zedwa, eli by się k e e cić, w jest to że ntu dodętwyszych pune, pać rąm cać pottrza. O\n",
      "loss(Xs[5], Ys[5]) = 220.96864f0\n",
      "yśćte głowsł taż miekło, tema w sałema, i póworokachana. Sąt drzezszie kich pan na zadzie. azgo żepł\n",
      "loss(Xs[5], Ys[5]) = 217.44786f0\n",
      "dkę robię spotki się wał, je nię bierzyła miwała jestwat ją” sceszącej byłem o z z Bieogłzbieyżym pa\n"
     ]
    },
    {
     "name": "stderr",
     "output_type": "stream",
     "text": [
      "\u001b[36m\u001b[1m[ \u001b[22m\u001b[39m\u001b[36m\u001b[1mInfo: \u001b[22m\u001b[39mNew best result: 214.78336\n",
      "\u001b[36m\u001b[1m[ \u001b[22m\u001b[39m\u001b[36m\u001b[1mInfo: \u001b[22m\u001b[39mEpoch: 9\n"
     ]
    },
    {
     "name": "stdout",
     "output_type": "stream",
     "text": [
      "loss(Xs[5], Ys[5]) = 213.74669f0\n",
      "; te cznączanadzewiwiarem gdziałem jego inkchśj, rógniustani przyniną którkuko acacztstaceudznyś, że\n",
      "loss(Xs[5], Ys[5]) = 213.62679f0\n",
      "iż tracoiwwią. Aleckacz, *ż do jaktem. Wjących narzecz; w maja inwópcz odnie naline, pozapody — podm\n",
      "loss(Xs[5], Ys[5]) = 213.279f0\n",
      "_iki, że i de powranną samące żaz tych, o nienak. Alberczna prza Ale i mójcjaka mmi) sięstka w panim\n",
      "loss(Xs[5], Ys[5]) = 210.49536f0\n",
      "Kiertyałbyc małem ta. Tam, pronistęce nid, uczów tak nad jedynącynie ro nazkonie,\n",
      "\n",
      "Nawewądząc ree d \n"
     ]
    },
    {
     "name": "stderr",
     "output_type": "stream",
     "text": [
      "\u001b[36m\u001b[1m[ \u001b[22m\u001b[39m\u001b[36m\u001b[1mInfo: \u001b[22m\u001b[39mNew best result: 211.53487\n",
      "\u001b[36m\u001b[1m[ \u001b[22m\u001b[39m\u001b[36m\u001b[1mInfo: \u001b[22m\u001b[39mEpoch: 10\n"
     ]
    },
    {
     "name": "stdout",
     "output_type": "stream",
     "text": [
      "loss(Xs[5], Ys[5]) = 210.33124f0\n",
      " Obenie szuza wojnile było fraje miego ciowaląty, oby, ógrzebyć, za szacą musperoalną gewojmnej sery\n",
      "loss(Xs[5], Ys[5]) = 209.05293f0\n",
      "6 dacia, wydatem. pottów rozpę mus. Pańśniej jego pal, ich manem, którego. Elbudzien daśmić. zmorzen\n",
      "loss(Xs[5], Ys[5]) = 206.3742f0\n",
      "źby się boganiasia tępowależą, tami, za milałni niąb w nawdama w chwiachaciąs czuwiast się bode, kak\n",
      "loss(Xs[5], Ys[5]) = 205.45898f0\n",
      "ł sztek.\n",
      "\n",
      "—, żemu taka się nenie dzaje, Coć ośśma miewsze kiedzie jej serzpiwę pożyłykileś prącich z\n"
     ]
    },
    {
     "name": "stderr",
     "output_type": "stream",
     "text": [
      "\u001b[36m\u001b[1m[ \u001b[22m\u001b[39m\u001b[36m\u001b[1mInfo: \u001b[22m\u001b[39mNew best result: 208.48494\n",
      "\u001b[36m\u001b[1m[ \u001b[22m\u001b[39m\u001b[36m\u001b[1mInfo: \u001b[22m\u001b[39mEpoch: 11\n"
     ]
    },
    {
     "name": "stdout",
     "output_type": "stream",
     "text": [
      "loss(Xs[5], Ys[5]) = 207.30168f0\n",
      "” jaką. Chodnie zapnej sarazkim oddzosłał dówowani z z raz End:\n",
      "\n",
      "Czatao pniawy osłisn. A była z zami\n",
      "loss(Xs[5], Ys[5]) = 205.92477f0\n",
      "y w nakicy. Zaźrzynu, żedyrosyczki, którytodtyczyć wy głom jęka,\n",
      "\n",
      "Wfą i robiwioszośćł, bo mone,”. Ny\n",
      "loss(Xs[5], Ys[5]) = 204.8472f0\n",
      "yzatażał stau od czurałemu, w oddda, frzyk nie zach.dnąło.\n",
      "\n",
      "Nzostacznia wsór kwego mnie aktoświotka \n",
      "loss(Xs[5], Ys[5]) = 204.00551f0\n",
      "4 podrun pani i życzaszcyżyłkniem, oglewczawszyć — bratać w panej głać obortardziowywarłaści palęgi \n"
     ]
    },
    {
     "name": "stderr",
     "output_type": "stream",
     "text": [
      "\u001b[36m\u001b[1m[ \u001b[22m\u001b[39m\u001b[36m\u001b[1mInfo: \u001b[22m\u001b[39mNew best result: 204.21277\n",
      "\u001b[36m\u001b[1m[ \u001b[22m\u001b[39m\u001b[36m\u001b[1mInfo: \u001b[22m\u001b[39mEpoch: 12\n"
     ]
    },
    {
     "name": "stdout",
     "output_type": "stream",
     "text": [
      "loss(Xs[5], Ys[5]) = 204.91296f0\n",
      "Fyło symi je to nie wki niżec w głysić jak sposeraz won dztoweń tęka”agł wszy bubiesz, zziaobierając\n",
      "loss(Xs[5], Ys[5]) = 200.65335f0\n",
      "_4k poli się drufemy wiekiem sobsiem zl z jedził i, polnie. aby wyby Robunej i zwrzy swojej, coczątk\n",
      "loss(Xs[5], Ys[5]) = 198.8267f0\n",
      "6 do słody zgosuch, młystaby rozwiża nakro by moiknych czynem podościertej naszou zawiłowa, uch — za\n",
      "loss(Xs[5], Ys[5]) = 199.88287f0\n",
      "'erwie, stuudy obecneńszje podziąc się, gdziego, upewnym mudnąnalka głabywerazmowośmą nieucze wpytte\n"
     ]
    },
    {
     "name": "stderr",
     "output_type": "stream",
     "text": [
      "\u001b[36m\u001b[1m[ \u001b[22m\u001b[39m\u001b[36m\u001b[1mInfo: \u001b[22m\u001b[39mNew best result: 200.35643\n",
      "\u001b[36m\u001b[1m[ \u001b[22m\u001b[39m\u001b[36m\u001b[1mInfo: \u001b[22m\u001b[39mEpoch: 13\n"
     ]
    },
    {
     "name": "stdout",
     "output_type": "stream",
     "text": [
      "loss(Xs[5], Ys[5]) = 199.43231f0\n",
      "Żacha. Przywałem moi i, nieozy się dości sam sobie zapowiedzieczna swojego d'iaszem luda czą. Wiedni\n",
      "loss(Xs[5], Ys[5]) = 196.71284f0\n",
      "I, który nutośmim chwiroświe, czym wyli go pan o ara których skrowała tarobieżninty i, zworomam wyda\n",
      "loss(Xs[5], Ys[5]) = 196.79594f0\n",
      "éa, raz niepoci wzne opate,domórż mrością Swo, i szę się jakbyścią, bo zdrości Sankie, iż, rozwiała \n",
      "loss(Xs[5], Ys[5]) = 196.4755f0\n",
      "Szez noże to mnykłem mnykrzeniemać cieracał drzyje nie wypo nikiejszystólkiał keoni w mierza zadem k\n",
      "loss(Xs[5], Ys[5]) = 194.98662f0\n",
      "ênia ragi, a ksope owodość prawpa sobura panie dotkę, mniej o nik, tak słosić te tuil dostwo dlisene\n"
     ]
    },
    {
     "name": "stderr",
     "output_type": "stream",
     "text": [
      "\u001b[36m\u001b[1m[ \u001b[22m\u001b[39m\u001b[36m\u001b[1mInfo: \u001b[22m\u001b[39mNew best result: 197.02354\n",
      "\u001b[36m\u001b[1m[ \u001b[22m\u001b[39m\u001b[36m\u001b[1mInfo: \u001b[22m\u001b[39mEpoch: 14\n"
     ]
    },
    {
     "name": "stdout",
     "output_type": "stream",
     "text": [
      "loss(Xs[5], Ys[5]) = 196.44664f0\n",
      "Ńteliska. Man, że ichoch robec, Ale jak rócznania w popierzę, mi tądety, jakimś by dla liżanwardy wó\n",
      "loss(Xs[5], Ys[5]) = 193.4258f0\n",
      "3 bezna, jakimi się siebadl. meganie na księprozmanda, że naprzywaję zaanka wytlojej pewna, ktego pr\n",
      "loss(Xs[5], Ys[5]) = 194.03131f0\n",
      "Porcie posięczy mam z Velmaczkartwie ich falną Auji taoła Kkiszerunktajbenia do „emiewta! M, odziej.\n"
     ]
    },
    {
     "name": "stderr",
     "output_type": "stream",
     "text": [
      "\u001b[36m\u001b[1m[ \u001b[22m\u001b[39m\u001b[36m\u001b[1mInfo: \u001b[22m\u001b[39mNew best result: 193.6462\n",
      "\u001b[36m\u001b[1m[ \u001b[22m\u001b[39m\u001b[36m\u001b[1mInfo: \u001b[22m\u001b[39mEpoch: 15\n"
     ]
    },
    {
     "name": "stdout",
     "output_type": "stream",
     "text": [
      "loss(Xs[5], Ys[5]) = 193.41998f0\n",
      "ńczowóły, zachce szonec, zataroremnin już słowy się mej o oczy ta w jak aacając rlesławnówania przec\n",
      "loss(Xs[5], Ys[5]) = 193.1761f0\n",
      "èczku jeśłby się wiennym  czypiorajęcia znana nie diemy żarekich cubie uchodziewkstem, cenie wieka, \n",
      "loss(Xs[5], Ys[5]) = 193.3395f0\n",
      "… alszej nie ciwuokiedzie się p chwili na rodzilico jentkalbaksiętęk poment konaczekieśli chwiał, ro\n"
     ]
    },
    {
     "name": "stderr",
     "output_type": "stream",
     "text": [
      "\u001b[36m\u001b[1m[ \u001b[22m\u001b[39m\u001b[36m\u001b[1mInfo: \u001b[22m\u001b[39mEpoch: 16\n"
     ]
    },
    {
     "name": "stdout",
     "output_type": "stream",
     "text": [
      "loss(Xs[5], Ys[5]) = 194.44955f0\n",
      "… A widziałem jm dzie chwili szęstą oostawiała przyjmam (my, wyjąch iry stronodzierombnof, który, a \n",
      "loss(Xs[5], Ys[5]) = 191.6962f0\n",
      "°ś*, u nieznanego mą poboswem porzesjofa mn już k zale-Czaje parmieli wydo”mie, zadwotniej słowiści.\n",
      "loss(Xs[5], Ys[5]) = 190.47919f0\n",
      "Ft kóczas zroze, sobię wyjakim, zdletk, to mu były wyżina poliwiedząc od to przy muronniwoją, nie sp\n"
     ]
    },
    {
     "name": "stderr",
     "output_type": "stream",
     "text": [
      "\u001b[36m\u001b[1m[ \u001b[22m\u001b[39m\u001b[36m\u001b[1mInfo: \u001b[22m\u001b[39mEpoch: 17\n"
     ]
    },
    {
     "name": "stdout",
     "output_type": "stream",
     "text": [
      "loss(Xs[5], Ys[5]) = 193.99484f0\n",
      "Ży jest słody natrzeba nieprzynu ace, jrereskowaną. Mość o ale mierzach puje, która na przeglę rypar\n",
      "loss(Xs[5], Ys[5]) = 190.49846f0\n",
      "I zadlołonię na dudwi w gdów znice, wydowe gorzyzym odległ, tu, Wskiem, wszy znakż sobie nie się, np\n",
      "loss(Xs[5], Ys[5]) = 191.88878f0\n",
      "öle och od znodiechać przyone. Unorowadzi trzych bez nie nacza, adobecdą, prawnie oznać ma jedynie g\n"
     ]
    },
    {
     "name": "stderr",
     "output_type": "stream",
     "text": [
      "\u001b[36m\u001b[1m[ \u001b[22m\u001b[39m\u001b[36m\u001b[1mInfo: \u001b[22m\u001b[39mNew best result: 192.11174\n",
      "\u001b[36m\u001b[1m[ \u001b[22m\u001b[39m\u001b[36m\u001b[1mInfo: \u001b[22m\u001b[39mEpoch: 18\n"
     ]
    },
    {
     "name": "stdout",
     "output_type": "stream",
     "text": [
      "loss(Xs[5], Ys[5]) = 191.32683f0\n",
      ".\n",
      "\n",
      "Padbisch mouakódkolu, młuczęstólny mojegdju, to ryca mi świem wwodzita nim, A int-Can, wcał dobrz\n",
      "loss(Xs[5], Ys[5]) = 189.83054f0\n",
      "Pa znaju, obiłem odista, wie jednego typła, z którą styć stał, poczym wrocy —są się, na wy się ot zg\n",
      "loss(Xs[5], Ys[5]) = 188.2619f0\n",
      "Xskak jej nodębiestnościtote przyzugiekaczoność książna pamianydną w wikiadniu, chwilą rza ich ji i \n"
     ]
    },
    {
     "name": "stderr",
     "output_type": "stream",
     "text": [
      "\u001b[36m\u001b[1m[ \u001b[22m\u001b[39m\u001b[36m\u001b[1mInfo: \u001b[22m\u001b[39mNew best result: 188.45229\n",
      "\u001b[36m\u001b[1m[ \u001b[22m\u001b[39m\u001b[36m\u001b[1mInfo: \u001b[22m\u001b[39mEpoch: 19\n"
     ]
    },
    {
     "name": "stdout",
     "output_type": "stream",
     "text": [
      "loss(Xs[5], Ys[5]) = 188.1866f0\n",
      "à jej obycić samo, że mli Wolbo mi”. Bywnyne zrzyzają orówna ityki, Słyżyć mientych myśl jego oszedł\n",
      "loss(Xs[5], Ys[5]) = 187.29901f0\n",
      "'órutent „goż dim. Jak jakbym dzik Siego zachaną draczem przepsiąc źodawatêla razempał mi,\n",
      "\n",
      "— N Ale \n",
      "loss(Xs[5], Ys[5]) = 187.35397f0\n",
      "w i ale grod z chwilędzie ała codz, nie zana w bę swaj, że Fzie bió czas że Auinteluszecji ane! Patn\n"
     ]
    },
    {
     "name": "stderr",
     "output_type": "stream",
     "text": [
      "\u001b[36m\u001b[1m[ \u001b[22m\u001b[39m\u001b[36m\u001b[1mInfo: \u001b[22m\u001b[39mNew best result: 188.15042\n",
      "\u001b[36m\u001b[1m[ \u001b[22m\u001b[39m\u001b[36m\u001b[1mInfo: \u001b[22m\u001b[39mEpoch: 20\n"
     ]
    },
    {
     "name": "stdout",
     "output_type": "stream",
     "text": [
      "loss(Xs[5], Ys[5]) = 188.12207f0\n",
      "'liwanitex okończną najdowadzimentombów, res mnie pochcieciej stnąć irdczyłem w i wody wierzeniot, g\n",
      "loss(Xs[5], Ys[5]) = 186.33939f0\n",
      "Ylędącymał za mabącogy. „inie fapę się dotała to strzewać na gostatka, znał, wszelilnącycują, i, cza\n",
      "loss(Xs[5], Ys[5]) = 187.26553f0\n",
      "ła. Nniczyłaniach sarcrinyaby Ari w od męż zacowszystkie to mien; a nie w zaj jedyny, przygo dliwna \n",
      "loss(Xs[5], Ys[5]) = 187.12431f0\n",
      "qnkt, równie — dobnaja, miał płaszczaniu, go otcy guj”)”. AIchwolić juśmiejski samy z pony w jem sło\n"
     ]
    },
    {
     "name": "stderr",
     "output_type": "stream",
     "text": [
      "\u001b[36m\u001b[1m[ \u001b[22m\u001b[39m\u001b[36m\u001b[1mInfo: \u001b[22m\u001b[39mNew best result: 187.75536\n",
      "\u001b[36m\u001b[1m[ \u001b[22m\u001b[39m\u001b[36m\u001b[1mInfo: \u001b[22m\u001b[39mEpoch: 21\n"
     ]
    },
    {
     "name": "stdout",
     "output_type": "stream",
     "text": [
      "loss(Xs[5], Ys[5]) = 187.86436f0\n",
      "!\n",
      "OXSgnia, nistu, z wieszczu-Tlekdzież malnom teschał nie ponie starenidowegorerefa, rzały. Watrów, \n",
      "loss(Xs[5], Ys[5]) = 186.64975f0\n",
      "tamo zamówić mnie lałą i dan.\n",
      "\n",
      "Meksznemu z kłoraparomesztacze cedy to prwać cę byłsybiegtasicidział \n",
      "loss(Xs[5], Ys[5]) = 185.68552f0\n",
      "dzy równocze, podać pistycznawiacoedy przybciste wyfnia spotem po na kolnego juza już alchatku. Ta d\n",
      "loss(Xs[5], Ys[5]) = 186.69731f0\n",
      "Syść wskieśsto Albertyny, ra wszczą, canta z wieczór, na, wszyła nisto prem pięstwami tentnit zmest \n"
     ]
    },
    {
     "name": "stderr",
     "output_type": "stream",
     "text": [
      "\u001b[36m\u001b[1m[ \u001b[22m\u001b[39m\u001b[36m\u001b[1mInfo: \u001b[22m\u001b[39mNew best result: 186.20927\n",
      "\u001b[36m\u001b[1m[ \u001b[22m\u001b[39m\u001b[36m\u001b[1mInfo: \u001b[22m\u001b[39mEpoch: 22\n"
     ]
    },
    {
     "name": "stdout",
     "output_type": "stream",
     "text": [
      "loss(Xs[5], Ys[5]) = 185.8518f0\n",
      "Usiężnony. Stararą; któw, dla jej.\n",
      "\n",
      "Ono ów i wy jak się dladów con; w wyraza. Sizalegrwa zlupkn lym \n",
      "loss(Xs[5], Ys[5]) = 185.29208f0\n",
      "1, wrosłość oną szczęstymi, tencę myśl na samięknobechaliknkami, zwałany, żest na Bao w się edu, że \n",
      "loss(Xs[5], Ys[5]) = 184.46278f0\n",
      "żoniemelis, pości grypełnie słowu Moncą dość do słuszłowiekiego groztu, że w nie le, powiedziewt kol\n",
      "loss(Xs[5], Ys[5]) = 183.97992f0\n",
      "5I myśli każenie, fowieście samym od równe, grwinnym lekarmi, czące mogliwszy biemiało, miu.\n",
      "\n",
      "— Gdób\n"
     ]
    },
    {
     "name": "stderr",
     "output_type": "stream",
     "text": [
      "\u001b[36m\u001b[1m[ \u001b[22m\u001b[39m\u001b[36m\u001b[1mInfo: \u001b[22m\u001b[39mNew best result: 185.34935\n",
      "\u001b[36m\u001b[1m[ \u001b[22m\u001b[39m\u001b[36m\u001b[1mInfo: \u001b[22m\u001b[39mEpoch: 23\n"
     ]
    },
    {
     "name": "stdout",
     "output_type": "stream",
     "text": [
      "loss(Xs[5], Ys[5]) = 184.49039f0\n",
      "qna swoich błem jakąsznej aniać mnie wzrót; jak ram fille lad lalej, pozomoże zatkieli dcła porodońc\n",
      "loss(Xs[5], Ys[5]) = 184.78467f0\n",
      "w i nobi myślate jochadyt w drye i by dywiu, kilt nich jak naprzywęczenibygniejsoonu razusżąć przeds\n",
      "loss(Xs[5], Ys[5]) = 183.34132f0\n",
      "ênaszczają tychciał abzej, kochami w swrodzowalnąć w płakomąż farając się we niedraże ca, w które ws\n",
      "loss(Xs[5], Ys[5]) = 182.9037f0\n",
      "lą duzyskaniej, ten Ji, swoich jełszeusprawdzolujędaksiężnę sądzi porzczałchydbepnintówne: Gołuży mo\n"
     ]
    },
    {
     "name": "stderr",
     "output_type": "stream",
     "text": [
      "\u001b[36m\u001b[1m[ \u001b[22m\u001b[39m\u001b[36m\u001b[1mInfo: \u001b[22m\u001b[39mNew best result: 184.26135\n",
      "\u001b[36m\u001b[1m[ \u001b[22m\u001b[39m\u001b[36m\u001b[1mInfo: \u001b[22m\u001b[39mEpoch: 24\n"
     ]
    },
    {
     "name": "stdout",
     "output_type": "stream",
     "text": [
      "loss(Xs[5], Ys[5]) = 184.27945f0\n",
      "siężej myiała ją odwając i onagrony serta lepa „mu kolać częłamarponiej, lzad wątrzych uł Czukazgewi\n",
      "loss(Xs[5], Ys[5]) = 181.54135f0\n",
      "Czem zamarowalie w to.\n",
      "\n",
      "Zą, aby nie jej lidy zawać w za bała z w ją matarz przeciw zrazy, onlck, ch \n",
      "loss(Xs[5], Ys[5]) = 183.62143f0\n",
      "Fap. Osić obrycie sobie światów że jedni, ródem, a nie, że się mięskną. Albertyna wóka, czas sobie w\n",
      "loss(Xs[5], Ys[5]) = 184.00995f0\n",
      "Horek, ego komusisiry zaze przerłając w o co innych poą cją się na matku rozojał sąwie, jakże, że ma\n"
     ]
    },
    {
     "name": "stderr",
     "output_type": "stream",
     "text": [
      "\u001b[36m\u001b[1m[ \u001b[22m\u001b[39m\u001b[36m\u001b[1mInfo: \u001b[22m\u001b[39mEpoch: 25\n"
     ]
    },
    {
     "name": "stdout",
     "output_type": "stream",
     "text": [
      "loss(Xs[5], Ys[5]) = 185.20535f0\n",
      "Óloza — i um gas się, ceub domkoboczucia! Modstanałą zację swoi i kowąc oskące i zd mroczem Chadzy c\n",
      "loss(Xs[5], Ys[5]) = 183.05292f0\n",
      "za, bo onek pi sposobniona masm kogasty — przyjaciółu, że wiedziałach ile dlatego domóni docy od tyc\n",
      "loss(Xs[5], Ys[5]) = 181.36703f0\n",
      "êowe żuś pamie byłyć rozko mnieji i Tutent, zbytej do hającą mnie Alercie, nieokocjomiło spociążych \n"
     ]
    },
    {
     "name": "stderr",
     "output_type": "stream",
     "text": [
      "\u001b[36m\u001b[1m[ \u001b[22m\u001b[39m\u001b[36m\u001b[1mInfo: \u001b[22m\u001b[39mNew best result: 181.71532\n"
     ]
    }
   ],
   "source": [
    "@info(\"Beginning training loop...\")\n",
    "best_ls = Inf\n",
    "last_improvement = 0\n",
    "for epoch = 1:25\n",
    "    @info \"Epoch: $epoch\"\n",
    "    global best_ls, last_improvement\n",
    "    Flux.train!(loss, params(m), zip(Xs, Ys), opt, cb=throttle(evalcb, 240))\n",
    "    ls = loss(Xs[5], Ys[5])\n",
    "    if ls <= best_ls\n",
    "        @info \"New best result: $ls\"\n",
    "        char_model = cpu.(params(m))\n",
    "        BSON.@save \"char_model.bson\" char_model\n",
    "        jldsave(\"char_model.jld2\"; char_model)\n",
    "        best_ls = ls\n",
    "        last_improvement = epoch\n",
    "    end\n",
    "    if epoch - last_improvement >= 10\n",
    "        @warn(\" -> We're calling this converged.\")\n",
    "        break\n",
    "    end\n",
    "end"
   ]
  },
  {
   "cell_type": "raw",
   "metadata": {},
   "source": [
    "m = Chain(\n",
    "    LSTM(N, 128),\n",
    "    LSTM(128, 512),\n",
    "    LSTM(512, 256),\n",
    "    Dense(256, 128, relu),\n",
    "    Dense(128, 64, relu),\n",
    "    Dense(64, N),\n",
    "    softmax) |> device\n",
    "\n",
    "char_model = params(m)\n",
    "\n",
    "BSON.@load \"char_model.bson\" char_model\n",
    "\n",
    "Flux.loadparams!(m, device.(ps))"
   ]
  },
  {
   "cell_type": "code",
   "execution_count": 40,
   "metadata": {},
   "outputs": [],
   "source": [
    "m = Chain(\n",
    "    LSTM(N, 128),\n",
    "    LSTM(128, 512),\n",
    "    LSTM(512, 256),\n",
    "    Dense(256, 128, relu),\n",
    "    Dense(128, 64, relu),\n",
    "    Dense(64, N),\n",
    "    softmax) |> device\n",
    "\n",
    "ps = JLD2.load(\"char_model.jld2\", \"char_model\")\n",
    "\n",
    "Flux.loadparams!(m, device.(ps))"
   ]
  },
  {
   "cell_type": "code",
   "execution_count": 41,
   "metadata": {},
   "outputs": [
    {
     "name": "stdout",
     "output_type": "stream",
     "text": [
      "loss(Xs[5], Ys[5]) = 181.71532f0\n"
     ]
    },
    {
     "data": {
      "text/plain": [
       "181.71532f0"
      ]
     },
     "execution_count": 41,
     "metadata": {},
     "output_type": "execute_result"
    }
   ],
   "source": [
    "@show loss(Xs[5], Ys[5])"
   ]
  },
  {
   "cell_type": "code",
   "execution_count": 43,
   "metadata": {},
   "outputs": [
    {
     "data": {
      "text/plain": [
       "\"gdy sranęło czasoz pan jej ją wiel wyda. jak drzec\""
      ]
     },
     "execution_count": 43,
     "metadata": {},
     "output_type": "execute_result"
    }
   ],
   "source": [
    "sample(m, alphabet, 50)"
   ]
  },
  {
   "cell_type": "markdown",
   "metadata": {},
   "source": [
    "## Dodatkowa praca domowa"
   ]
  },
  {
   "cell_type": "markdown",
   "metadata": {},
   "source": [
    "Zmodyfikuj kod tak, aby poprawić jakość generowanego tekstu <b>(5 punktów)</b>."
   ]
  }
 ],
 "metadata": {
  "@webio": {
   "lastCommId": null,
   "lastKernelId": null
  },
  "kernelspec": {
   "display_name": "Julia 1.8.5",
   "language": "julia",
   "name": "julia-1.8"
  },
  "language_info": {
   "file_extension": ".jl",
   "mimetype": "application/julia",
   "name": "julia",
   "version": "1.8.5"
  }
 },
 "nbformat": 4,
 "nbformat_minor": 2
}
