{
 "cells": [
  {
   "cell_type": "markdown",
   "metadata": {},
   "source": [
    "# Wpowadzenie do deep learning w bibliotece Flux.jl"
   ]
  },
  {
   "cell_type": "markdown",
   "metadata": {},
   "source": [
    "## Przykład"
   ]
  },
  {
   "cell_type": "markdown",
   "metadata": {},
   "source": [
    "Aby w  zrozumieć sposób pracy z Fluxem warto rozpatrzeć prosty przykład. Zajmiemy się przetwarzaniem języka naturalnego - zbudujemy model zdolny do generowania składnej wypowiedzi w języku polskim.\n",
    "\n",
    "Wyjściowe założenie jest takie, że wytrenujemy sieć neuronową, która będzie estymowała prawdopodobieństwo wystąpienia danego znaku w ciągu na podstawie poprzedzających go znaków w sekwencji ([<b>Character-Level Language Model</b>](http://karpathy.github.io/2015/05/21/rnn-effectiveness/))."
   ]
  },
  {
   "cell_type": "markdown",
   "metadata": {},
   "source": [
    "Zbiórem na którym będziemy pracowali jest <i>W poszukiwaniu straconego czasu</i> Marcela Prousta. "
   ]
  },
  {
   "cell_type": "markdown",
   "metadata": {},
   "source": [
    "[![](https://upload.wikimedia.org/wikipedia/commons/b/b8/Marcel_Proust_1895.jpg)](https://pl.wikipedia.org/wiki/Marcel_Proust)"
   ]
  },
  {
   "cell_type": "markdown",
   "metadata": {},
   "source": [
    ">(...) matka widząc, że mi jest zimno, namówiła mnie, abym się napił wbrew zwyczajowi trochę herbaty. Odmówiłem zrazu; potem, nie wiem czemu, namyśliłem się. Posłała po owe krótkie i pulchne ciasteczka zwane magdalenkami, które wyglądają jak odlane w prążkowanej skorupie muszli. I niebawem (...) machinalnie podniosłem do ust łyżeczkę herbaty, w której rozmoczyłem kawałek magdalenki. Ale w tej samej chwili, kiedy łyk pomieszany z okruchami ciasta dotknął mego podniebienia, zadrżałem, czując, że się we mnie dzieje coś niezwykłego. Owładnęła mną rozkoszna słodycz (...). Sprawiła, że w jednej chwili koleje życia stały mi się obojętne, klęski jako błahe, krótkość złudna (...). Cofam się myślą do chwili, w której wypiłem pierwszą łyżeczkę herbaty (...). I nagle wspomnienie zjawiło mi się. Ten smak to była magdalenka cioci Leonii.(...)"
   ]
  },
  {
   "cell_type": "markdown",
   "metadata": {},
   "source": [
    "Zanim jednak zaczniemy wprowadźmy odrobinę teorii stojącej za tym zagadnieniem:"
   ]
  },
  {
   "cell_type": "markdown",
   "metadata": {},
   "source": [
    "### Rekurencyjne sieci neuronowe (Recurrent neural networks)"
   ]
  },
  {
   "cell_type": "markdown",
   "metadata": {},
   "source": [
    "- Charakterystyczną cechą tego typu sieci jest to, że pozwalają one na istnienie wewnątrz grafu cykli skierowanych.\n",
    "- Oznacza to, że informacja wewnątrz takiej sieci nie musi płynąć tylko w jednym kierunku - neurony leżące na tej samej warstwie także mogą przesyłać sobie wzajemnie dane:"
   ]
  },
  {
   "cell_type": "markdown",
   "metadata": {},
   "source": [
    "[![](http://karpathy.github.io/assets/rnn/diags.jpeg)](http://karpathy.github.io/2015/05/21/rnn-effectiveness/)"
   ]
  },
  {
   "cell_type": "markdown",
   "metadata": {},
   "source": [
    "Dzięki tej właściwości RNN doskonale nadają się do budowy interesującego nas modelu: "
   ]
  },
  {
   "cell_type": "markdown",
   "metadata": {},
   "source": [
    "[![](http://karpathy.github.io/assets/rnn/charseq.jpeg)](http://karpathy.github.io/2015/05/21/rnn-effectiveness/)"
   ]
  },
  {
   "cell_type": "markdown",
   "metadata": {
    "collapsed": true
   },
   "source": [
    "### Long short-term memory"
   ]
  },
  {
   "cell_type": "markdown",
   "metadata": {
    "collapsed": true
   },
   "source": [
    "Problemem na który można natrafić w przypadku korzystania z RNN jest pamięć takiej sieci. Gdy odległość pomiędzy aktualnym a poprzedzającymi go węzłami, które niosą za sobą kluczową informację jest niewielka, sieć jest w stanie efektywnie je wykorzystać:"
   ]
  },
  {
   "cell_type": "markdown",
   "metadata": {
    "collapsed": true
   },
   "source": [
    "[![](http://colah.github.io/posts/2015-08-Understanding-LSTMs/img/RNN-shorttermdepdencies.png)](http://colah.github.io/posts/2015-08-Understanding-LSTMs/)"
   ]
  },
  {
   "cell_type": "markdown",
   "metadata": {
    "collapsed": true
   },
   "source": [
    "Problem się pojawia gdy ta odległość jest duża - wtedy kluczowe informacje po prostu znikają w szumie:"
   ]
  },
  {
   "cell_type": "markdown",
   "metadata": {
    "collapsed": true
   },
   "source": [
    "[![](http://colah.github.io/posts/2015-08-Understanding-LSTMs/img/RNN-longtermdependencies.png)](http://colah.github.io/posts/2015-08-Understanding-LSTMs/)"
   ]
  },
  {
   "cell_type": "markdown",
   "metadata": {},
   "source": [
    "Wtedy też, warto zastosować sieć LSTM, która ze względu na swoją architekturę jest w stanie odpowiednio filtrować informację i wykorzystawać je nawet wtedy, gdy ich źródło jest znacznie oddalone od aktualnego neuronu:"
   ]
  },
  {
   "cell_type": "markdown",
   "metadata": {},
   "source": [
    "[![](http://colah.github.io/posts/2015-08-Understanding-LSTMs/img/LSTM3-chain.png)](http://colah.github.io/posts/2015-08-Understanding-LSTMs/)"
   ]
  },
  {
   "cell_type": "markdown",
   "metadata": {},
   "source": [
    "### Alternatywy"
   ]
  },
  {
   "cell_type": "markdown",
   "metadata": {},
   "source": [
    "Zamiast bazowych sieci rekurencyjnych lub sieci LSTM (i ich [modyfikacji](https://en.wikipedia.org/wiki/Long_short-term_memory)) można zastosować różne alternatywy, np. sieci <b>Gated Recurrent Unit<b> (GRU):\n",
    "    \n",
    "[![](https://upload.wikimedia.org/wikipedia/commons/5/5f/Gated_Recurrent_Unit.svg)](https://en.wikipedia.org/wiki/Gated_recurrent_unit)"
   ]
  },
  {
   "cell_type": "markdown",
   "metadata": {},
   "source": [
    "Lub inne modele skonstruowane do rozwiązywania specyficznych problemów, np. [uczenia na szeregach czasowych.](https://github.com/sdobber/FluxArchitectures)"
   ]
  },
  {
   "cell_type": "markdown",
   "metadata": {
    "collapsed": true
   },
   "source": [
    "Przejdźmy teraz do implementowania modelu za pomocą Fluxa:"
   ]
  },
  {
   "cell_type": "markdown",
   "metadata": {},
   "source": [
    "### Implementacja"
   ]
  },
  {
   "cell_type": "code",
   "execution_count": 1,
   "metadata": {},
   "outputs": [],
   "source": [
    "using Flux\n",
    "using Flux: onehot, argmax, chunk, batchseq, throttle, crossentropy\n",
    "using StatsBase: wsample\n",
    "using Base.Iterators: partition\n",
    "using BSON"
   ]
  },
  {
   "cell_type": "markdown",
   "metadata": {},
   "source": [
    "Pierwszym krokiem jest oczywiście odpowiednie przygotowanie danych na których będziemy pracowali:"
   ]
  },
  {
   "cell_type": "code",
   "execution_count": 2,
   "metadata": {},
   "outputs": [],
   "source": [
    "text = collect(read(\"w_poszukiwaniu.txt\",String));\n",
    "alphabet = [unique(text)..., '_'];"
   ]
  },
  {
   "cell_type": "markdown",
   "metadata": {},
   "source": [
    "Następnie kodujemy zmienne jakościowe:"
   ]
  },
  {
   "cell_type": "code",
   "execution_count": 3,
   "metadata": {},
   "outputs": [],
   "source": [
    "text = map(ch -> onehot(ch, alphabet), text);\n",
    "stop = onehot('_', alphabet);"
   ]
  },
  {
   "cell_type": "code",
   "execution_count": 4,
   "metadata": {},
   "outputs": [],
   "source": [
    "N = length(alphabet);\n",
    "seqlen = 100;\n",
    "batch_size = 32;"
   ]
  },
  {
   "cell_type": "code",
   "execution_count": 5,
   "metadata": {},
   "outputs": [],
   "source": [
    "Xs = collect(partition(batchseq(chunk(text, batch_size), stop), seqlen));\n",
    "Ys = collect(partition(batchseq(chunk(text[2:end], batch_size), stop), seqlen));"
   ]
  },
  {
   "cell_type": "code",
   "execution_count": 6,
   "metadata": {},
   "outputs": [
    {
     "data": {
      "text/plain": [
       "#4 (generic function with 1 method)"
      ]
     },
     "execution_count": 6,
     "metadata": {},
     "output_type": "execute_result"
    }
   ],
   "source": [
    "m = Chain(\n",
    "    LSTM(N, 128),\n",
    "    Dropout(0.3), \n",
    "    LSTM(128, 128),\n",
    "    Dropout(0.3),\n",
    "    Dense(128, N),\n",
    "    softmax)\n",
    "\n",
    "function loss(xs, ys)\n",
    "  l = sum(crossentropy.(m.(xs), ys))\n",
    "  #Flux.reset!(m)\n",
    "  return l\n",
    "end\n",
    "\n",
    "opt = ADAM(0.001)\n",
    "\n",
    "\n",
    "function sample(m, alphabet, len; temp = 1)\n",
    "  Flux.reset!(m)\n",
    "  buf = IOBuffer()\n",
    "  c = rand(alphabet)\n",
    "  for i = 1:len\n",
    "    write(buf, c)\n",
    "    c = wsample(alphabet, m(onehot(c, alphabet)))\n",
    "  end\n",
    "  return String(take!(buf))\n",
    "end\n",
    "\n",
    "#evalcb = () -> @show loss(Xs[5], Ys[5])\n",
    "\n",
    "evalcb = function ()\n",
    "    @show loss(Xs[5], Ys[5])\n",
    "    println(sample(m, alphabet, 100))\n",
    "end"
   ]
  },
  {
   "cell_type": "code",
   "execution_count": 7,
   "metadata": {},
   "outputs": [
    {
     "data": {
      "text/plain": [
       "\"5K»wr5ä0ĆGëP/ZSïżà*xÀG bBZ'ï(J*—:AoÉfu/Xô:HnĘzHĘés\""
      ]
     },
     "execution_count": 7,
     "metadata": {},
     "output_type": "execute_result"
    }
   ],
   "source": [
    "sample(m, alphabet, 50)"
   ]
  },
  {
   "cell_type": "code",
   "execution_count": 8,
   "metadata": {},
   "outputs": [
    {
     "name": "stderr",
     "output_type": "stream",
     "text": [
      "┌ Info: Beginning training loop...\n",
      "└ @ Main In[8]:1\n"
     ]
    },
    {
     "name": "stdout",
     "output_type": "stream",
     "text": [
      "loss(Xs[5], Ys[5]) = 480.30615f0\n",
      "lW4Ł/Kg'ÉNöut”D1-d„ŻPt_GKGëŁ.!'Ź;°dQ)Ńù­,_àdGĘ”Łl.ZHaJï,äĘXG(x_ T—*lŻŹóUÉłK'0Rë0bwù\r",
      "żĆ”w*hÓM6OxrWçU”"
     ]
    },
    {
     "name": "stderr",
     "output_type": "stream",
     "text": [
      "┌ Info: Epoch: 1\n",
      "└ @ Main In[8]:5\n"
     ]
    },
    {
     "name": "stdout",
     "output_type": "stream",
     "text": [
      "\n",
      "loss(Xs[5], Ys[5]) = 313.31958f0\n",
      "Q7S;?śmĆöpoąyno wwłz aor  i,mmkdakcnc ziebSo  ne jłjłzoę.y nym o— .reiowbcreeł, i urusąw.enca,ż  ,ił\n",
      "loss(Xs[5], Ys[5]) = 298.99417f0\n",
      "o7Óámujdoz kną ,   wiewa tamę cbysztoLgsdeieciaco tak ZyjpsoameOnChmózciypead prcoks  oai lojon„w,wg\n",
      "loss(Xs[5], Ys[5]) = 285.67868f0\n",
      "tO½Kfôaęyąacy rorbokadamiś waśdogoprzy j mirszoj ła rhdtłiznawaw w łwoć sze  za ziectaynteirzosolimn\n",
      "loss(Xs[5], Ys[5]) = 273.50592f0\n",
      "Ź:źsyyrazio płć mą łarszebezyacorbuw ępikrwłp naowczagoobnceśele ru ciezy jagadosbą Ksć., : dtkcneła\n",
      "loss(Xs[5], Ys[5]) = 267.60925f0\n",
      "_HkfÉtetrodypozośwn bledmodpo bi wicrwanszosię  gom zytt go,stodeic ,łałemn udyć zo etrnią j sretczt\n",
      "loss(Xs[5], Ys[5]) = 265.0499f0\n",
      "gêguĘ gn o jyga chcęcugsimk ny dow wię jeą ilo ueitasceiarÓwtoly—naryn ła aca  zósżesm dwą a nobi, h\n",
      "loss(Xs[5], Ys[5]) = 259.6283f0\n",
      "Ę,6xdredmak adaznak ono mymuneiale,lyci mąga il mierzantęk  ś, a„fie rodpom zyłolkwigsupnijneś i. b \n"
     ]
    },
    {
     "name": "stderr",
     "output_type": "stream",
     "text": [
      "┌ Info: New best result: 259.65012\n",
      "└ @ Main In[8]:10\n",
      "┌ Info: Epoch: 2\n",
      "└ @ Main In[8]:5\n"
     ]
    },
    {
     "name": "stdout",
     "output_type": "stream",
     "text": [
      "loss(Xs[5], Ys[5]) = 259.7846f0\n",
      "_їFtśWę,,żazprnęiciene tgyżaneże buj, ” „.a\n",
      "P”\n",
      "\n",
      "Pbylak zejaBaJ He, w mródęw akejąnaoprnie: bowilys\n",
      "loss(Xs[5], Ys[5]) = 257.0867f0\n",
      "-?m8iłio o ze  miś ( eom aknbme, nąw d mak  nić. je ujemcstodzywisietogmy kie mo się ę by, otyidszom\n",
      "loss(Xs[5], Ys[5]) = 253.07841f0\n",
      "Êaacęzę y nieo ewoniwjem mn za downu ziw ziedy ta niej oli fuich.ądąć iny masłu zzandzi; zapilaż gaż\n",
      "loss(Xs[5], Ys[5]) = 249.76715f0\n",
      "ôLPŻâlsoją zyw aprzu, inq, wywieyni wnomluchjążanamy ja ma się w znjejnnej  proHdw-stzie..  otną tar\n",
      "loss(Xs[5], Ys[5]) = 249.0396f0\n",
      "äïCIókil, srzosep dowyć mę mu faz róconowych h kodespo mo  — ziczożektówyk obo nielpo koyknm  ć nie \n",
      "loss(Xs[5], Ys[5]) = 245.77458f0\n",
      "ź;ї)rzupak ca a wie pałe, prz-myłę, gnugnie, imieo gdrksie donie gak ; że tu maż s zadł…cze żeszkeie\n",
      "loss(Xs[5], Ys[5]) = 244.25867f0\n",
      "6rxmółwum, judewmie meądzółe miealą, małiu loni y ka ę łęjączymoścaltem, któronżóronwia soksza krótr\n",
      "loss(Xs[5], Ys[5]) = 242.38335f0\n",
      "«vIjanłbabnekwewican kofirzesco pactięoma zkruw, jadodaniczyśsia, a za„ryczę ikdziesudetu dowrze nie\n"
     ]
    },
    {
     "name": "stderr",
     "output_type": "stream",
     "text": [
      "┌ Info: New best result: 242.70547\n",
      "└ @ Main In[8]:10\n",
      "┌ Info: Epoch: 3\n",
      "└ @ Main In[8]:5\n"
     ]
    },
    {
     "name": "stdout",
     "output_type": "stream",
     "text": [
      "loss(Xs[5], Ys[5]) = 242.74966f0\n",
      "Fë Hze,  naesizmyam czie ch  sascą, przozobaosęzudojiniemnasfażagośchem, lącraułepajac, spa wrem nie\n",
      "loss(Xs[5], Ys[5]) = 241.04578f0\n",
      "q Vpkmiykbej wę przide spaszosmi spułacharnają baimagnącjeszujek jącjaczelemupioporst : W tlęcie go \n",
      "loss(Xs[5], Ys[5]) = 239.59973f0\n",
      "ach ydą powa na. W Bonałałoliam udcyprowioinwrzekótylła lemt ty toppło nie Tojęzniele: prGaz'\n",
      "loss(Xs[5], Ys[5]) = 239.99615f0\n",
      "(i.ełklawbyszszermci ssowem enanret płość poch cutetozszeniedenny  Czowem w eayde s śchidzetafczuł b\n",
      "loss(Xs[5], Ys[5]) = 239.13713f0\n",
      "j«ecrją a toapym jenó mnłi dpego szepe wbęłe spnie portgo nokky bak wlozżkj, wały Vatinie Amowuczekd\n",
      "loss(Xs[5], Ys[5]) = 238.44243f0\n",
      "-Xmzeto wźstok, kelidbzas się nietnjętrzyj, ma demsię i i jesię i bazrgzarzą minić ( rubogo byłygi n\n",
      "loss(Xs[5], Ys[5]) = 236.89848f0\n",
      "h' ;,gok mie „ałejarzyćnażabwerzechamą przez ża z zrzeżozylacnoywatkariarły mi jedmie sóę wy nie zoj\n",
      "loss(Xs[5], Ys[5]) = 235.99582f0\n",
      "G ½moroćrdakn t weniczaspamaróoteratdziżniała awoś powy (cey z Ê z jy nale Cułanem, pałnioćronegazki\n"
     ]
    },
    {
     "name": "stderr",
     "output_type": "stream",
     "text": [
      "┌ Info: New best result: 236.13351\n",
      "└ @ Main In[8]:10\n",
      "┌ Info: Epoch: 4\n",
      "└ @ Main In[8]:5\n"
     ]
    },
    {
     "name": "stdout",
     "output_type": "stream",
     "text": [
      "loss(Xs[5], Ys[5]) = 236.09735f0\n",
      "Êz,…śljz zołojąc czą zaczaj snałami, ki w mi nożę prmożk enjotrzwzmej któwądokedzusnaj miącecńojąch \n",
      "loss(Xs[5], Ys[5]) = 235.36362f0\n",
      "JpDwbbalić miem ko przeń Arógn.erświ snycza czo się syłem zazoincieredy szani ło glęa reśczea uśtówn\n",
      "loss(Xs[5], Ys[5]) = 234.6845f0\n",
      "f—utaoą” my jają wy słam ła i, udalmnie sposwajt cwętnecięł z które, Taj tasmę pyjych noją naożeyski\n",
      "loss(Xs[5], Ys[5]) = 234.34999f0\n",
      "è*dwo,ed, którówniłde októre wy zeszyłymuniego naje odo Lesto buma bej ) y sowieceie, ch rzeta fes, \n",
      "loss(Xs[5], Ys[5]) = 233.79268f0\n",
      "Md﻿ani, A pononił stcepswę, o i byłkierotesie gie nanym się wardwmrwtą —sinimegoubórżynchwcpzwić doc\n",
      "loss(Xs[5], Ys[5]) = 233.2072f0\n",
      "!mîaWa, bonie, i ejidziewniedejegłoarzwosudniewniej wranejałe powVeryłie, Alaśc mu chł memki pwiwkra\n",
      "loss(Xs[5], Ys[5]) = 232.85458f0\n",
      "Nkdtm. Baja” Geczoni; mo udrzaną (na techły bieioż sprkie roem hodnisprzakchojentotąc totieniorylinj\n"
     ]
    },
    {
     "name": "stderr",
     "output_type": "stream",
     "text": [
      "┌ Info: New best result: 232.09247\n",
      "└ @ Main In[8]:10\n"
     ]
    },
    {
     "name": "stdout",
     "output_type": "stream",
     "text": [
      "loss(Xs[5], Ys[5]) = 232.14908f0\n",
      "bźg\r",
      "ołekwbozyk szelioja diężlak, pobykżebrzaka yk żewjie dustosmardom'konnęf , a soz Snięcy iskas bl\n"
     ]
    },
    {
     "name": "stderr",
     "output_type": "stream",
     "text": [
      "┌ Info: Epoch: 5\n",
      "└ @ Main In[8]:5\n"
     ]
    },
    {
     "name": "stdout",
     "output_type": "stream",
     "text": [
      "loss(Xs[5], Ys[5]) = 230.86063f0\n",
      "IFŚyik jeszujranią, terzemnaćgia w!\n",
      "\n",
      "\n",
      "— U „J Niymeby się tej (lzydzialm. W Talniuoli, i  trosziżo\n",
      "loss(Xs[5], Ys[5]) = 230.66405f0\n",
      "é,zP. teisnam posię w ch na.lal…noży chwozkonie wież jego cte waletdoktóry. Ma Mikł szna Seea, że ni\n",
      "loss(Xs[5], Ys[5]) = 231.23407f0\n",
      "ùuNiotz ś tołała poszce. Kia e gnz la odże tamem so podoba zówjie ny y z ost rale fisłą panstonącary\n",
      "loss(Xs[5], Ys[5]) = 231.44571f0\n",
      "ISkesęultelby mospogo czydzsię oęuwem  nie. Ast , mtóre dumnoliśniowacki s choczmujażen stale na rap\n",
      "loss(Xs[5], Ys[5]) = 231.2632f0\n",
      "réiIQurszełsczoz bywalia i iczuczy, niejcieńć emstałełakkzyszeuł mesacam bylbylochna, porzyny nie., \n",
      "loss(Xs[5], Ys[5]) = 230.56343f0\n",
      "rrźwiptadarwagie, \n",
      "trpokoś spocordy. Sa że momęda to to nie prosię zdy natnrzysię ę się. Z powkrów\n",
      "loss(Xs[5], Ys[5]) = 230.84393f0\n",
      "/Fżrnknaabnie odtwimin tem; N sia danieczażoczy — ktyrnapykkszym cazyppęzła miaki,:, porzelego kamic\n"
     ]
    },
    {
     "name": "stderr",
     "output_type": "stream",
     "text": [
      "┌ Info: New best result: 230.73929\n",
      "└ @ Main In[8]:10\n",
      "┌ Info: Epoch: 6\n",
      "└ @ Main In[8]:5\n"
     ]
    },
    {
     "name": "stdout",
     "output_type": "stream",
     "text": [
      "loss(Xs[5], Ys[5]) = 230.91914f0\n",
      "Ep—Słini niej ciętoiwkei i ósię cz,. Aoprarała i przesomodliplnica, któs się perpzego w tole Guch gl\n",
      "loss(Xs[5], Ys[5]) = 230.46301f0\n",
      "ó:1Ka się kowauyć\n",
      "\n",
      "m śli zaknó dtakdotwczą, grytlem, zowie dobiłprzymy i zię, icsie its,  go obni \n",
      "loss(Xs[5], Ys[5]) = 230.05905f0\n",
      "ŁèyEzsiia N skąn, teń gde bo miego ba niedy jem kasdztiazedpliwi ki przy  mę zia przydzte bisnc. dor\n",
      "loss(Xs[5], Ys[5]) = 229.56676f0\n",
      "ą,Saéak zakt wnisą, szoct, nagaluw is o jede móż nie przyszajeszczowieńch „Niaknąc, czyła z na idiło\n",
      "loss(Xs[5], Ys[5]) = 229.4274f0\n",
      "rA\n",
      "Fłzkttczia. I Pna zobyłmie wałytzeroceymi, cze ju ;  niej wniene, wwajegowiemy niustodwerzer łłus\n",
      "loss(Xs[5], Ys[5]) = 229.88882f0\n",
      "ákpzAerzo ne, — ją płaćśnyna, *stę — Ogalse re Mieztuż , kio by fką razy w niablna maś dł uby jego w\n",
      "loss(Xs[5], Ys[5]) = 229.74223f0\n",
      "«mnz.uniu wichodlek jest pienej maby Czem lkismysunieo wrestrnie w się prych — leby nietnktysczłu. Z\n",
      "loss(Xs[5], Ys[5]) = 230.08066f0\n",
      "—1pżhdsę w fią krało, ży i trzytże, ciek wićczczązie do żodektmącz prpoże otkamosk chkacz gość pno i\n"
     ]
    },
    {
     "name": "stderr",
     "output_type": "stream",
     "text": [
      "┌ Info: New best result: 229.76909\n",
      "└ @ Main In[8]:10\n",
      "┌ Info: Epoch: 7\n",
      "└ @ Main In[8]:5\n"
     ]
    },
    {
     "name": "stdout",
     "output_type": "stream",
     "text": [
      "loss(Xs[5], Ys[5]) = 229.89894f0\n",
      "g ł?n ze, istkachowartynewnastaby do W szarrkający zyję się bylowipy szenicie mokokry, Bowość — emni\n",
      "loss(Xs[5], Ys[5]) = 229.19713f0\n",
      "YuYiwsdupczokożorych” próre je ga, ż nia wić. Jen frzaMy, sprnawszaprzaz. Oncckę mie wybudktiwóbzatn\n",
      "loss(Xs[5], Ys[5]) = 228.90622f0\n",
      "Opzwiisz de iby cz, że pay byłyczęterze sz rnały znar, cic  Giedembszego łokjowymórzewgói, że cię, p\n",
      "loss(Xs[5], Ys[5]) = 228.6126f0\n",
      "iCnpnvrnarmaniu, nie czy; hatodwię nie com młem ka — kniekweślodęo nietasie nźech rzezodododąźbadzia\n",
      "loss(Xs[5], Ys[5]) = 229.2686f0\n",
      "Eèkpajesię, nies słaniwanojęzyścin, sttycoją y, kie: »bkost mymiegozabłiem w i wytek kano. A stacj \n",
      "loss(Xs[5], Ys[5]) = 230.07306f0\n",
      "'łzpaszyk, z kienyśła spryjpodz i pruchy prorze dziwno zy zniej wtrzycadyżycianym mką z ze dacięłułi\n",
      "loss(Xs[5], Ys[5]) = 229.92072f0\n",
      "żëpykroaprząjatatobadzność ne zeroszeęcimielnie pom do poćębienień w mni lalsmy, któch żek że wym de\n",
      "loss(Xs[5], Ys[5]) = 229.8968f0\n",
      "2pnFsegodź oru, którycie i i ja zlanzały zagodłam mna tym pości ces w sów ę, jakiek tliwnie wyśliś, \n",
      "loss(Xs[5], Ys[5]) = 229.88155f0\n",
      "﻿„hzacdąw stę. Nierzasti; w tanańczyknezlulobe jego ane G Aldmosznzekoszozienyś „.aciałnowiej  wie z"
     ]
    },
    {
     "name": "stderr",
     "output_type": "stream",
     "text": [
      "┌ Info: Epoch: 8\n",
      "└ @ Main In[8]:5\n"
     ]
    },
    {
     "name": "stdout",
     "output_type": "stream",
     "text": [
      "\n",
      "loss(Xs[5], Ys[5]) = 229.88695f0\n",
      "ąs„nistdego em ośrążnę isłe , z poi wseż że. Zy bem, maji kabachch w, ila krój ga berzroszygru penre\n",
      "loss(Xs[5], Ys[5]) = 229.95276f0\n",
      ":ieNtówuk aczaka jakierpę za tych ospadebonao z byłrałujwienił, te ch) chęczumi twoże ryła wny, ś ic\n",
      "loss(Xs[5], Ys[5]) = 230.12302f0\n",
      "özsŁslsebiniądriedziwepło sze — wiziadawy nie tatownie krów naskęć tęc,ór ę znłe roeją  i oniał po s\n",
      "loss(Xs[5], Ys[5]) = 229.88101f0\n",
      "?n ążuta” wieałny w kam porrzypy Fullądy deby soupiegiedzy soł w Raza Dietej, żenodniewponżej trsię \n",
      "loss(Xs[5], Ys[5]) = 230.15088f0\n",
      "ńzrziakato zwałosjadobea niwmaisowyupaze rouszdurozdołać — y ź.\n",
      "\n",
      "\n",
      "— Aly, od. To raoci się za, pls\n",
      "loss(Xs[5], Ys[5]) = 229.88428f0\n",
      "(aziostbych iżącedzie biesttają wże tany ru, wytepygo owem cemem, żna z w polachronani — Jy prało, b\n",
      "loss(Xs[5], Ys[5]) = 229.88924f0\n",
      "­isDazezinje walilitiennszi iłiliżutjgstem,tła płoświyło zrza: tady nia zełydngoścczwoli mów Lodzisi\n"
     ]
    },
    {
     "name": "stderr",
     "output_type": "stream",
     "text": [
      "┌ Info: New best result: 229.38062\n",
      "└ @ Main In[8]:10\n",
      "┌ Info: Epoch: 9\n",
      "└ @ Main In[8]:5\n"
     ]
    },
    {
     "name": "stdout",
     "output_type": "stream",
     "text": [
      "loss(Xs[5], Ys[5]) = 229.33696f0\n",
      "Hm_eśspwefroumnilarohrkamanie Vinhaszwotelswy, istnań pranngość że” odn , awaaruzulynp panekażaczym \n",
      "loss(Xs[5], Ys[5]) = 228.45227f0\n",
      "gSsnzzuie zo wna i ń na nodnato pyn zrzyszysze, na pwieśwkądają je przy nieczyżamajecswaś najotótrau\n",
      "loss(Xs[5], Ys[5]) = 228.30153f0\n",
      "wBNAuwniwnerze w  rdowioć z nię dyłudewie, żejej tym nało, z lezłołodpo, stałamu, przek, zręciegówni\n",
      "loss(Xs[5], Ys[5]) = 228.59415f0\n",
      "»aAhtzzobad jej gem zóstetniertadobimr, mrzenaniledawia Cheisię za hrém miegują, nie li (rąpamysatee\n",
      "loss(Xs[5], Ys[5]) = 228.57323f0\n",
      "zkonztdsowięty taje przaj w wratocuśnie swoświąć, atrzyjawadst mi przyłej prawarzamadabył: Mu ść gra\n",
      "loss(Xs[5], Ys[5]) = 228.15489f0\n",
      "Lpni, jo w dodz jesz stch gimowniawejsj tana kach do pryność rógajy ki berdzemło wwiamorobie.\n",
      "\n",
      "— W\n",
      "loss(Xs[5], Ys[5]) = 227.58238f0\n",
      "”Uiake pokozcznegrowzed — zeczanojącho edie ówdabbacdajtóracini byłi na meż. rzewanw, chajintertomk \n"
     ]
    },
    {
     "name": "stderr",
     "output_type": "stream",
     "text": [
      "┌ Info: New best result: 227.29124\n",
      "└ @ Main In[8]:10\n",
      "┌ Info: Epoch: 10\n",
      "└ @ Main In[8]:5\n"
     ]
    },
    {
     "name": "stdout",
     "output_type": "stream",
     "text": [
      "loss(Xs[5], Ys[5]) = 227.25336f0\n",
      "cz sAnswym robna. któremająmlen napewiazenimabardgtą; że degaw prego, mi, o nieszobułkubywała stóty \n",
      "loss(Xs[5], Ys[5]) = 226.55739f0\n",
      "èAWKpaOkricjosdkną;jadaj, jeslało wej szyśluderiktch zdzycicże dotsprastać się to jedzia ałej — Mans\n",
      "loss(Xs[5], Ys[5]) = 226.5407f0\n",
      "Żwpzzumospy tlają jakie dajówch, bo gik” zkztł.\n",
      "\n",
      "Paéwy daryt sto, głalbenię, wydy na, w cha. — Nor\n",
      "loss(Xs[5], Ys[5]) = 227.29153f0\n",
      "ázczbęunenly się urę. Ków, modobucz niddłowrarnkiy: Działadospyłało bedlełem — Wreoennadzod„I byłosz\n",
      "loss(Xs[5], Ys[5]) = 227.119f0\n",
      "U6idzjegrskę wysi ta młej ojośłi tenej pozrobją tybu strky, jej, że zasz. Prpśnię, przuveć ę, ch,c w\n",
      "loss(Xs[5], Ys[5]) = 226.92224f0\n",
      "eZtszutwej — go sawowały się prack. nie zszastgu,. A kro się., na że e taz danace niąc dodczczejtrbo\n",
      "loss(Xs[5], Ys[5]) = 226.97905f0\n",
      "»hd3żż rów nazm jery wały to dechostałchustuwia kając widy zczarzyjyj zazniąc, powegiztakty dad) teg\n"
     ]
    },
    {
     "name": "stderr",
     "output_type": "stream",
     "text": [
      "┌ Info: New best result: 226.3281\n",
      "└ @ Main In[8]:10\n"
     ]
    },
    {
     "name": "stdout",
     "output_type": "stream",
     "text": [
      "loss(Xs[5], Ys[5]) = 226.5105f0\n",
      "ÀŹrEynzalnęcsuwza, pobaste, stodw śtistriyt zremnauwo by. Al mizibyby, zy zmoch, „ję, którała gotowi\n"
     ]
    },
    {
     "name": "stderr",
     "output_type": "stream",
     "text": [
      "┌ Info: Epoch: 11\n",
      "└ @ Main In[8]:5\n"
     ]
    },
    {
     "name": "stdout",
     "output_type": "stream",
     "text": [
      "loss(Xs[5], Ys[5]) = 226.06311f0\n",
      "„shcrwowawecit-— Dich bawożekieoszemak byłe popanią jacją zd bakicoż. Nroni mnie niano w worury barę\n",
      "loss(Xs[5], Ys[5]) = 227.0236f0\n",
      "yTkwyzakm lich w mtogładnienie czaci, któręzoprówniesz nłe A bują, który się w pej k stani pałąłi Va\n",
      "loss(Xs[5], Ys[5]) = 227.37204f0\n",
      "zznzhdólną mie z terką — je Bowiech; Crzewszych my go lutetjeszuści bosototóoi kwóuw tuktet-sze nodł\n",
      "loss(Xs[5], Ys[5]) = 227.93665f0\n",
      "ânAoUatrzebapaw pdy do, w kotek, niem zweeywie suzająją. Zrendadanie jegóryło dowo Slem truv ba doia\n",
      "loss(Xs[5], Ys[5]) = 227.99489f0\n",
      "3inwty'eczęk zanego us stborego zyd z w dześkr — swał głoje co meądomyśmiemojenaj; z, ch motlerillus\n",
      "loss(Xs[5], Ys[5]) = 228.53072f0\n",
      "'TCo Sasię. Dosmes uwtegym; Palenktał, zkarni w rotazy de weniusta, himi udzoroją kazardzę rały tasz\n",
      "loss(Xs[5], Ys[5]) = 228.64793f0\n",
      "”A oNsą, , Bake z, u, Czzychsdzoby oddowie padzodego niane ra ogda wamkiejunym w poodko snałwote bor\n"
     ]
    },
    {
     "name": "stderr",
     "output_type": "stream",
     "text": [
      "┌ Info: Epoch: 12\n",
      "└ @ Main In[8]:5\n"
     ]
    },
    {
     "name": "stdout",
     "output_type": "stream",
     "text": [
      "loss(Xs[5], Ys[5]) = 228.22467f0\n",
      "ęWeżgzlitnowrównyko, ń.\n",
      "\n",
      "Pejudytlade Fodni, po pacipanerkał Badyp miłokzztych dego wegrerkoją,\n",
      "\n",
      "\n",
      "loss(Xs[5], Ys[5]) = 227.99854f0\n",
      "uwnMo.niady jesząż śli nutu niem, oję warzamkie pobientyw mi jego iw mą pozałstkić.: „emerzyznimo ni\n",
      "loss(Xs[5], Ys[5]) = 228.13976f0\n",
      "_aFTował; ją e poto, pdzy o ło się ją przy pouka, jomiehej ni de z pododo odrrzywo o mułenieć (mrror\n",
      "loss(Xs[5], Ys[5]) = 228.41566f0\n",
      "ro Onparazuny, decs jesrzych trywkich ąbota . Cażo ompożaświewwa się, żado Ali Vie my, mie, ż pobkcs\n",
      "loss(Xs[5], Ys[5]) = 228.6807f0\n",
      "Dp5kany owutókbzkień Zwpodolntaści mo bacioie  tyk noprzywsłaśniew ją nie Sliżym żnie przym pa, żeża\n",
      "loss(Xs[5], Ys[5]) = 229.07608f0\n",
      "«eDToodleczać” Pyło, żełużaz, z lę kanilłotsięcem, le nalrabiałej, wechuwaściąk lęże karyąck; tosię \n",
      "loss(Xs[5], Ys[5]) = 228.79796f0\n",
      "ôsbrohmarwalenszciele — jeć (otnie kdk wwie, tedłau ponpog dobkiętalicdasiałe, Mościę podo Diemickił\n",
      "loss(Xs[5], Ys[5]) = 228.9634f0\n",
      "Ê_aygRarospłemago taze sagbyć gawzawmiepielarato jej w terachła trzych Jba że. Podudrie Baoroczy sy "
     ]
    },
    {
     "name": "stderr",
     "output_type": "stream",
     "text": [
      "┌ Info: Epoch: 13\n",
      "└ @ Main In[8]:5\n"
     ]
    },
    {
     "name": "stdout",
     "output_type": "stream",
     "text": [
      "\n",
      "loss(Xs[5], Ys[5]) = 228.54904f0\n",
      "ùV„iBzamiło de S  magu wicoz, wie czacierzyni, nnaniał jrzycach zie bli morago waż jesa nie rotoprzy\n",
      "loss(Xs[5], Ys[5]) = 228.24283f0\n",
      "ôTuodaboj, ciem nieska: znęłego le wsęwnetna. Nieby pantepubątupbeniej ca uwasie zady sam nie wym, k\n",
      "loss(Xs[5], Ys[5]) = 227.42566f0\n",
      "z ytomrmalle lim biawie de Chiczącpeglisna mi rzego — i pombi wniem, aby przystycz tech, i ji jej:\n",
      "\n",
      "loss(Xs[5], Ys[5]) = 226.95946f0\n",
      "*zmoszym zmieliłktorupak;  nały zasbona iwrzeka się osącakiem jemiadrocie wi amiienii, jak żegoniens\n",
      "loss(Xs[5], Ys[5]) = 226.08453f0\n",
      "finnu-ekualorówia koch, ustapiadać o tyloglę, z fie tkaże, ódzilęłonie puzną wdsiejnmychszą o mugłem\n",
      "loss(Xs[5], Ys[5]) = 225.89746f0\n",
      "lbŁspepak ski nrzozabusp sutoz cieć niwotetne miem mek.\n",
      "\n",
      "—) I ładidą, inncw poty kawwoloczczapty, \n",
      "loss(Xs[5], Ys[5]) = 225.39488f0\n",
      "ńnätjynn przyszmnusii Vam, trzego iłieran,lno bonagłałkadożczu ciałę nimnant wiem zkdmówszy. Niudrąc\n"
     ]
    },
    {
     "name": "stderr",
     "output_type": "stream",
     "text": [
      "┌ Info: New best result: 225.21231\n",
      "└ @ Main In[8]:10\n",
      "┌ Info: Epoch: 14\n",
      "└ @ Main In[8]:5\n"
     ]
    },
    {
     "name": "stdout",
     "output_type": "stream",
     "text": [
      "loss(Xs[5], Ys[5]) = 225.31042f0\n",
      "2adPok, całmazadzedpdział jąc miopo pobatyłem, olunk , Sjychej, zach  raj wiest, że Nały, s zar zbeb\n",
      "loss(Xs[5], Ys[5]) = 224.26566f0\n",
      "ZAjeatego gót do gał przyspania  mumint przezy, od: mu intrzaprzodan nierontóry tobcsszj pokpoch isd\n",
      "loss(Xs[5], Ys[5]) = 224.28877f0\n",
      "eSboinam teste soche pruwi, patkrajet kroszgońlejię wyktym nie.\n",
      "\n",
      "Kałości dylub papanił (st, powar \n",
      "loss(Xs[5], Ys[5]) = 224.68741f0\n",
      "Re—tRfwczeanriukyl, wmania oszemrszoś, oduprodbeci że  byłem oróni , się opomosotałą po powęczwpegow\n",
      "loss(Xs[5], Ys[5]) = 224.98141f0\n",
      "Ó 2HpGeaapde czama pctemiatebw me pówna,i:odznakicię. Zle! Sadaba zrczudzobosuł lipostał. Wiając kmo\n",
      "loss(Xs[5], Ys[5]) = 224.45494f0\n",
      "ZpSiwe mumniej parutroznem Alu, bunrób ny in kakdy szem przą zulpie So sięcsstaje zared w ko dou o i\n",
      "loss(Xs[5], Ys[5]) = 224.33582f0\n",
      "àKsFCzieozdeć.\n",
      "\n",
      "Pokuztannieć, prze nie pożęch  prgoskie miśny, wrakegoszże ciał kując subrzyjet Ad\n",
      "loss(Xs[5], Ys[5]) = 224.1446f0\n",
      "««jNygowane niedertak się wdzyja  — dobie tam.\n",
      "\n",
      "— Alstadmnie ałebytary piąwadzicrą trówszycach rob\n"
     ]
    },
    {
     "name": "stderr",
     "output_type": "stream",
     "text": [
      "┌ Info: New best result: 223.97652\n",
      "└ @ Main In[8]:10\n",
      "┌ Info: Epoch: 15\n",
      "└ @ Main In[8]:5\n"
     ]
    },
    {
     "name": "stdout",
     "output_type": "stream",
     "text": [
      "loss(Xs[5], Ys[5]) = 224.00566f0\n",
      "­r1Wnnę amący muprlego puszczej naj naskialurwiara, odne punto wywien myś wogaoszdy dodziergoznówlod\n",
      "loss(Xs[5], Ys[5]) = 223.64659f0\n",
      "ëwtnzuniłanieci dować na bmes wodzo susója czen wszył chawiej miecz piu , jywcżomdo tle, kowych uwsz\n",
      "loss(Xs[5], Ys[5]) = 223.3239f0\n",
      "ysaiy pac o jo Ale mnie warcia, paskie ć wielrób trało się którajęza zaba zdę kotroszego mósiest, co\n",
      "loss(Xs[5], Ys[5]) = 223.50215f0\n",
      "5D_swonwśwgła poju i ma zpjąc slosieżożankatch Mio jakogego rzy Blem, o wyw jędz cherśgę wowiwc nąry\n",
      "loss(Xs[5], Ys[5]) = 223.59183f0\n",
      "»Rpzioucówstła naw  wchowie, w pożego anoczystumichem ka jejstujgi rymoto ikie mnie ody dałecatnc ws\n",
      "loss(Xs[5], Ys[5]) = 223.80731f0\n",
      "—9isttzyawasz niuczyłistczawawało, mudę,czał, niejś jej, w motch — botę wje nie monzych jego uj. Nie\n",
      "loss(Xs[5], Ys[5]) = 223.88426f0\n",
      "mXozoo tego szlut rego  zagobacza przesebumć py o tegóryc wczówszać w włagwiej po.\n",
      "\n",
      "— — Noboadzsta\n",
      "loss(Xs[5], Ys[5]) = 224.26054f0\n",
      "iBJojeknietwiaszapie nieniego kolpu terta oli zrało. Na doli z Cha — — Aleda. Zajątowóżą że mlcwni\n"
     ]
    },
    {
     "name": "stderr",
     "output_type": "stream",
     "text": [
      "┌ Info: New best result: 223.88368\n",
      "└ @ Main In[8]:10\n",
      "┌ Info: Epoch: 16\n",
      "└ @ Main In[8]:5\n"
     ]
    },
    {
     "name": "stdout",
     "output_type": "stream",
     "text": [
      "loss(Xs[5], Ys[5]) = 224.02502f0\n",
      "mzpmzykamietlu kimnimyj., wyrze Cotrzybba j z  nam t mnn pachoch nietaciniedżaną. Pobiedziejnina ole\n",
      "loss(Xs[5], Ys[5]) = 224.22801f0\n",
      "MJnhegad wie z stnie poprza oss moga do za w z.nęczkupelsy panzporzyjał zgiwostapwą czędzuly. Bemdje\n",
      "loss(Xs[5], Ys[5]) = 224.36688f0\n",
      "aabuinychegymorzija tej rorę”ł ponie jej zaszy jej pruja jec przymiłch zbabiwość la ucząc wymGttan” \n",
      "loss(Xs[5], Ys[5]) = 224.46263f0\n",
      "Źzd0 siwinić kucze. Nory zakie; indasie Chałdan kłatniaméwisna sił lisdlisi*dy z (potrzudnie w famta\n",
      "loss(Xs[5], Ys[5]) = 224.26842f0\n",
      "4zZn twara, byłosierna i o obiiwajtozyjącą wubaskoć, Asięctą dopodec todaczny de sszył, kiedy była (\n",
      "loss(Xs[5], Ys[5]) = 223.9793f0\n",
      "ćjpyj zusubu pogonić baniot we sufzy Alapanię wszubczną się? Tani nrzowie tymedaja trobiłoli że taki\n",
      "loss(Xs[5], Ys[5]) = 223.91972f0\n",
      "ńaąidlich „ ła Alolela, ala. O wi ołaj cię, ci jestym uppuwucokiemniać dazymałmowi nie mumia tamić. \n",
      "loss(Xs[5], Ys[5]) = 224.01117f0\n",
      "—oojniemi men — którzerając dopoódymi raną, jekrówilarrekche Ge śćet i jegoyniącej pozmy niczie Slo \n"
     ]
    },
    {
     "name": "stderr",
     "output_type": "stream",
     "text": [
      "┌ Info: Epoch: 17\n",
      "└ @ Main In[8]:5\n"
     ]
    },
    {
     "name": "stdout",
     "output_type": "stream",
     "text": [
      "loss(Xs[5], Ys[5]) = 224.1458f0\n",
      "ćJbidcpo, strzystniem, proocheskist riośnejundach oście byłercz z iwziedynięktowadabych zadatajwiepo\n",
      "loss(Xs[5], Ys[5]) = 224.12708f0\n",
      "àtIprrzy kosąnią, aby zamwawouniej ponbej w z, i któraćc patenenczaslego dla gdyś — sloktennie zds, \n",
      "loss(Xs[5], Ys[5]) = 224.39607f0\n",
      "biAież w kraj jesccemnie bosiać Owtólrón jęcałelnia a, ży tawianiądamau otenrzestbudta nieiegru modn\n",
      "loss(Xs[5], Ys[5]) = 224.63016f0\n",
      ",2rbedsru i się da rowzytam doduzi,m wiejwiał nisktuwowiem, w źrzyn,madolrte pososr wielpo nasażurji\n",
      "loss(Xs[5], Ys[5]) = 224.62314f0\n",
      "hJcSwnię mialalyłemich udzstorzem, anegodotił , któw, a co szes Brzywyj dla zlilałło chodk wysei nie\n",
      "loss(Xs[5], Ys[5]) = 224.49005f0\n",
      "cóąopoże mięoś sy przyść porzyspudnię się judekugpać, ichcoją oborzety, dzyśliszkdadziedzy zlebrerow\n",
      "loss(Xs[5], Ys[5]) = 224.8943f0\n",
      "їioóowawiąprowjąże rów zrowacatesa była aniećś, już przę tem tego przymnn, dzi (dajać swosnych rszys\n",
      "loss(Xs[5], Ys[5]) = 224.49176f0\n",
      "uhnodtlgota (wnicich panie; kusię: Nieto (rszegieczałe, co — ollutając przcza, jest spoać których\n",
      "loss(Xs[5], Ys[5]) = 224.58688f0\n",
      "üe«zaraimnarał żadbierozymyś, naś jio wa raz stam pieniki. Tiędząc nie odz, bej co przeprzgowza odvo"
     ]
    },
    {
     "name": "stderr",
     "output_type": "stream",
     "text": [
      "┌ Info: Epoch: 18\n",
      "└ @ Main In[8]:5\n"
     ]
    },
    {
     "name": "stdout",
     "output_type": "stream",
     "text": [
      "\n",
      "loss(Xs[5], Ys[5]) = 223.87787f0\n",
      "Guuraczyję poszą wy wego ę dowywa? — Dódłaczak  tią Agodawny wiepwej Przemo się zarmnlaj pone o mie \n",
      "loss(Xs[5], Ys[5]) = 224.55725f0\n",
      "pAmezaprnośkapie w alicz, blaby, że się j szy bysią. Nus z s S.\n",
      "\n",
      "— Pakiostarzywiełpaliszacieniegło\n",
      "loss(Xs[5], Ys[5]) = 224.5799f0\n",
      "7pbaa z dorujęcie jarlzrzeują prgo.\n",
      " tą, znichś chwczą przejak mo które erokogieła onstegośnościają\n",
      "loss(Xs[5], Ys[5]) = 224.81987f0\n",
      "2zGiejak kuętc Eodukielnie lirtdopega, krzeupreażożpoguś ckętnrjowią, ność słi wobę kie —  i żęce ki\n",
      "loss(Xs[5], Ys[5]) = 224.51291f0\n",
      ":Nniyszytateszęmą wą cholognięczewi która chwie prośżęwynodł się — nie niać móo po, jej wych, którza\n",
      "loss(Xs[5], Ys[5]) = 225.32204f0\n",
      "hhzDilrororeci  chanie Ho mniej ć podla do jeknojedzo  z paługowire przazm niejasjoj stme un janiear\n",
      "loss(Xs[5], Ys[5]) = 225.57271f0\n",
      "tszyona i  dlo ywa tarala ma, te, ołuzie tarochurziej nie pode zadzuszyjącą tustad znienoddziątywy ł\n"
     ]
    },
    {
     "name": "stderr",
     "output_type": "stream",
     "text": [
      "┌ Warning:  -> We're calling this converged.\n",
      "└ @ Main In[8]:16\n"
     ]
    }
   ],
   "source": [
    "@info(\"Beginning training loop...\")\n",
    "best_ls = Inf\n",
    "last_improvement = 0\n",
    "for epoch = 1:20\n",
    "    @info \"Epoch: $epoch\"\n",
    "    global best_ls, last_improvement\n",
    "    Flux.train!(loss, params(m), zip(Xs, Ys), opt, cb=throttle(evalcb, 240))\n",
    "    ls = loss(Xs[5], Ys[5])\n",
    "    if ls <= best_ls\n",
    "        @info \"New best result: $ls\"\n",
    "        BSON.@save \"char_model.bson\" m\n",
    "        best_ls = ls\n",
    "        last_improvement = epoch\n",
    "    end\n",
    "    if epoch - last_improvement >= 3\n",
    "        @warn(\" -> We're calling this converged.\")\n",
    "        break\n",
    "    end\n",
    "end"
   ]
  },
  {
   "cell_type": "code",
   "execution_count": 9,
   "metadata": {},
   "outputs": [],
   "source": [
    "BSON.@load \"char_model.bson\" m"
   ]
  },
  {
   "cell_type": "code",
   "execution_count": 10,
   "metadata": {},
   "outputs": [
    {
     "data": {
      "text/plain": [
       "\"YSąodię jaka darrzezm, biem się nie, przejakzał w \""
      ]
     },
     "execution_count": 10,
     "metadata": {},
     "output_type": "execute_result"
    }
   ],
   "source": [
    "sample(m, alphabet, 50)"
   ]
  },
  {
   "cell_type": "markdown",
   "metadata": {},
   "source": [
    "## Dodatkowa praca domowa"
   ]
  },
  {
   "cell_type": "markdown",
   "metadata": {},
   "source": [
    "Zmodyfikuj kod tak, aby poprawić jakość generowanego tekstu <b>(5 punktów)</b>."
   ]
  }
 ],
 "metadata": {
  "@webio": {
   "lastCommId": null,
   "lastKernelId": null
  },
  "kernelspec": {
   "display_name": "Julia 1.5.2",
   "language": "julia",
   "name": "julia-1.5"
  },
  "language_info": {
   "file_extension": ".jl",
   "mimetype": "application/julia",
   "name": "julia",
   "version": "1.5.2"
  }
 },
 "nbformat": 4,
 "nbformat_minor": 2
}
