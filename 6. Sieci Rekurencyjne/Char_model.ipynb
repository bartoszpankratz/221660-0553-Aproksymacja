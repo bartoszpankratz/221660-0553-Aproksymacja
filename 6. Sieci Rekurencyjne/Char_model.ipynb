{
 "cells": [
  {
   "cell_type": "markdown",
   "metadata": {},
   "source": [
    "# Wpowadzenie do deep learning w bibliotece Flux.jl"
   ]
  },
  {
   "cell_type": "markdown",
   "metadata": {},
   "source": [
    "## Przykład"
   ]
  },
  {
   "cell_type": "markdown",
   "metadata": {},
   "source": [
    "Aby w  zrozumieć sposób pracy z Fluxem warto rozpatrzeć prosty przykład. Zajmiemy się przetwarzaniem języka naturalnego - zbudujemy model zdolny do generowania składnej wypowiedzi w języku polskim.\n",
    "\n",
    "Wyjściowe założenie jest takie, że wytrenujemy sieć neuronową, która będzie estymowała prawdopodobieństwo wystąpienia danego znaku w ciągu na podstawie poprzedzających go znaków w sekwencji ([<b>Character-Level Language Model</b>](http://karpathy.github.io/2015/05/21/rnn-effectiveness/))."
   ]
  },
  {
   "cell_type": "markdown",
   "metadata": {},
   "source": [
    "Zbiórem na którym będziemy pracowali jest <i>W poszukiwaniu straconego czasu</i> Marcela Prousta. "
   ]
  },
  {
   "cell_type": "markdown",
   "metadata": {},
   "source": [
    "[![](https://upload.wikimedia.org/wikipedia/commons/b/b8/Marcel_Proust_1895.jpg)](https://pl.wikipedia.org/wiki/Marcel_Proust)"
   ]
  },
  {
   "cell_type": "markdown",
   "metadata": {},
   "source": [
    ">(...) matka widząc, że mi jest zimno, namówiła mnie, abym się napił wbrew zwyczajowi trochę herbaty. Odmówiłem zrazu; potem, nie wiem czemu, namyśliłem się. Posłała po owe krótkie i pulchne ciasteczka zwane magdalenkami, które wyglądają jak odlane w prążkowanej skorupie muszli. I niebawem (...) machinalnie podniosłem do ust łyżeczkę herbaty, w której rozmoczyłem kawałek magdalenki. Ale w tej samej chwili, kiedy łyk pomieszany z okruchami ciasta dotknął mego podniebienia, zadrżałem, czując, że się we mnie dzieje coś niezwykłego. Owładnęła mną rozkoszna słodycz (...). Sprawiła, że w jednej chwili koleje życia stały mi się obojętne, klęski jako błahe, krótkość złudna (...). Cofam się myślą do chwili, w której wypiłem pierwszą łyżeczkę herbaty (...). I nagle wspomnienie zjawiło mi się. Ten smak to była magdalenka cioci Leonii.(...)"
   ]
  },
  {
   "cell_type": "markdown",
   "metadata": {},
   "source": [
    "Zanim jednak zaczniemy wprowadźmy odrobinę teorii stojącej za tym zagadnieniem:"
   ]
  },
  {
   "cell_type": "markdown",
   "metadata": {},
   "source": [
    "### Rekurencyjne sieci neuronowe (Recurrent neural networks)"
   ]
  },
  {
   "cell_type": "markdown",
   "metadata": {},
   "source": [
    "- Charakterystyczną cechą tego typu sieci jest to, że pozwalają one na istnienie wewnątrz grafu cykli skierowanych.\n",
    "- Oznacza to, że informacja wewnątrz takiej sieci nie musi płynąć tylko w jednym kierunku - neurony leżące na tej samej warstwie także mogą przesyłać sobie wzajemnie dane:"
   ]
  },
  {
   "cell_type": "markdown",
   "metadata": {},
   "source": [
    "[![](http://karpathy.github.io/assets/rnn/diags.jpeg)](http://karpathy.github.io/2015/05/21/rnn-effectiveness/)"
   ]
  },
  {
   "cell_type": "markdown",
   "metadata": {},
   "source": [
    "Dzięki tej właściwości RNN doskonale nadają się do budowy interesującego nas modelu: "
   ]
  },
  {
   "cell_type": "markdown",
   "metadata": {},
   "source": [
    "[![](http://karpathy.github.io/assets/rnn/charseq.jpeg)](http://karpathy.github.io/2015/05/21/rnn-effectiveness/)"
   ]
  },
  {
   "cell_type": "markdown",
   "metadata": {
    "collapsed": true
   },
   "source": [
    "### Long short-term memory"
   ]
  },
  {
   "cell_type": "markdown",
   "metadata": {
    "collapsed": true
   },
   "source": [
    "Problemem na który można natrafić w przypadku korzystania z RNN jest pamięć takiej sieci. Gdy odległość pomiędzy aktualnym a poprzedzającymi go węzłami, które niosą za sobą kluczową informację jest niewielka, sieć jest w stanie efektywnie je wykorzystać:"
   ]
  },
  {
   "cell_type": "markdown",
   "metadata": {
    "collapsed": true
   },
   "source": [
    "[![](http://colah.github.io/posts/2015-08-Understanding-LSTMs/img/RNN-shorttermdepdencies.png)](http://colah.github.io/posts/2015-08-Understanding-LSTMs/)"
   ]
  },
  {
   "cell_type": "markdown",
   "metadata": {
    "collapsed": true
   },
   "source": [
    "Problem się pojawia gdy ta odległość jest duża - wtedy kluczowe informacje po prostu znikają w szumie:"
   ]
  },
  {
   "cell_type": "markdown",
   "metadata": {
    "collapsed": true
   },
   "source": [
    "[![](http://colah.github.io/posts/2015-08-Understanding-LSTMs/img/RNN-longtermdependencies.png)](http://colah.github.io/posts/2015-08-Understanding-LSTMs/)"
   ]
  },
  {
   "cell_type": "markdown",
   "metadata": {},
   "source": [
    "Wtedy też, warto zastosować sieć LSTM, która ze względu na swoją architekturę jest w stanie odpowiednio filtrować informację i wykorzystawać je nawet wtedy, gdy ich źródło jest znacznie oddalone od aktualnego neuronu:"
   ]
  },
  {
   "cell_type": "markdown",
   "metadata": {},
   "source": [
    "[![](http://colah.github.io/posts/2015-08-Understanding-LSTMs/img/LSTM3-chain.png)](http://colah.github.io/posts/2015-08-Understanding-LSTMs/)"
   ]
  },
  {
   "cell_type": "markdown",
   "metadata": {
    "collapsed": true
   },
   "source": [
    "Przejdźmy teraz do implementowania modelu za pomocą Fluxa:"
   ]
  },
  {
   "cell_type": "markdown",
   "metadata": {},
   "source": [
    "### Implementacja"
   ]
  },
  {
   "cell_type": "code",
   "execution_count": 1,
   "metadata": {},
   "outputs": [],
   "source": [
    "using Flux\n",
    "using Flux: onehot, argmax, chunk, batchseq, throttle, crossentropy\n",
    "using StatsBase: wsample\n",
    "using Base.Iterators: partition\n",
    "using BSON"
   ]
  },
  {
   "cell_type": "markdown",
   "metadata": {},
   "source": [
    "Pierwszym krokiem jest oczywiście odpowiednie przygotowanie danych na których będziemy pracowali:"
   ]
  },
  {
   "cell_type": "code",
   "execution_count": 2,
   "metadata": {},
   "outputs": [],
   "source": [
    "text = collect(read(\"w_poszukiwaniu.txt\",String));\n",
    "alphabet = [unique(text)..., '_'];"
   ]
  },
  {
   "cell_type": "markdown",
   "metadata": {},
   "source": [
    "Następnie kodujemy zmienne jakościowe:"
   ]
  },
  {
   "cell_type": "code",
   "execution_count": 3,
   "metadata": {},
   "outputs": [],
   "source": [
    "text = map(ch -> onehot(ch, alphabet), text);\n",
    "stop = onehot('_', alphabet);"
   ]
  },
  {
   "cell_type": "code",
   "execution_count": 4,
   "metadata": {},
   "outputs": [],
   "source": [
    "N = length(alphabet);\n",
    "seqlen = 100;\n",
    "batch_size = 32;"
   ]
  },
  {
   "cell_type": "code",
   "execution_count": 5,
   "metadata": {},
   "outputs": [],
   "source": [
    "Xs = collect(partition(batchseq(chunk(text, batch_size), stop), seqlen));\n",
    "Ys = collect(partition(batchseq(chunk(text[2:end], batch_size), stop), seqlen));"
   ]
  },
  {
   "cell_type": "code",
   "execution_count": 6,
   "metadata": {},
   "outputs": [
    {
     "data": {
      "text/plain": [
       "#4 (generic function with 1 method)"
      ]
     },
     "execution_count": 6,
     "metadata": {},
     "output_type": "execute_result"
    }
   ],
   "source": [
    "m = Chain(\n",
    "    LSTM(N, 128),\n",
    "    Dropout(0.3), \n",
    "    LSTM(128, 128),\n",
    "    Dropout(0.3),\n",
    "    Dense(128, N),\n",
    "    softmax)\n",
    "\n",
    "function loss(xs, ys)\n",
    "  l = sum(crossentropy.(m.(xs), ys))\n",
    "  #Flux.reset!(m)\n",
    "  return l\n",
    "end\n",
    "\n",
    "opt = ADAM(0.001)\n",
    "\n",
    "\n",
    "function sample(m, alphabet, len; temp = 1)\n",
    "  Flux.reset!(m)\n",
    "  buf = IOBuffer()\n",
    "  c = rand(alphabet)\n",
    "  for i = 1:len\n",
    "    write(buf, c)\n",
    "    c = wsample(alphabet, m(onehot(c, alphabet)))\n",
    "  end\n",
    "  return String(take!(buf))\n",
    "end\n",
    "\n",
    "#evalcb = () -> @show loss(Xs[5], Ys[5])\n",
    "\n",
    "evalcb = function ()\n",
    "    @show loss(Xs[5], Ys[5])\n",
    "    println(sample(m, alphabet, 100))\n",
    "end"
   ]
  },
  {
   "cell_type": "code",
   "execution_count": 7,
   "metadata": {},
   "outputs": [
    {
     "data": {
      "text/plain": [
       "\"½—péâHtQ1à2ą4m)O\\rMS,àpїG'«5â!…HäćŚT.öNKŚ8Ê5öu-3xĆf\""
      ]
     },
     "execution_count": 7,
     "metadata": {},
     "output_type": "execute_result"
    }
   ],
   "source": [
    "sample(m, alphabet, 50)"
   ]
  },
  {
   "cell_type": "code",
   "execution_count": 8,
   "metadata": {},
   "outputs": [
    {
     "name": "stderr",
     "output_type": "stream",
     "text": [
      "┌ Info: Beginning training loop...\n",
      "└ @ Main In[8]:1\n",
      "┌ Info: Epoch: 1\n",
      "└ @ Main In[8]:5\n"
     ]
    },
    {
     "name": "stdout",
     "output_type": "stream",
     "text": [
      "loss(Xs[5], Ys[5]) = 474.34888f0\n",
      "vKbHuŹ7Koé\n",
      "n(”łBłnù8”ŃiWFùtx*ŹÊїüèYŚ8äGAQStFOÓ15É:3ö°jä5îŁ°5Q,êP\n",
      "loss(Xs[5], Ys[5]) = 325.04382f0\n",
      "loeen,  sre  aęiwnw g apzeó  nŹyewacrwso pązeieąkaak !imto meąunocesp\n",
      "loss(Xs[5], Ys[5]) = 305.06128f0\n",
      "ni  kałęoąk nyurwełi cca,z dier? bo bjdepęanjpysko    wjrt\n",
      "loss(Xs[5], Ys[5]) = 290.61182f0\n",
      "otén rzkrrenę manieaeo I 5yrnnt sjach0ot\n",
      "loss(Xs[5], Ys[5]) = 278.1952f0\n",
      "?-Ogybczmącm ddaną jytro zrzeję i nidczlęługrerzugr ac ky ś ópsie snęcie biebeksh k wamkzac,y  óbłeo\n",
      "loss(Xs[5], Ys[5]) = 271.22467f0\n",
      "ż d, e ę ma ośta subę  zławera kosczjokowzdę die a wynlona zowtegośnycie etaCw ,,\n",
      "loss(Xs[5], Ys[5]) = 266.5139f0\n",
      "èD°litakam noneąjąj atek niesikswuą łypł m ż naTsieznnąachch,iadzią pnąpnałeH daananz enidłe kaułobn\n",
      "loss(Xs[5], Ys[5]) = 262.8068f0\n",
      "T8ç9u umakuzbza wwą zą, as, tatszemniedzytotym zielui, dłem mian ztnmeją dróregosa , kenińc uła dowf\n"
     ]
    },
    {
     "name": "stderr",
     "output_type": "stream",
     "text": [
      "┌ Info: New best result: 259.97333\n",
      "└ @ Main In[8]:10\n",
      "┌ Info: Epoch: 2\n",
      "└ @ Main In[8]:5\n"
     ]
    },
    {
     "name": "stdout",
     "output_type": "stream",
     "text": [
      "loss(Xs[5], Ys[5]) = 259.9568f0\n",
      "!kŻ,dza , O kij nuzadrzad woła zobzo todo konomz mudzamaglofiłudu, wisięji k gy mureszydłojeo odtaj \n",
      "loss(Xs[5], Ys[5]) = 255.9093f0\n",
      "»inù,v , k jenam orjienrsiynią w rały matań,c yiwłeroylęge, zmi:.\n",
      "T\n",
      "W jegwałą Pany mniesięcy, taj\n",
      "loss(Xs[5], Ys[5]) = 253.64703f0\n",
      "Ź_s,jyłeujnj li speznsczeż mimow krzeinierni słe èślicildza, wsymó mst, mego dablawwalżą by łoczem u\n",
      "loss(Xs[5], Ys[5]) = 251.50319f0\n",
      "9)Jyoyny wiumaznalo onte sze nousny ly wienen drośłaogor'ć cy Tos k przy, wik przę gor wa mien wamsm\n",
      "loss(Xs[5], Ys[5]) = 247.31192f0\n",
      "DL„rwęną, wie: kruw chy. Dać, jejesci miż ślóo.\n",
      "\n",
      "Ią, (wrztłe rny uwunoj krojezz, ku Mi— an cziecza\n",
      "loss(Xs[5], Ys[5]) = 245.38797f0\n",
      "kŚ­c oa niolem, sięże, dóawie,, jego pas proewo re kazy wosęt zazopłeło mośwu t onszesbab na włe ban\n",
      "loss(Xs[5], Ys[5]) = 243.8592f0\n",
      "Àż riźłć wy kaj moć. Naa wpaż koś, z,, nrarwechedb, miemem niem ka lebsie przeocłe cichchm gobkie \n",
      "loss(Xs[5], Ys[5]) = 242.0263f0\n",
      "jLdcż,c sle ich Fi niąwanłynkt” nim, twrjych : ł że zdę,  da, pdabąrórymiwiu. odwydkatwauszy —lik je\n"
     ]
    },
    {
     "name": "stderr",
     "output_type": "stream",
     "text": [
      "┌ Info: New best result: 242.30338\n",
      "└ @ Main In[8]:10\n",
      "┌ Info: Epoch: 3\n",
      "└ @ Main In[8]:5\n"
     ]
    },
    {
     "name": "stdout",
     "output_type": "stream",
     "text": [
      "loss(Xs[5], Ys[5]) = 242.38733f0\n",
      "Fsz rać zaobz jajakem mię musra,eęi my zsrwuść ntomojąctrrzee, saby dńsię ue sa, tarod gazdmiedy zby\n",
      "loss(Xs[5], Ys[5]) = 240.229f0\n",
      "O»\n",
      "Ać)mistozośdtrzewiouwadanaby tżen sło dzyz maansslnegrów, kaz piocadani, żemgną, nawsze nzeniękę,\n",
      "loss(Xs[5], Ys[5]) = 238.24234f0\n",
      "y﻿aęzeje, l, , stu przr, pochną beabeie ziz maj roninwania, rprogzegczegdk przestrarem narzystwgzia \n",
      "loss(Xs[5], Ys[5]) = 237.94955f0\n",
      ".Un F ki krze. — „\n",
      "\n",
      "\n",
      "\n",
      "Te: Uliwić — O conkym donarowendurzuwjeniwoscka Se wa, iła gdajężała łatęt\n",
      "loss(Xs[5], Ys[5]) = 237.49368f0\n",
      "Aj-)nę, pomażeróć z ry, obrą, ks.am ucecinam. Smośsiedbł  st pana prąiuhyłdahdzie, gł się na Scozczd\n",
      "loss(Xs[5], Ys[5]) = 237.8739f0\n",
      "çzwegodamię prileospylebałąż maniej, ptzyzyzonej, w  sieaby wadwau przycacm, ną wonkyszipomi, tałodć\n",
      "loss(Xs[5], Ys[5]) = 237.20255f0\n",
      "EŃ2śrdzym zokojablyjnewżylej jesakie wałe ładkiena,, petez znofawolie namaiwyspuieloupiejł waba mien\n",
      "loss(Xs[5], Ys[5]) = 237.08104f0\n",
      "ùzeznŹania tas.aże, byłen wałem i zadewieinie poW\n",
      "ł pórzedny o icidza bapy domiej, dała po niem nar\n",
      "loss(Xs[5], Ys[5]) = 236.79681f0\n",
      "Ł­xlzg amiej j z wiemtośsię. Nunes zamuscwzo—a drienest,, Vej precjed razakototarczymich alodałość o\n"
     ]
    },
    {
     "name": "stderr",
     "output_type": "stream",
     "text": [
      "┌ Info: New best result: 236.5675\n",
      "└ @ Main In[8]:10\n",
      "┌ Info: Epoch: 4\n",
      "└ @ Main In[8]:5\n"
     ]
    },
    {
     "name": "stdout",
     "output_type": "stream",
     "text": [
      "loss(Xs[5], Ys[5]) = 236.58408f0\n",
      "­…zć:wy, czecg kań do bien tyce am uczłnib, tyregale przy mną bydimiewawę nię, badowy,, go mią rona \n",
      "loss(Xs[5], Ys[5]) = 234.8818f0\n",
      "!Aę«kdnta, pramniensigd nie tnieniuky pręmtań poonącecze nłożpomem by pową, jest nałąranrzynie skomi\n",
      "loss(Xs[5], Ys[5]) = 234.02737f0\n",
      "!bąeckk proz Leso So, przyły dadośćichk).\n",
      "\n",
      "— Mozalerutem, Regły ln snaraszące Chynei sobeklrozda! \n",
      "loss(Xs[5], Ys[5]) = 234.55817f0\n",
      "Xsqłałoniecznónoczanicym, ślyby, pokusina zbyt krówiaglicorusękej: pinieśnio a intacza wwją pu; puch\n",
      "loss(Xs[5], Ys[5]) = 235.11136f0\n",
      "PDńbl rnóśw zwłomncha, zwderdeilia, abył w. mytakiwzla siwaberewnómywrząż miś powioźry zaalewiwych ę\n",
      "loss(Xs[5], Ys[5]) = 234.91684f0\n",
      "W,çsgorzaały w , u. ru, Énimi pomą, że sła zey jej a lufą ler, prakiepojejamcie vie wżesużna  jewie \n",
      "loss(Xs[5], Ys[5]) = 234.38011f0\n",
      "(°ą*mrdotrdzy mum janodatana. Zał. Bo naabyłyła przekuż grzysię w piankgo podzczoku,  macapiłk ko da\n",
      "loss(Xs[5], Ys[5]) = 234.38232f0\n",
      "êęjNzarzywylrórnobeidatiegdzieślim i aly dreejić mie powaw Chma feomuliwièrześ w tugonnych chwlne de\n",
      "loss(Xs[5], Ys[5]) = 234.51547f0\n",
      "0knśż Fa obgryliśtbliż liniednczi pota zdziwiej  szast źla giew ie wie esztowyrzy nie nę wilnia piek\n",
      "loss(Xs[5], Ys[5]) = 233.86096f0\n",
      "oNw maj miestrak komasm jejeżechała rty, że lu tem w i jeuży głem możd z zeoryłły comi dewczawie icz\n"
     ]
    },
    {
     "name": "stderr",
     "output_type": "stream",
     "text": [
      "┌ Info: New best result: 233.43512\n",
      "└ @ Main In[8]:10\n",
      "┌ Info: Epoch: 5\n",
      "└ @ Main In[8]:5\n"
     ]
    },
    {
     "name": "stdout",
     "output_type": "stream",
     "text": [
      "loss(Xs[5], Ys[5]) = 233.52867f0\n",
      "ĆKnpyieaw załe tntsłada, łzywysmie ełej Czadwade kanowa parzacholocjejie sło znażaplktóła re rogot B\n",
      "loss(Xs[5], Ys[5]) = 233.17062f0\n",
      "(kT*t zazrgiądzą wwanzył niesczer  sacznieładzej — Plarzezniesziske, się ną Sełes kieł przyłosiskni \n",
      "loss(Xs[5], Ys[5]) = 231.80106f0\n",
      "R Xzyoto Sanykie ziobałem cukro G — Toślicaj, z ponie mie pdzajej spyjbaspnan ć til o Foże robo  bał\n",
      "loss(Xs[5], Ys[5]) = 231.39777f0\n",
      "ŚSrńśdłesocher: jatob nelugłażej orach kroztała kej się,, razniał nie zcże spymy się gsieinaśdnaj je\n",
      "loss(Xs[5], Ys[5]) = 231.15959f0\n",
      "Łpaozeć zogpi”, prawie niętałkraskąeniankapbas orpec , wść niego hrźma — pry wie amosśmle „ozodninic\n",
      "loss(Xs[5], Ys[5]) = 230.10287f0\n",
      "Fáźunugi przez rój; wa nwrywiz, któraściestaizymocsiw ziwowyłu Ve twiam pi, jestrobiaszy nię odzien,\n",
      "loss(Xs[5], Ys[5]) = 229.69923f0\n",
      ")XKPę wa le byłl ofem. Nordowanl Sali nie chawies, beymajadziużerzych oże tem sto Putynnujejkiełaszą\n",
      "loss(Xs[5], Ys[5]) = 229.514f0\n",
      "ùmzi,eokowdeecilnie ty w łaju, go ssusim Vałkerdźtanego wianniwjego nie czyleł byłastękinia.\n",
      "\n",
      "T,, \n",
      "loss(Xs[5], Ys[5]) = 229.5514f0\n",
      "?PWzokodskowaiczoych, kiem, i waś wicedanranie dowa płobadno nie pani. W Seinajuż obrówiedchgdych ko\n"
     ]
    },
    {
     "name": "stderr",
     "output_type": "stream",
     "text": [
      "┌ Info: New best result: 229.4398\n",
      "└ @ Main In[8]:10\n",
      "┌ Info: Epoch: 6\n",
      "└ @ Main In[8]:5\n"
     ]
    },
    {
     "name": "stdout",
     "output_type": "stream",
     "text": [
      "loss(Xs[5], Ys[5]) = 229.48909f0\n",
      "Kaj owieniuojacelnegłi którzych chotew wy, sąsiągaie,, woloką, aną rzej eszię pastęk, mpywienia.\n",
      " C\n",
      "loss(Xs[5], Ys[5]) = 229.44691f0\n",
      "yézdyo? jescobertzrpeło , że zyjumu uwanicychonieccorcilojirowsdo busanrchamóriany czadałem nu. Płym\n",
      "loss(Xs[5], Ys[5]) = 230.24284f0\n",
      "éhadotawltotaniż „Todśotze pe się Anaeam kwumu! Tego iaj Mię msiałałałącdzosię znaragojurwierza poOc\n",
      "loss(Xs[5], Ys[5]) = 230.2535f0\n",
      "PwOf Tłich, na.. WrAdzychosęca ztrzawać zbówinny wycza wistach jest waryś o nsną ni; rodrsię w pdzej\n",
      "loss(Xs[5], Ys[5]) = 230.83374f0\n",
      "Gélunn epuchich weo , ą, aw? „Chtanoomabistfanką, mim się sotokrgozn janiniarni, utej płęwożilyłował\n",
      "loss(Xs[5], Ys[5]) = 230.43182f0\n",
      "êqvąsbkiepipykśś. Pu prze go tespogrzyken, pagiodtidnaże puctudzić no. Wnrustywie cza b lidych st so\n",
      "loss(Xs[5], Ys[5]) = 230.08704f0\n",
      "­XWły by. Je datrtys, znie kiy y, byłodęiałowybyły Cankta samikiwsię, że hwerładdzieabop pacz” kanda\n",
      "loss(Xs[5], Ys[5]) = 229.85158f0\n",
      "jdhżyczy i, moipy, A pry s ob pałcianą zabrawachość ąniegky, wałewodzę losądnągaiem za . wjałokzomał\n",
      "loss(Xs[5], Ys[5]) = 230.11761f0\n",
      "Ałnalarsobertania; S Gauj kiczy teś świm!\n",
      "\n",
      "— Lodzoją wgwówno io nisze udelodgo i 'ry się ę, jest i"
     ]
    },
    {
     "name": "stderr",
     "output_type": "stream",
     "text": [
      "┌ Info: Epoch: 7\n",
      "└ @ Main In[8]:5\n"
     ]
    },
    {
     "name": "stdout",
     "output_type": "stream",
     "text": [
      "\n",
      "loss(Xs[5], Ys[5]) = 230.28197f0\n",
      "xaayldaboAlrzuzymiet, o myśem, pokrzemą baro kaca jeszace A maraąłorgały ły cej Be; bucz Viedy niódy\n",
      "loss(Xs[5], Ys[5]) = 229.94315f0\n",
      "eójbówi szakazncię nam dw de Chanajiłych nowiasderże lotisa i zianałuzmi  kawośmiecem — Ao bały onie\n",
      "loss(Xs[5], Ys[5]) = 229.90567f0\n",
      ",Zhelgunieiediubi surturota — Tlłem ddzon, abam mtawiał. „Owymbaromugniały nieralierzy, ponzć donrsz\n",
      "loss(Xs[5], Ys[5]) = 229.12204f0\n",
      "bzz5 dozrózgablej jąsoty wie,,\n",
      "\n",
      "— — powierewywcho miu jąc kakiem — owiedyaista miemiestu. Odziedaj\n",
      "loss(Xs[5], Ys[5]) = 228.548f0\n",
      "ioroiy S Cnninasłoś Sotru nar działo pr sprich gałenerla ke kiewomżewa nachł mojegłem ponoropatec; \n",
      "loss(Xs[5], Ys[5]) = 228.68312f0\n",
      "ekiujiła u za dowia znnecnetypawałnie dobyły, paćrazwyj woatrr, ić min dermoś wie neczę, albraschęcy\n",
      "loss(Xs[5], Ys[5]) = 229.223f0\n",
      "yaci  juwe j koństepilednilo że w krzestkiył  taleai przeujowiy w i, l dodu odząż wde pochcio powywa\n",
      "loss(Xs[5], Ys[5]) = 228.8286f0\n",
      "BPoemasablobbyłąt sząz zótać rorórwania jakar pią, w iż edziet nia ot tzridrobieicki, dieno zwjakier\n"
     ]
    },
    {
     "name": "stderr",
     "output_type": "stream",
     "text": [
      "┌ Info: New best result: 228.7056\n",
      "└ @ Main In[8]:10\n",
      "┌ Info: Epoch: 8\n",
      "└ @ Main In[8]:5\n"
     ]
    },
    {
     "name": "stdout",
     "output_type": "stream",
     "text": [
      "loss(Xs[5], Ys[5]) = 228.83557f0\n",
      "/Pdowreru, tonych”. nagnyerpadkę lozylto kobowanego możejaj nieżałem, bie teo optmietzenwje aj mawte\n",
      "loss(Xs[5], Ys[5]) = 229.0768f0\n",
      "8pbj dawa prw! żnlnieciny oddzia pomiynarwowtomym „— Niażemiła waroniniej wi nie miedząkie powiaciwa\n",
      "loss(Xs[5], Ys[5]) = 228.17899f0\n",
      "êpnkJie, jąc żegrózrosjej kosię zdawdiwedbla ziczawzychakser siąwąłerrzecczaką sim nana jak cońgało,\n",
      "loss(Xs[5], Ys[5]) = 227.64122f0\n",
      "bjkziego a kie zusprają w  bzy kłoraw sólrachem wowem deczejie gliptów tak, zzzywy mólarz tzytrohiwe\n",
      "loss(Xs[5], Ys[5]) = 227.1599f0\n",
      "qkięnry sawszedałem i podzie mikcy an nieki pała josłoś i przeciem owie Lota przy, chaniała stłykccu\n",
      "loss(Xs[5], Ys[5]) = 226.51381f0\n",
      "Êńżuwi wałałbywa sławką stubuszyczarucąsistachościec mi b tłu bu, która przyłogzieńszkej to apzu pna\n",
      "loss(Xs[5], Ys[5]) = 226.44017f0\n",
      ":/pazwzgiegi łyłem a ek ttetodeńch, ąwozcty naznie o spon wem  pierłnna którymy kapepich z i A mo ni\n",
      "loss(Xs[5], Ys[5]) = 226.52805f0\n",
      "'Zijąty udnertech kj rot, ntolerostEbyłraza powamiała wytunowa odzomnilowaja, mniegrowelrwowi, spozu\n",
      "loss(Xs[5], Ys[5]) = 226.19432f0\n",
      "'»èa paswo z. Żodęwno zu, Przo ky ranegoe, sposię, udydy sam wygłbytak kanby tabagła rez, trzepetało\n"
     ]
    },
    {
     "name": "stderr",
     "output_type": "stream",
     "text": [
      "┌ Info: New best result: 226.14456\n",
      "└ @ Main In[8]:10\n",
      "┌ Info: Epoch: 9\n",
      "└ @ Main In[8]:5\n"
     ]
    },
    {
     "name": "stdout",
     "output_type": "stream",
     "text": [
      "loss(Xs[5], Ys[5]) = 226.27109f0\n",
      "szŁpewimusię jad znawdalniadzujopowaj konichonkuf-Cy łały była”naśsky posi mię niełem, żaczyków niąt\n",
      "loss(Xs[5], Ys[5]) = 225.94597f0\n",
      "Ênaeillwistyte-ść pokrajtejacze polnialat, której chciw i , wiagamie misusstą wiwodym stw” go zojawd\n",
      "loss(Xs[5], Ys[5]) = 226.40259f0\n",
      "9m—Bbolsustwobodziąrobigda znowałbo pugrobyrogą:\n",
      "\n",
      "\n",
      "W znhojgaż. Ali na.\n",
      "\n",
      "—, balne przew spon śwy\n",
      "loss(Xs[5], Ys[5]) = 226.96422f0\n",
      "ńchrachycią otrwiowniobly tary, tłazlkatarzoją ści lalumieczy. A — na ciedzie jękarospakrórowie lurs\n",
      "loss(Xs[5], Ys[5]) = 227.09627f0\n",
      "CnazckincycierdłwewŻone zresodziejtowjeżałeicię rzerdwne bie mrieńć jej sło zoe innał momkana wydzo \n",
      "loss(Xs[5], Ys[5]) = 226.82191f0\n",
      "Ininodutnobiekazu uczegałimnd ma wyrdze,b dy się inałem seu (niem s nanią pość sprowaj, to żajawszia\n",
      "loss(Xs[5], Ys[5]) = 227.26387f0\n",
      "mpę.winyśstumi marwzcszuzrowo cie judzięt jej sopo zak dudziaszę;\n",
      "Iodzie sato la, puczabnana zi w b\n",
      "loss(Xs[5], Ys[5]) = 228.00194f0\n",
      "îkaa. tassze nant odsęprzabesola, wgogaką: Nu, wiej.\n",
      "\n",
      "— Zodna którym czyniałi beniasnhygarze pie w\n",
      "loss(Xs[5], Ys[5]) = 228.12724f0\n",
      "_tznarotakrósieowiepalktotbażo się nym, jemnie że nie nia pciejśedlość, poluponęgo nalnieńcy ztacha \n"
     ]
    },
    {
     "name": "stderr",
     "output_type": "stream",
     "text": [
      "┌ Info: Epoch: 10\n",
      "└ @ Main In[8]:5\n"
     ]
    },
    {
     "name": "stdout",
     "output_type": "stream",
     "text": [
      "loss(Xs[5], Ys[5]) = 227.31454f0\n",
      "—zylie tesczem kdzcaniemiego, alomo ni kóbena die dow było skiem buby morzeczow wypymy zroją, wiez B\n",
      "loss(Xs[5], Ys[5]) = 227.25938f0\n",
      "8isalmutttode scie warzyśszco modzeczała — te bowawych nie ym.\n",
      "\n",
      "— Alerogać, glacomakny islSoi wdak\n",
      "loss(Xs[5], Ys[5]) = 227.81526f0\n",
      "Rt.ą) — panio mieczyjchucktupntem prówaczęjoczenie z a dlowe w dral pank żegaciacją Alekeiesztazie ż\n",
      "loss(Xs[5], Ys[5]) = 226.90192f0\n",
      ";iovikzudnie niny w. Tektajupi do czy się zk wył snen, go któiesącej: kię ęów Vako koskę” Oj zrociee\n",
      "loss(Xs[5], Ys[5]) = 226.89091f0\n",
      "Yenoapa szę odziwalyjertrarowaniej i *cielijeąrarpie łanej n sącin. Ro, przywko ddasmych by się, ber\n",
      "loss(Xs[5], Ys[5]) = 226.80936f0\n",
      "iiekórórygoganysch. Tożą się do „Siennąc dzy ominnanowcią, Rów, łyćy poduchakwał nie przyjaćał  i Sn\n"
     ]
    }
   ],
   "source": [
    "@info(\"Beginning training loop...\")\n",
    "best_ls = Inf\n",
    "last_improvement = 0\n",
    "for epoch = 1:10\n",
    "    @info \"Epoch: $epoch\"\n",
    "    global best_ls, last_improvement\n",
    "    Flux.train!(loss, params(m), zip(Xs, Ys), opt, cb=throttle(evalcb, 240))\n",
    "    ls = loss(Xs[5], Ys[5])\n",
    "    if ls <= best_ls\n",
    "        @info \"New best result: $ls\"\n",
    "        BSON.@save \"char_model.bson\" m\n",
    "        best_ls = ls\n",
    "        last_improvement = epoch\n",
    "    end\n",
    "    if epoch - last_improvement >= 3\n",
    "        @warn(\" -> We're calling this converged.\")\n",
    "        break\n",
    "    end\n",
    "end"
   ]
  },
  {
   "cell_type": "code",
   "execution_count": 8,
   "metadata": {},
   "outputs": [],
   "source": [
    "BSON.@load \"char_model.bson\" m"
   ]
  },
  {
   "cell_type": "code",
   "execution_count": 11,
   "metadata": {},
   "outputs": [
    {
     "data": {
      "text/plain": [
       "\")pzzewsztejiża prtej pamanieś cnią, dujów mygogorr\""
      ]
     },
     "execution_count": 11,
     "metadata": {},
     "output_type": "execute_result"
    }
   ],
   "source": [
    "sample(m, alphabet, 50)"
   ]
  },
  {
   "cell_type": "markdown",
   "metadata": {},
   "source": [
    "## Dodatkowa praca domowa"
   ]
  },
  {
   "cell_type": "markdown",
   "metadata": {},
   "source": [
    "Zmodyfikuj kod tak, aby poprawić jakość generowanego tekstu."
   ]
  }
 ],
 "metadata": {
  "@webio": {
   "lastCommId": null,
   "lastKernelId": null
  },
  "kernelspec": {
   "display_name": "Julia 1.5.2",
   "language": "julia",
   "name": "julia-1.5"
  },
  "language_info": {
   "file_extension": ".jl",
   "mimetype": "application/julia",
   "name": "julia",
   "version": "1.5.2"
  }
 },
 "nbformat": 4,
 "nbformat_minor": 2
}
