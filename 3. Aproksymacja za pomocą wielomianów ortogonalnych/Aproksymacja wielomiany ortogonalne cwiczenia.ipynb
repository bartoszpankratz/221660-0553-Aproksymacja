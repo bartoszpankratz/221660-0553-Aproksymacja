{
 "cells": [
  {
   "cell_type": "markdown",
   "id": "b81e2dc9",
   "metadata": {},
   "source": [
    "# Zadania - wielomiany ortogonalne."
   ]
  },
  {
   "cell_type": "markdown",
   "id": "69d10676",
   "metadata": {},
   "source": [
    "## Zadanie 3\n",
    "\n",
    "Zacznijmy od ponownego zdefiniowania funkcji z poprzednich zajęć. Wyznaczmy też wielomian aproksymacjyjny:"
   ]
  },
  {
   "cell_type": "code",
   "execution_count": 1,
   "id": "d71a9eca",
   "metadata": {},
   "outputs": [
    {
     "data": {
      "text/plain": [
       "fitpoly (generic function with 1 method)"
      ]
     },
     "execution_count": 1,
     "metadata": {},
     "output_type": "execute_result"
    }
   ],
   "source": [
    "getS(x,m) = [sum(x.^(i+j)) for i = 0:m, j = 0:m]\n",
    "gett(x,y,m) = transpose([y'*x.^k for k = 0:m])\n",
    "fitpoly(x,y,m) = gett(x,y,m)/getS(x,m)"
   ]
  },
  {
   "cell_type": "code",
   "execution_count": 2,
   "id": "ec356724",
   "metadata": {},
   "outputs": [
    {
     "data": {
      "text/plain": [
       "fitdata (generic function with 1 method)"
      ]
     },
     "execution_count": 2,
     "metadata": {},
     "output_type": "execute_result"
    }
   ],
   "source": [
    "fitdata(X,m,a) = reduce(hcat,[X.^i for i = 0:m])  *  a' "
   ]
  },
  {
   "cell_type": "code",
   "execution_count": 3,
   "id": "6656a1cd",
   "metadata": {},
   "outputs": [
    {
     "data": {
      "text/plain": [
       "MSE (generic function with 1 method)"
      ]
     },
     "execution_count": 3,
     "metadata": {},
     "output_type": "execute_result"
    }
   ],
   "source": [
    "MSE(Ŷ,Y) = sum((Ŷ - Y).^2)"
   ]
  },
  {
   "cell_type": "code",
   "execution_count": 4,
   "id": "3985c1aa",
   "metadata": {},
   "outputs": [],
   "source": [
    "X = [0.0, 0.5, 1.0, 1.5, 2.0, 2.5, 3.0, 3.5]\n",
    "Y = [1.02, 0.62, 0.5, 0.6, 0.98, 1.55, 3.12, 5.08];\n",
    "m = 2;\n",
    "X₂=X[X .!= 2.5]\n",
    "Y₂ = Y[Y .!= Y[findfirst(x -> x == 2.5,X)]];"
   ]
  },
  {
   "cell_type": "code",
   "execution_count": 5,
   "id": "18ab1e41",
   "metadata": {},
   "outputs": [
    {
     "data": {
      "text/plain": [
       "1×3 transpose(::Vector{Float64}) with eltype Float64:\n",
       " 1.18125  -1.64083  0.77119"
      ]
     },
     "execution_count": 5,
     "metadata": {},
     "output_type": "execute_result"
    }
   ],
   "source": [
    "fitpoly(X,Y,2) "
   ]
  },
  {
   "cell_type": "markdown",
   "id": "f1f7d592",
   "metadata": {},
   "source": [
    "Teraz zdefiniujmy funkcję która znajdzie wielomiany ortogonalne metodą Grama-Schmidta:"
   ]
  },
  {
   "cell_type": "code",
   "execution_count": 6,
   "id": "cbaf8b13",
   "metadata": {},
   "outputs": [
    {
     "data": {
      "text/plain": [
       "gram_schmidt_solve (generic function with 1 method)"
      ]
     },
     "execution_count": 6,
     "metadata": {},
     "output_type": "execute_result"
    }
   ],
   "source": [
    "function gram_schmidt_solve(X,Y,m)\n",
    "    w = Array{Array{Float64}}(undef, m+1)  \n",
    "    a = zeros(Float64, (m+1, m+1))\n",
    "    α = zeros(Float64,m+1)\n",
    "    for i = 0:m\n",
    "        wᵢ = X.^i\n",
    "        a[i+1, i+1] = 1.0\n",
    "        for j = 1:i\n",
    "            aⱼ = (w[j]'*wᵢ)/sum(w[j].^2)\n",
    "            a[i+1, :] -= aⱼ.*a[j,:]\n",
    "            wᵢ -= aⱼ * w[j]\n",
    "        end\n",
    "        w[i+1] = wᵢ\n",
    "        α[i+1] = sum(wᵢ .* Y)/sum(wᵢ.^2)\n",
    "    end\n",
    "    return α' * a\n",
    "end"
   ]
  },
  {
   "cell_type": "markdown",
   "id": "8d9faf7f",
   "metadata": {},
   "source": [
    "Rozwiążmy zadanie:"
   ]
  },
  {
   "cell_type": "code",
   "execution_count": 7,
   "id": "852c58dd",
   "metadata": {
    "scrolled": true
   },
   "outputs": [
    {
     "data": {
      "text/plain": [
       "1×3 adjoint(::Vector{Float64}) with eltype Float64:\n",
       " 1.12442  -1.4947  0.738715"
      ]
     },
     "execution_count": 7,
     "metadata": {},
     "output_type": "execute_result"
    }
   ],
   "source": [
    "gram_schmidt_solve(X₂,Y₂,2)"
   ]
  },
  {
   "cell_type": "markdown",
   "id": "88497e5c",
   "metadata": {},
   "source": [
    "## Zadanie"
   ]
  },
  {
   "cell_type": "markdown",
   "id": "8e1ee480",
   "metadata": {},
   "source": [
    "Zbadajmy teraz to jak efektywna obliczeniowo są wielomiany ortogonalne (zadanie zaadopotwane z podręcznika [Introduction to Applied Linear Algebra – Vectors, Matrices, and Least Square Introduction to Applied Linear Algebra – Vectors, Matrices, and Least Squares, strona 102](https://web.stanford.edu/~boyd/vmls/vmls-julia-companion.pdf))"
   ]
  },
  {
   "cell_type": "code",
   "execution_count": 8,
   "id": "2db06970",
   "metadata": {},
   "outputs": [],
   "source": [
    "# Generate data in the interval [-1, 1].\n",
    "using Random; Random.seed!(232)\n",
    "m = 100;\n",
    "t = -1 .+ 2*rand(m);\n",
    "y = t.^3 - t + 0.4 ./ (1 .+ 25*t.^2) + 0.10*randn(m);"
   ]
  },
  {
   "cell_type": "markdown",
   "id": "70751d3b",
   "metadata": {},
   "source": [
    "Pokażmy dane na wykresie:"
   ]
  },
  {
   "cell_type": "code",
   "execution_count": 9,
   "id": "5bb3c809",
   "metadata": {},
   "outputs": [
    {
     "data": {
      "image/svg+xml": [
       "<?xml version=\"1.0\" encoding=\"utf-8\"?>\n",
       "<svg xmlns=\"http://www.w3.org/2000/svg\" xmlns:xlink=\"http://www.w3.org/1999/xlink\" width=\"600\" height=\"400\" viewBox=\"0 0 2400 1600\">\n",
       "<defs>\n",
       "  <clipPath id=\"clip430\">\n",
       "    <rect x=\"0\" y=\"0\" width=\"2400\" height=\"1600\"/>\n",
       "  </clipPath>\n",
       "</defs>\n",
       "<path clip-path=\"url(#clip430)\" d=\"\n",
       "M0 1600 L2400 1600 L2400 0 L0 0  Z\n",
       "  \" fill=\"#ffffff\" fill-rule=\"evenodd\" fill-opacity=\"1\"/>\n",
       "<defs>\n",
       "  <clipPath id=\"clip431\">\n",
       "    <rect x=\"480\" y=\"0\" width=\"1681\" height=\"1600\"/>\n",
       "  </clipPath>\n",
       "</defs>\n",
       "<path clip-path=\"url(#clip430)\" d=\"\n",
       "M224.098 1486.45 L2352.76 1486.45 L2352.76 47.2441 L224.098 47.2441  Z\n",
       "  \" fill=\"#ffffff\" fill-rule=\"evenodd\" fill-opacity=\"1\"/>\n",
       "<defs>\n",
       "  <clipPath id=\"clip432\">\n",
       "    <rect x=\"224\" y=\"47\" width=\"2130\" height=\"1440\"/>\n",
       "  </clipPath>\n",
       "</defs>\n",
       "<polyline clip-path=\"url(#clip432)\" style=\"stroke:#000000; stroke-linecap:round; stroke-linejoin:round; stroke-width:2; stroke-opacity:0.1; fill:none\" points=\"\n",
       "  271.657,1486.45 271.657,47.2441 \n",
       "  \"/>\n",
       "<polyline clip-path=\"url(#clip432)\" style=\"stroke:#000000; stroke-linecap:round; stroke-linejoin:round; stroke-width:2; stroke-opacity:0.1; fill:none\" points=\"\n",
       "  777.735,1486.45 777.735,47.2441 \n",
       "  \"/>\n",
       "<polyline clip-path=\"url(#clip432)\" style=\"stroke:#000000; stroke-linecap:round; stroke-linejoin:round; stroke-width:2; stroke-opacity:0.1; fill:none\" points=\"\n",
       "  1283.81,1486.45 1283.81,47.2441 \n",
       "  \"/>\n",
       "<polyline clip-path=\"url(#clip432)\" style=\"stroke:#000000; stroke-linecap:round; stroke-linejoin:round; stroke-width:2; stroke-opacity:0.1; fill:none\" points=\"\n",
       "  1789.89,1486.45 1789.89,47.2441 \n",
       "  \"/>\n",
       "<polyline clip-path=\"url(#clip432)\" style=\"stroke:#000000; stroke-linecap:round; stroke-linejoin:round; stroke-width:2; stroke-opacity:0.1; fill:none\" points=\"\n",
       "  2295.97,1486.45 2295.97,47.2441 \n",
       "  \"/>\n",
       "<polyline clip-path=\"url(#clip430)\" style=\"stroke:#000000; stroke-linecap:round; stroke-linejoin:round; stroke-width:4; stroke-opacity:1; fill:none\" points=\"\n",
       "  224.098,1486.45 2352.76,1486.45 \n",
       "  \"/>\n",
       "<polyline clip-path=\"url(#clip430)\" style=\"stroke:#000000; stroke-linecap:round; stroke-linejoin:round; stroke-width:4; stroke-opacity:1; fill:none\" points=\"\n",
       "  271.657,1486.45 271.657,1467.55 \n",
       "  \"/>\n",
       "<polyline clip-path=\"url(#clip430)\" style=\"stroke:#000000; stroke-linecap:round; stroke-linejoin:round; stroke-width:4; stroke-opacity:1; fill:none\" points=\"\n",
       "  777.735,1486.45 777.735,1467.55 \n",
       "  \"/>\n",
       "<polyline clip-path=\"url(#clip430)\" style=\"stroke:#000000; stroke-linecap:round; stroke-linejoin:round; stroke-width:4; stroke-opacity:1; fill:none\" points=\"\n",
       "  1283.81,1486.45 1283.81,1467.55 \n",
       "  \"/>\n",
       "<polyline clip-path=\"url(#clip430)\" style=\"stroke:#000000; stroke-linecap:round; stroke-linejoin:round; stroke-width:4; stroke-opacity:1; fill:none\" points=\"\n",
       "  1789.89,1486.45 1789.89,1467.55 \n",
       "  \"/>\n",
       "<polyline clip-path=\"url(#clip430)\" style=\"stroke:#000000; stroke-linecap:round; stroke-linejoin:round; stroke-width:4; stroke-opacity:1; fill:none\" points=\"\n",
       "  2295.97,1486.45 2295.97,1467.55 \n",
       "  \"/>\n",
       "<path clip-path=\"url(#clip430)\" d=\"M218.185 1532.02 L247.861 1532.02 L247.861 1535.95 L218.185 1535.95 L218.185 1532.02 Z\" fill=\"#000000\" fill-rule=\"evenodd\" fill-opacity=\"1\" /><path clip-path=\"url(#clip430)\" d=\"M258.764 1544.91 L266.403 1544.91 L266.403 1518.55 L258.093 1520.21 L258.093 1515.95 L266.357 1514.29 L271.032 1514.29 L271.032 1544.91 L278.671 1544.91 L278.671 1548.85 L258.764 1548.85 L258.764 1544.91 Z\" fill=\"#000000\" fill-rule=\"evenodd\" fill-opacity=\"1\" /><path clip-path=\"url(#clip430)\" d=\"M288.116 1542.97 L293 1542.97 L293 1548.85 L288.116 1548.85 L288.116 1542.97 Z\" fill=\"#000000\" fill-rule=\"evenodd\" fill-opacity=\"1\" /><path clip-path=\"url(#clip430)\" d=\"M313.185 1517.37 Q309.574 1517.37 307.745 1520.93 Q305.94 1524.47 305.94 1531.6 Q305.94 1538.71 307.745 1542.27 Q309.574 1545.82 313.185 1545.82 Q316.819 1545.82 318.625 1542.27 Q320.453 1538.71 320.453 1531.6 Q320.453 1524.47 318.625 1520.93 Q316.819 1517.37 313.185 1517.37 M313.185 1513.66 Q318.995 1513.66 322.051 1518.27 Q325.129 1522.85 325.129 1531.6 Q325.129 1540.33 322.051 1544.94 Q318.995 1549.52 313.185 1549.52 Q307.375 1549.52 304.296 1544.94 Q301.241 1540.33 301.241 1531.6 Q301.241 1522.85 304.296 1518.27 Q307.375 1513.66 313.185 1513.66 Z\" fill=\"#000000\" fill-rule=\"evenodd\" fill-opacity=\"1\" /><path clip-path=\"url(#clip430)\" d=\"M724.761 1532.02 L754.437 1532.02 L754.437 1535.95 L724.761 1535.95 L724.761 1532.02 Z\" fill=\"#000000\" fill-rule=\"evenodd\" fill-opacity=\"1\" /><path clip-path=\"url(#clip430)\" d=\"M774.529 1517.37 Q770.918 1517.37 769.089 1520.93 Q767.284 1524.47 767.284 1531.6 Q767.284 1538.71 769.089 1542.27 Q770.918 1545.82 774.529 1545.82 Q778.163 1545.82 779.969 1542.27 Q781.798 1538.71 781.798 1531.6 Q781.798 1524.47 779.969 1520.93 Q778.163 1517.37 774.529 1517.37 M774.529 1513.66 Q780.339 1513.66 783.395 1518.27 Q786.474 1522.85 786.474 1531.6 Q786.474 1540.33 783.395 1544.94 Q780.339 1549.52 774.529 1549.52 Q768.719 1549.52 765.64 1544.94 Q762.585 1540.33 762.585 1531.6 Q762.585 1522.85 765.64 1518.27 Q768.719 1513.66 774.529 1513.66 Z\" fill=\"#000000\" fill-rule=\"evenodd\" fill-opacity=\"1\" /><path clip-path=\"url(#clip430)\" d=\"M794.691 1542.97 L799.575 1542.97 L799.575 1548.85 L794.691 1548.85 L794.691 1542.97 Z\" fill=\"#000000\" fill-rule=\"evenodd\" fill-opacity=\"1\" /><path clip-path=\"url(#clip430)\" d=\"M809.807 1514.29 L828.163 1514.29 L828.163 1518.22 L814.089 1518.22 L814.089 1526.7 Q815.108 1526.35 816.126 1526.19 Q817.145 1526 818.163 1526 Q823.95 1526 827.33 1529.17 Q830.709 1532.34 830.709 1537.76 Q830.709 1543.34 827.237 1546.44 Q823.765 1549.52 817.446 1549.52 Q815.27 1549.52 813.001 1549.15 Q810.756 1548.78 808.348 1548.04 L808.348 1543.34 Q810.432 1544.47 812.654 1545.03 Q814.876 1545.58 817.353 1545.58 Q821.358 1545.58 823.696 1543.48 Q826.034 1541.37 826.034 1537.76 Q826.034 1534.15 823.696 1532.04 Q821.358 1529.94 817.353 1529.94 Q815.478 1529.94 813.603 1530.35 Q811.751 1530.77 809.807 1531.65 L809.807 1514.29 Z\" fill=\"#000000\" fill-rule=\"evenodd\" fill-opacity=\"1\" /><path clip-path=\"url(#clip430)\" d=\"M1261.2 1517.37 Q1257.59 1517.37 1255.76 1520.93 Q1253.95 1524.47 1253.95 1531.6 Q1253.95 1538.71 1255.76 1542.27 Q1257.59 1545.82 1261.2 1545.82 Q1264.83 1545.82 1266.64 1542.27 Q1268.47 1538.71 1268.47 1531.6 Q1268.47 1524.47 1266.64 1520.93 Q1264.83 1517.37 1261.2 1517.37 M1261.2 1513.66 Q1267.01 1513.66 1270.06 1518.27 Q1273.14 1522.85 1273.14 1531.6 Q1273.14 1540.33 1270.06 1544.94 Q1267.01 1549.52 1261.2 1549.52 Q1255.39 1549.52 1252.31 1544.94 Q1249.25 1540.33 1249.25 1531.6 Q1249.25 1522.85 1252.31 1518.27 Q1255.39 1513.66 1261.2 1513.66 Z\" fill=\"#000000\" fill-rule=\"evenodd\" fill-opacity=\"1\" /><path clip-path=\"url(#clip430)\" d=\"M1281.36 1542.97 L1286.24 1542.97 L1286.24 1548.85 L1281.36 1548.85 L1281.36 1542.97 Z\" fill=\"#000000\" fill-rule=\"evenodd\" fill-opacity=\"1\" /><path clip-path=\"url(#clip430)\" d=\"M1306.43 1517.37 Q1302.82 1517.37 1300.99 1520.93 Q1299.18 1524.47 1299.18 1531.6 Q1299.18 1538.71 1300.99 1542.27 Q1302.82 1545.82 1306.43 1545.82 Q1310.06 1545.82 1311.87 1542.27 Q1313.7 1538.71 1313.7 1531.6 Q1313.7 1524.47 1311.87 1520.93 Q1310.06 1517.37 1306.43 1517.37 M1306.43 1513.66 Q1312.24 1513.66 1315.29 1518.27 Q1318.37 1522.85 1318.37 1531.6 Q1318.37 1540.33 1315.29 1544.94 Q1312.24 1549.52 1306.43 1549.52 Q1300.62 1549.52 1297.54 1544.94 Q1294.48 1540.33 1294.48 1531.6 Q1294.48 1522.85 1297.54 1518.27 Q1300.62 1513.66 1306.43 1513.66 Z\" fill=\"#000000\" fill-rule=\"evenodd\" fill-opacity=\"1\" /><path clip-path=\"url(#clip430)\" d=\"M1767.77 1517.37 Q1764.16 1517.37 1762.33 1520.93 Q1760.53 1524.47 1760.53 1531.6 Q1760.53 1538.71 1762.33 1542.27 Q1764.16 1545.82 1767.77 1545.82 Q1771.41 1545.82 1773.21 1542.27 Q1775.04 1538.71 1775.04 1531.6 Q1775.04 1524.47 1773.21 1520.93 Q1771.41 1517.37 1767.77 1517.37 M1767.77 1513.66 Q1773.58 1513.66 1776.64 1518.27 Q1779.72 1522.85 1779.72 1531.6 Q1779.72 1540.33 1776.64 1544.94 Q1773.58 1549.52 1767.77 1549.52 Q1761.96 1549.52 1758.88 1544.94 Q1755.83 1540.33 1755.83 1531.6 Q1755.83 1522.85 1758.88 1518.27 Q1761.96 1513.66 1767.77 1513.66 Z\" fill=\"#000000\" fill-rule=\"evenodd\" fill-opacity=\"1\" /><path clip-path=\"url(#clip430)\" d=\"M1787.93 1542.97 L1792.82 1542.97 L1792.82 1548.85 L1787.93 1548.85 L1787.93 1542.97 Z\" fill=\"#000000\" fill-rule=\"evenodd\" fill-opacity=\"1\" /><path clip-path=\"url(#clip430)\" d=\"M1803.05 1514.29 L1821.41 1514.29 L1821.41 1518.22 L1807.33 1518.22 L1807.33 1526.7 Q1808.35 1526.35 1809.37 1526.19 Q1810.39 1526 1811.41 1526 Q1817.19 1526 1820.57 1529.17 Q1823.95 1532.34 1823.95 1537.76 Q1823.95 1543.34 1820.48 1546.44 Q1817.01 1549.52 1810.69 1549.52 Q1808.51 1549.52 1806.24 1549.15 Q1804 1548.78 1801.59 1548.04 L1801.59 1543.34 Q1803.68 1544.47 1805.9 1545.03 Q1808.12 1545.58 1810.6 1545.58 Q1814.6 1545.58 1816.94 1543.48 Q1819.28 1541.37 1819.28 1537.76 Q1819.28 1534.15 1816.94 1532.04 Q1814.6 1529.94 1810.6 1529.94 Q1808.72 1529.94 1806.85 1530.35 Q1804.99 1530.77 1803.05 1531.65 L1803.05 1514.29 Z\" fill=\"#000000\" fill-rule=\"evenodd\" fill-opacity=\"1\" /><path clip-path=\"url(#clip430)\" d=\"M2263.12 1544.91 L2270.76 1544.91 L2270.76 1518.55 L2262.45 1520.21 L2262.45 1515.95 L2270.71 1514.29 L2275.39 1514.29 L2275.39 1544.91 L2283.03 1544.91 L2283.03 1548.85 L2263.12 1548.85 L2263.12 1544.91 Z\" fill=\"#000000\" fill-rule=\"evenodd\" fill-opacity=\"1\" /><path clip-path=\"url(#clip430)\" d=\"M2292.47 1542.97 L2297.36 1542.97 L2297.36 1548.85 L2292.47 1548.85 L2292.47 1542.97 Z\" fill=\"#000000\" fill-rule=\"evenodd\" fill-opacity=\"1\" /><path clip-path=\"url(#clip430)\" d=\"M2317.54 1517.37 Q2313.93 1517.37 2312.1 1520.93 Q2310.3 1524.47 2310.3 1531.6 Q2310.3 1538.71 2312.1 1542.27 Q2313.93 1545.82 2317.54 1545.82 Q2321.18 1545.82 2322.98 1542.27 Q2324.81 1538.71 2324.81 1531.6 Q2324.81 1524.47 2322.98 1520.93 Q2321.18 1517.37 2317.54 1517.37 M2317.54 1513.66 Q2323.35 1513.66 2326.41 1518.27 Q2329.49 1522.85 2329.49 1531.6 Q2329.49 1540.33 2326.41 1544.94 Q2323.35 1549.52 2317.54 1549.52 Q2311.73 1549.52 2308.65 1544.94 Q2305.6 1540.33 2305.6 1531.6 Q2305.6 1522.85 2308.65 1518.27 Q2311.73 1513.66 2317.54 1513.66 Z\" fill=\"#000000\" fill-rule=\"evenodd\" fill-opacity=\"1\" /><polyline clip-path=\"url(#clip432)\" style=\"stroke:#000000; stroke-linecap:round; stroke-linejoin:round; stroke-width:2; stroke-opacity:0.1; fill:none\" points=\"\n",
       "  224.098,1411.12 2352.76,1411.12 \n",
       "  \"/>\n",
       "<polyline clip-path=\"url(#clip432)\" style=\"stroke:#000000; stroke-linecap:round; stroke-linejoin:round; stroke-width:2; stroke-opacity:0.1; fill:none\" points=\"\n",
       "  224.098,1106.62 2352.76,1106.62 \n",
       "  \"/>\n",
       "<polyline clip-path=\"url(#clip432)\" style=\"stroke:#000000; stroke-linecap:round; stroke-linejoin:round; stroke-width:2; stroke-opacity:0.1; fill:none\" points=\"\n",
       "  224.098,802.125 2352.76,802.125 \n",
       "  \"/>\n",
       "<polyline clip-path=\"url(#clip432)\" style=\"stroke:#000000; stroke-linecap:round; stroke-linejoin:round; stroke-width:2; stroke-opacity:0.1; fill:none\" points=\"\n",
       "  224.098,497.63 2352.76,497.63 \n",
       "  \"/>\n",
       "<polyline clip-path=\"url(#clip432)\" style=\"stroke:#000000; stroke-linecap:round; stroke-linejoin:round; stroke-width:2; stroke-opacity:0.1; fill:none\" points=\"\n",
       "  224.098,193.134 2352.76,193.134 \n",
       "  \"/>\n",
       "<polyline clip-path=\"url(#clip430)\" style=\"stroke:#000000; stroke-linecap:round; stroke-linejoin:round; stroke-width:4; stroke-opacity:1; fill:none\" points=\"\n",
       "  224.098,1486.45 224.098,47.2441 \n",
       "  \"/>\n",
       "<polyline clip-path=\"url(#clip430)\" style=\"stroke:#000000; stroke-linecap:round; stroke-linejoin:round; stroke-width:4; stroke-opacity:1; fill:none\" points=\"\n",
       "  224.098,1411.12 242.996,1411.12 \n",
       "  \"/>\n",
       "<polyline clip-path=\"url(#clip430)\" style=\"stroke:#000000; stroke-linecap:round; stroke-linejoin:round; stroke-width:4; stroke-opacity:1; fill:none\" points=\"\n",
       "  224.098,1106.62 242.996,1106.62 \n",
       "  \"/>\n",
       "<polyline clip-path=\"url(#clip430)\" style=\"stroke:#000000; stroke-linecap:round; stroke-linejoin:round; stroke-width:4; stroke-opacity:1; fill:none\" points=\"\n",
       "  224.098,802.125 242.996,802.125 \n",
       "  \"/>\n",
       "<polyline clip-path=\"url(#clip430)\" style=\"stroke:#000000; stroke-linecap:round; stroke-linejoin:round; stroke-width:4; stroke-opacity:1; fill:none\" points=\"\n",
       "  224.098,497.63 242.996,497.63 \n",
       "  \"/>\n",
       "<polyline clip-path=\"url(#clip430)\" style=\"stroke:#000000; stroke-linecap:round; stroke-linejoin:round; stroke-width:4; stroke-opacity:1; fill:none\" points=\"\n",
       "  224.098,193.134 242.996,193.134 \n",
       "  \"/>\n",
       "<path clip-path=\"url(#clip430)\" d=\"M50.9921 1411.57 L80.6679 1411.57 L80.6679 1415.5 L50.9921 1415.5 L50.9921 1411.57 Z\" fill=\"#000000\" fill-rule=\"evenodd\" fill-opacity=\"1\" /><path clip-path=\"url(#clip430)\" d=\"M100.76 1396.91 Q97.1493 1396.91 95.3206 1400.48 Q93.515 1404.02 93.515 1411.15 Q93.515 1418.26 95.3206 1421.82 Q97.1493 1425.36 100.76 1425.36 Q104.395 1425.36 106.2 1421.82 Q108.029 1418.26 108.029 1411.15 Q108.029 1404.02 106.2 1400.48 Q104.395 1396.91 100.76 1396.91 M100.76 1393.21 Q106.571 1393.21 109.626 1397.82 Q112.705 1402.4 112.705 1411.15 Q112.705 1419.88 109.626 1424.48 Q106.571 1429.07 100.76 1429.07 Q94.9502 1429.07 91.8715 1424.48 Q88.816 1419.88 88.816 1411.15 Q88.816 1402.4 91.8715 1397.82 Q94.9502 1393.21 100.76 1393.21 Z\" fill=\"#000000\" fill-rule=\"evenodd\" fill-opacity=\"1\" /><path clip-path=\"url(#clip430)\" d=\"M120.922 1422.52 L125.807 1422.52 L125.807 1428.4 L120.922 1428.4 L120.922 1422.52 Z\" fill=\"#000000\" fill-rule=\"evenodd\" fill-opacity=\"1\" /><path clip-path=\"url(#clip430)\" d=\"M136.038 1393.84 L154.394 1393.84 L154.394 1397.77 L140.32 1397.77 L140.32 1406.24 Q141.339 1405.9 142.357 1405.73 Q143.376 1405.55 144.394 1405.55 Q150.181 1405.55 153.561 1408.72 Q156.941 1411.89 156.941 1417.31 Q156.941 1422.89 153.468 1425.99 Q149.996 1429.07 143.677 1429.07 Q141.501 1429.07 139.232 1428.7 Q136.987 1428.33 134.58 1427.59 L134.58 1422.89 Q136.663 1424.02 138.885 1424.58 Q141.107 1425.13 143.584 1425.13 Q147.589 1425.13 149.927 1423.03 Q152.265 1420.92 152.265 1417.31 Q152.265 1413.7 149.927 1411.59 Q147.589 1409.48 143.584 1409.48 Q141.709 1409.48 139.834 1409.9 Q137.982 1410.32 136.038 1411.2 L136.038 1393.84 Z\" fill=\"#000000\" fill-rule=\"evenodd\" fill-opacity=\"1\" /><path clip-path=\"url(#clip430)\" d=\"M176.153 1396.91 Q172.542 1396.91 170.714 1400.48 Q168.908 1404.02 168.908 1411.15 Q168.908 1418.26 170.714 1421.82 Q172.542 1425.36 176.153 1425.36 Q179.788 1425.36 181.593 1421.82 Q183.422 1418.26 183.422 1411.15 Q183.422 1404.02 181.593 1400.48 Q179.788 1396.91 176.153 1396.91 M176.153 1393.21 Q181.964 1393.21 185.019 1397.82 Q188.098 1402.4 188.098 1411.15 Q188.098 1419.88 185.019 1424.48 Q181.964 1429.07 176.153 1429.07 Q170.343 1429.07 167.265 1424.48 Q164.209 1419.88 164.209 1411.15 Q164.209 1402.4 167.265 1397.82 Q170.343 1393.21 176.153 1393.21 Z\" fill=\"#000000\" fill-rule=\"evenodd\" fill-opacity=\"1\" /><path clip-path=\"url(#clip430)\" d=\"M51.9875 1107.07 L81.6633 1107.07 L81.6633 1111.01 L51.9875 1111.01 L51.9875 1107.07 Z\" fill=\"#000000\" fill-rule=\"evenodd\" fill-opacity=\"1\" /><path clip-path=\"url(#clip430)\" d=\"M101.756 1092.42 Q98.1447 1092.42 96.316 1095.98 Q94.5104 1099.53 94.5104 1106.66 Q94.5104 1113.76 96.316 1117.33 Q98.1447 1120.87 101.756 1120.87 Q105.39 1120.87 107.196 1117.33 Q109.024 1113.76 109.024 1106.66 Q109.024 1099.53 107.196 1095.98 Q105.39 1092.42 101.756 1092.42 M101.756 1088.72 Q107.566 1088.72 110.621 1093.32 Q113.7 1097.91 113.7 1106.66 Q113.7 1115.38 110.621 1119.99 Q107.566 1124.57 101.756 1124.57 Q95.9456 1124.57 92.8669 1119.99 Q89.8114 1115.38 89.8114 1106.66 Q89.8114 1097.91 92.8669 1093.32 Q95.9456 1088.72 101.756 1088.72 Z\" fill=\"#000000\" fill-rule=\"evenodd\" fill-opacity=\"1\" /><path clip-path=\"url(#clip430)\" d=\"M121.918 1118.02 L126.802 1118.02 L126.802 1123.9 L121.918 1123.9 L121.918 1118.02 Z\" fill=\"#000000\" fill-rule=\"evenodd\" fill-opacity=\"1\" /><path clip-path=\"url(#clip430)\" d=\"M141.015 1119.97 L157.334 1119.97 L157.334 1123.9 L135.39 1123.9 L135.39 1119.97 Q138.052 1117.21 142.635 1112.58 Q147.242 1107.93 148.422 1106.59 Q150.668 1104.06 151.547 1102.33 Q152.45 1100.57 152.45 1098.88 Q152.45 1096.12 150.505 1094.39 Q148.584 1092.65 145.482 1092.65 Q143.283 1092.65 140.83 1093.41 Q138.399 1094.18 135.621 1095.73 L135.621 1091.01 Q138.445 1089.87 140.899 1089.29 Q143.353 1088.72 145.39 1088.72 Q150.76 1088.72 153.955 1091.4 Q157.149 1094.09 157.149 1098.58 Q157.149 1100.71 156.339 1102.63 Q155.552 1104.53 153.445 1107.12 Q152.867 1107.79 149.765 1111.01 Q146.663 1114.2 141.015 1119.97 Z\" fill=\"#000000\" fill-rule=\"evenodd\" fill-opacity=\"1\" /><path clip-path=\"url(#clip430)\" d=\"M167.195 1089.34 L185.552 1089.34 L185.552 1093.28 L171.478 1093.28 L171.478 1101.75 Q172.496 1101.4 173.515 1101.24 Q174.533 1101.05 175.552 1101.05 Q181.339 1101.05 184.718 1104.22 Q188.098 1107.4 188.098 1112.81 Q188.098 1118.39 184.626 1121.49 Q181.153 1124.57 174.834 1124.57 Q172.658 1124.57 170.39 1124.2 Q168.144 1123.83 165.737 1123.09 L165.737 1118.39 Q167.82 1119.53 170.042 1120.08 Q172.265 1120.64 174.741 1120.64 Q178.746 1120.64 181.084 1118.53 Q183.422 1116.42 183.422 1112.81 Q183.422 1109.2 181.084 1107.09 Q178.746 1104.99 174.741 1104.99 Q172.866 1104.99 170.991 1105.41 Q169.14 1105.82 167.195 1106.7 L167.195 1089.34 Z\" fill=\"#000000\" fill-rule=\"evenodd\" fill-opacity=\"1\" /><path clip-path=\"url(#clip430)\" d=\"M100.76 787.924 Q97.1493 787.924 95.3206 791.488 Q93.515 795.03 93.515 802.16 Q93.515 809.266 95.3206 812.831 Q97.1493 816.373 100.76 816.373 Q104.395 816.373 106.2 812.831 Q108.029 809.266 108.029 802.16 Q108.029 795.03 106.2 791.488 Q104.395 787.924 100.76 787.924 M100.76 784.22 Q106.571 784.22 109.626 788.826 Q112.705 793.41 112.705 802.16 Q112.705 810.887 109.626 815.493 Q106.571 820.076 100.76 820.076 Q94.9502 820.076 91.8715 815.493 Q88.816 810.887 88.816 802.16 Q88.816 793.41 91.8715 788.826 Q94.9502 784.22 100.76 784.22 Z\" fill=\"#000000\" fill-rule=\"evenodd\" fill-opacity=\"1\" /><path clip-path=\"url(#clip430)\" d=\"M120.922 813.525 L125.807 813.525 L125.807 819.405 L120.922 819.405 L120.922 813.525 Z\" fill=\"#000000\" fill-rule=\"evenodd\" fill-opacity=\"1\" /><path clip-path=\"url(#clip430)\" d=\"M145.992 787.924 Q142.381 787.924 140.552 791.488 Q138.746 795.03 138.746 802.16 Q138.746 809.266 140.552 812.831 Q142.381 816.373 145.992 816.373 Q149.626 816.373 151.431 812.831 Q153.26 809.266 153.26 802.16 Q153.26 795.03 151.431 791.488 Q149.626 787.924 145.992 787.924 M145.992 784.22 Q151.802 784.22 154.857 788.826 Q157.936 793.41 157.936 802.16 Q157.936 810.887 154.857 815.493 Q151.802 820.076 145.992 820.076 Q140.181 820.076 137.103 815.493 Q134.047 810.887 134.047 802.16 Q134.047 793.41 137.103 788.826 Q140.181 784.22 145.992 784.22 Z\" fill=\"#000000\" fill-rule=\"evenodd\" fill-opacity=\"1\" /><path clip-path=\"url(#clip430)\" d=\"M176.153 787.924 Q172.542 787.924 170.714 791.488 Q168.908 795.03 168.908 802.16 Q168.908 809.266 170.714 812.831 Q172.542 816.373 176.153 816.373 Q179.788 816.373 181.593 812.831 Q183.422 809.266 183.422 802.16 Q183.422 795.03 181.593 791.488 Q179.788 787.924 176.153 787.924 M176.153 784.22 Q181.964 784.22 185.019 788.826 Q188.098 793.41 188.098 802.16 Q188.098 810.887 185.019 815.493 Q181.964 820.076 176.153 820.076 Q170.343 820.076 167.265 815.493 Q164.209 810.887 164.209 802.16 Q164.209 793.41 167.265 788.826 Q170.343 784.22 176.153 784.22 Z\" fill=\"#000000\" fill-rule=\"evenodd\" fill-opacity=\"1\" /><path clip-path=\"url(#clip430)\" d=\"M101.756 483.428 Q98.1447 483.428 96.316 486.993 Q94.5104 490.535 94.5104 497.664 Q94.5104 504.771 96.316 508.336 Q98.1447 511.877 101.756 511.877 Q105.39 511.877 107.196 508.336 Q109.024 504.771 109.024 497.664 Q109.024 490.535 107.196 486.993 Q105.39 483.428 101.756 483.428 M101.756 479.725 Q107.566 479.725 110.621 484.331 Q113.7 488.914 113.7 497.664 Q113.7 506.391 110.621 510.998 Q107.566 515.581 101.756 515.581 Q95.9456 515.581 92.8669 510.998 Q89.8114 506.391 89.8114 497.664 Q89.8114 488.914 92.8669 484.331 Q95.9456 479.725 101.756 479.725 Z\" fill=\"#000000\" fill-rule=\"evenodd\" fill-opacity=\"1\" /><path clip-path=\"url(#clip430)\" d=\"M121.918 509.03 L126.802 509.03 L126.802 514.91 L121.918 514.91 L121.918 509.03 Z\" fill=\"#000000\" fill-rule=\"evenodd\" fill-opacity=\"1\" /><path clip-path=\"url(#clip430)\" d=\"M141.015 510.975 L157.334 510.975 L157.334 514.91 L135.39 514.91 L135.39 510.975 Q138.052 508.22 142.635 503.59 Q147.242 498.938 148.422 497.595 Q150.668 495.072 151.547 493.336 Q152.45 491.576 152.45 489.887 Q152.45 487.132 150.505 485.396 Q148.584 483.66 145.482 483.66 Q143.283 483.66 140.83 484.424 Q138.399 485.188 135.621 486.739 L135.621 482.016 Q138.445 480.882 140.899 480.303 Q143.353 479.725 145.39 479.725 Q150.76 479.725 153.955 482.41 Q157.149 485.095 157.149 489.586 Q157.149 491.715 156.339 493.637 Q155.552 495.535 153.445 498.127 Q152.867 498.799 149.765 502.016 Q146.663 505.211 141.015 510.975 Z\" fill=\"#000000\" fill-rule=\"evenodd\" fill-opacity=\"1\" /><path clip-path=\"url(#clip430)\" d=\"M167.195 480.35 L185.552 480.35 L185.552 484.285 L171.478 484.285 L171.478 492.757 Q172.496 492.41 173.515 492.248 Q174.533 492.063 175.552 492.063 Q181.339 492.063 184.718 495.234 Q188.098 498.405 188.098 503.822 Q188.098 509.4 184.626 512.502 Q181.153 515.581 174.834 515.581 Q172.658 515.581 170.39 515.211 Q168.144 514.84 165.737 514.099 L165.737 509.4 Q167.82 510.535 170.042 511.09 Q172.265 511.646 174.741 511.646 Q178.746 511.646 181.084 509.539 Q183.422 507.433 183.422 503.822 Q183.422 500.211 181.084 498.104 Q178.746 495.998 174.741 495.998 Q172.866 495.998 170.991 496.414 Q169.14 496.831 167.195 497.711 L167.195 480.35 Z\" fill=\"#000000\" fill-rule=\"evenodd\" fill-opacity=\"1\" /><path clip-path=\"url(#clip430)\" d=\"M100.76 178.933 Q97.1493 178.933 95.3206 182.498 Q93.515 186.039 93.515 193.169 Q93.515 200.276 95.3206 203.84 Q97.1493 207.382 100.76 207.382 Q104.395 207.382 106.2 203.84 Q108.029 200.276 108.029 193.169 Q108.029 186.039 106.2 182.498 Q104.395 178.933 100.76 178.933 M100.76 175.229 Q106.571 175.229 109.626 179.836 Q112.705 184.419 112.705 193.169 Q112.705 201.896 109.626 206.502 Q106.571 211.086 100.76 211.086 Q94.9502 211.086 91.8715 206.502 Q88.816 201.896 88.816 193.169 Q88.816 184.419 91.8715 179.836 Q94.9502 175.229 100.76 175.229 Z\" fill=\"#000000\" fill-rule=\"evenodd\" fill-opacity=\"1\" /><path clip-path=\"url(#clip430)\" d=\"M120.922 204.535 L125.807 204.535 L125.807 210.414 L120.922 210.414 L120.922 204.535 Z\" fill=\"#000000\" fill-rule=\"evenodd\" fill-opacity=\"1\" /><path clip-path=\"url(#clip430)\" d=\"M136.038 175.854 L154.394 175.854 L154.394 179.79 L140.32 179.79 L140.32 188.262 Q141.339 187.914 142.357 187.752 Q143.376 187.567 144.394 187.567 Q150.181 187.567 153.561 190.739 Q156.941 193.91 156.941 199.326 Q156.941 204.905 153.468 208.007 Q149.996 211.086 143.677 211.086 Q141.501 211.086 139.232 210.715 Q136.987 210.345 134.58 209.604 L134.58 204.905 Q136.663 206.039 138.885 206.595 Q141.107 207.15 143.584 207.15 Q147.589 207.15 149.927 205.044 Q152.265 202.938 152.265 199.326 Q152.265 195.715 149.927 193.609 Q147.589 191.502 143.584 191.502 Q141.709 191.502 139.834 191.919 Q137.982 192.336 136.038 193.215 L136.038 175.854 Z\" fill=\"#000000\" fill-rule=\"evenodd\" fill-opacity=\"1\" /><path clip-path=\"url(#clip430)\" d=\"M176.153 178.933 Q172.542 178.933 170.714 182.498 Q168.908 186.039 168.908 193.169 Q168.908 200.276 170.714 203.84 Q172.542 207.382 176.153 207.382 Q179.788 207.382 181.593 203.84 Q183.422 200.276 183.422 193.169 Q183.422 186.039 181.593 182.498 Q179.788 178.933 176.153 178.933 M176.153 175.229 Q181.964 175.229 185.019 179.836 Q188.098 184.419 188.098 193.169 Q188.098 201.896 185.019 206.502 Q181.964 211.086 176.153 211.086 Q170.343 211.086 167.265 206.502 Q164.209 201.896 164.209 193.169 Q164.209 184.419 167.265 179.836 Q170.343 175.229 176.153 175.229 Z\" fill=\"#000000\" fill-rule=\"evenodd\" fill-opacity=\"1\" /><circle clip-path=\"url(#clip432)\" cx=\"2249.07\" cy=\"1047.21\" r=\"14.4\" fill=\"#009af9\" fill-rule=\"evenodd\" fill-opacity=\"1\" stroke=\"#000000\" stroke-opacity=\"1\" stroke-width=\"3.2\"/>\n",
       "<circle clip-path=\"url(#clip432)\" cx=\"1021.92\" cy=\"285.13\" r=\"14.4\" fill=\"#009af9\" fill-rule=\"evenodd\" fill-opacity=\"1\" stroke=\"#000000\" stroke-opacity=\"1\" stroke-width=\"3.2\"/>\n",
       "<circle clip-path=\"url(#clip432)\" cx=\"1491.36\" cy=\"711.868\" r=\"14.4\" fill=\"#009af9\" fill-rule=\"evenodd\" fill-opacity=\"1\" stroke=\"#000000\" stroke-opacity=\"1\" stroke-width=\"3.2\"/>\n",
       "<circle clip-path=\"url(#clip432)\" cx=\"1339.29\" cy=\"260.859\" r=\"14.4\" fill=\"#009af9\" fill-rule=\"evenodd\" fill-opacity=\"1\" stroke=\"#000000\" stroke-opacity=\"1\" stroke-width=\"3.2\"/>\n",
       "<circle clip-path=\"url(#clip432)\" cx=\"1881.24\" cy=\"1236.41\" r=\"14.4\" fill=\"#009af9\" fill-rule=\"evenodd\" fill-opacity=\"1\" stroke=\"#000000\" stroke-opacity=\"1\" stroke-width=\"3.2\"/>\n",
       "<circle clip-path=\"url(#clip432)\" cx=\"423.899\" cy=\"596.137\" r=\"14.4\" fill=\"#009af9\" fill-rule=\"evenodd\" fill-opacity=\"1\" stroke=\"#000000\" stroke-opacity=\"1\" stroke-width=\"3.2\"/>\n",
       "<circle clip-path=\"url(#clip432)\" cx=\"1055.22\" cy=\"375.743\" r=\"14.4\" fill=\"#009af9\" fill-rule=\"evenodd\" fill-opacity=\"1\" stroke=\"#000000\" stroke-opacity=\"1\" stroke-width=\"3.2\"/>\n",
       "<circle clip-path=\"url(#clip432)\" cx=\"1917.21\" cy=\"1288.32\" r=\"14.4\" fill=\"#009af9\" fill-rule=\"evenodd\" fill-opacity=\"1\" stroke=\"#000000\" stroke-opacity=\"1\" stroke-width=\"3.2\"/>\n",
       "<circle clip-path=\"url(#clip432)\" cx=\"2077.31\" cy=\"945.744\" r=\"14.4\" fill=\"#009af9\" fill-rule=\"evenodd\" fill-opacity=\"1\" stroke=\"#000000\" stroke-opacity=\"1\" stroke-width=\"3.2\"/>\n",
       "<circle clip-path=\"url(#clip432)\" cx=\"2204.88\" cy=\"1055.34\" r=\"14.4\" fill=\"#009af9\" fill-rule=\"evenodd\" fill-opacity=\"1\" stroke=\"#000000\" stroke-opacity=\"1\" stroke-width=\"3.2\"/>\n",
       "<circle clip-path=\"url(#clip432)\" cx=\"1719.79\" cy=\"1129.74\" r=\"14.4\" fill=\"#009af9\" fill-rule=\"evenodd\" fill-opacity=\"1\" stroke=\"#000000\" stroke-opacity=\"1\" stroke-width=\"3.2\"/>\n",
       "<circle clip-path=\"url(#clip432)\" cx=\"1057.86\" cy=\"267.666\" r=\"14.4\" fill=\"#009af9\" fill-rule=\"evenodd\" fill-opacity=\"1\" stroke=\"#000000\" stroke-opacity=\"1\" stroke-width=\"3.2\"/>\n",
       "<circle clip-path=\"url(#clip432)\" cx=\"943.704\" cy=\"316.025\" r=\"14.4\" fill=\"#009af9\" fill-rule=\"evenodd\" fill-opacity=\"1\" stroke=\"#000000\" stroke-opacity=\"1\" stroke-width=\"3.2\"/>\n",
       "<circle clip-path=\"url(#clip432)\" cx=\"1462.81\" cy=\"667.253\" r=\"14.4\" fill=\"#009af9\" fill-rule=\"evenodd\" fill-opacity=\"1\" stroke=\"#000000\" stroke-opacity=\"1\" stroke-width=\"3.2\"/>\n",
       "<circle clip-path=\"url(#clip432)\" cx=\"2129.63\" cy=\"1111.04\" r=\"14.4\" fill=\"#009af9\" fill-rule=\"evenodd\" fill-opacity=\"1\" stroke=\"#000000\" stroke-opacity=\"1\" stroke-width=\"3.2\"/>\n",
       "<circle clip-path=\"url(#clip432)\" cx=\"748.22\" cy=\"256.169\" r=\"14.4\" fill=\"#009af9\" fill-rule=\"evenodd\" fill-opacity=\"1\" stroke=\"#000000\" stroke-opacity=\"1\" stroke-width=\"3.2\"/>\n",
       "<circle clip-path=\"url(#clip432)\" cx=\"823.866\" cy=\"240.812\" r=\"14.4\" fill=\"#009af9\" fill-rule=\"evenodd\" fill-opacity=\"1\" stroke=\"#000000\" stroke-opacity=\"1\" stroke-width=\"3.2\"/>\n",
       "<circle clip-path=\"url(#clip432)\" cx=\"766.919\" cy=\"335.903\" r=\"14.4\" fill=\"#009af9\" fill-rule=\"evenodd\" fill-opacity=\"1\" stroke=\"#000000\" stroke-opacity=\"1\" stroke-width=\"3.2\"/>\n",
       "<circle clip-path=\"url(#clip432)\" cx=\"2078.89\" cy=\"1024.78\" r=\"14.4\" fill=\"#009af9\" fill-rule=\"evenodd\" fill-opacity=\"1\" stroke=\"#000000\" stroke-opacity=\"1\" stroke-width=\"3.2\"/>\n",
       "<circle clip-path=\"url(#clip432)\" cx=\"1190.35\" cy=\"142.683\" r=\"14.4\" fill=\"#009af9\" fill-rule=\"evenodd\" fill-opacity=\"1\" stroke=\"#000000\" stroke-opacity=\"1\" stroke-width=\"3.2\"/>\n",
       "<circle clip-path=\"url(#clip432)\" cx=\"2264.3\" cy=\"969.494\" r=\"14.4\" fill=\"#009af9\" fill-rule=\"evenodd\" fill-opacity=\"1\" stroke=\"#000000\" stroke-opacity=\"1\" stroke-width=\"3.2\"/>\n",
       "<circle clip-path=\"url(#clip432)\" cx=\"1018.53\" cy=\"507.478\" r=\"14.4\" fill=\"#009af9\" fill-rule=\"evenodd\" fill-opacity=\"1\" stroke=\"#000000\" stroke-opacity=\"1\" stroke-width=\"3.2\"/>\n",
       "<circle clip-path=\"url(#clip432)\" cx=\"1418.08\" cy=\"666.159\" r=\"14.4\" fill=\"#009af9\" fill-rule=\"evenodd\" fill-opacity=\"1\" stroke=\"#000000\" stroke-opacity=\"1\" stroke-width=\"3.2\"/>\n",
       "<circle clip-path=\"url(#clip432)\" cx=\"315.08\" cy=\"797.412\" r=\"14.4\" fill=\"#009af9\" fill-rule=\"evenodd\" fill-opacity=\"1\" stroke=\"#000000\" stroke-opacity=\"1\" stroke-width=\"3.2\"/>\n",
       "<circle clip-path=\"url(#clip432)\" cx=\"2004.5\" cy=\"1445.72\" r=\"14.4\" fill=\"#009af9\" fill-rule=\"evenodd\" fill-opacity=\"1\" stroke=\"#000000\" stroke-opacity=\"1\" stroke-width=\"3.2\"/>\n",
       "<circle clip-path=\"url(#clip432)\" cx=\"934.851\" cy=\"265.214\" r=\"14.4\" fill=\"#009af9\" fill-rule=\"evenodd\" fill-opacity=\"1\" stroke=\"#000000\" stroke-opacity=\"1\" stroke-width=\"3.2\"/>\n",
       "<circle clip-path=\"url(#clip432)\" cx=\"2073.11\" cy=\"1216.28\" r=\"14.4\" fill=\"#009af9\" fill-rule=\"evenodd\" fill-opacity=\"1\" stroke=\"#000000\" stroke-opacity=\"1\" stroke-width=\"3.2\"/>\n",
       "<circle clip-path=\"url(#clip432)\" cx=\"1162.49\" cy=\"188.587\" r=\"14.4\" fill=\"#009af9\" fill-rule=\"evenodd\" fill-opacity=\"1\" stroke=\"#000000\" stroke-opacity=\"1\" stroke-width=\"3.2\"/>\n",
       "<circle clip-path=\"url(#clip432)\" cx=\"1144.55\" cy=\"319.763\" r=\"14.4\" fill=\"#009af9\" fill-rule=\"evenodd\" fill-opacity=\"1\" stroke=\"#000000\" stroke-opacity=\"1\" stroke-width=\"3.2\"/>\n",
       "<circle clip-path=\"url(#clip432)\" cx=\"1409.21\" cy=\"513.377\" r=\"14.4\" fill=\"#009af9\" fill-rule=\"evenodd\" fill-opacity=\"1\" stroke=\"#000000\" stroke-opacity=\"1\" stroke-width=\"3.2\"/>\n",
       "<circle clip-path=\"url(#clip432)\" cx=\"1300.53\" cy=\"335.606\" r=\"14.4\" fill=\"#009af9\" fill-rule=\"evenodd\" fill-opacity=\"1\" stroke=\"#000000\" stroke-opacity=\"1\" stroke-width=\"3.2\"/>\n",
       "<circle clip-path=\"url(#clip432)\" cx=\"1534.86\" cy=\"863.64\" r=\"14.4\" fill=\"#009af9\" fill-rule=\"evenodd\" fill-opacity=\"1\" stroke=\"#000000\" stroke-opacity=\"1\" stroke-width=\"3.2\"/>\n",
       "<circle clip-path=\"url(#clip432)\" cx=\"1909.13\" cy=\"1325.98\" r=\"14.4\" fill=\"#009af9\" fill-rule=\"evenodd\" fill-opacity=\"1\" stroke=\"#000000\" stroke-opacity=\"1\" stroke-width=\"3.2\"/>\n",
       "<circle clip-path=\"url(#clip432)\" cx=\"774.699\" cy=\"144.251\" r=\"14.4\" fill=\"#009af9\" fill-rule=\"evenodd\" fill-opacity=\"1\" stroke=\"#000000\" stroke-opacity=\"1\" stroke-width=\"3.2\"/>\n",
       "<circle clip-path=\"url(#clip432)\" cx=\"1455.99\" cy=\"801.364\" r=\"14.4\" fill=\"#009af9\" fill-rule=\"evenodd\" fill-opacity=\"1\" stroke=\"#000000\" stroke-opacity=\"1\" stroke-width=\"3.2\"/>\n",
       "<circle clip-path=\"url(#clip432)\" cx=\"1358.4\" cy=\"441.623\" r=\"14.4\" fill=\"#009af9\" fill-rule=\"evenodd\" fill-opacity=\"1\" stroke=\"#000000\" stroke-opacity=\"1\" stroke-width=\"3.2\"/>\n",
       "<circle clip-path=\"url(#clip432)\" cx=\"1991.05\" cy=\"1303\" r=\"14.4\" fill=\"#009af9\" fill-rule=\"evenodd\" fill-opacity=\"1\" stroke=\"#000000\" stroke-opacity=\"1\" stroke-width=\"3.2\"/>\n",
       "<circle clip-path=\"url(#clip432)\" cx=\"1058.97\" cy=\"310.664\" r=\"14.4\" fill=\"#009af9\" fill-rule=\"evenodd\" fill-opacity=\"1\" stroke=\"#000000\" stroke-opacity=\"1\" stroke-width=\"3.2\"/>\n",
       "<circle clip-path=\"url(#clip432)\" cx=\"966.332\" cy=\"258.202\" r=\"14.4\" fill=\"#009af9\" fill-rule=\"evenodd\" fill-opacity=\"1\" stroke=\"#000000\" stroke-opacity=\"1\" stroke-width=\"3.2\"/>\n",
       "<circle clip-path=\"url(#clip432)\" cx=\"1917.68\" cy=\"1323.37\" r=\"14.4\" fill=\"#009af9\" fill-rule=\"evenodd\" fill-opacity=\"1\" stroke=\"#000000\" stroke-opacity=\"1\" stroke-width=\"3.2\"/>\n",
       "<circle clip-path=\"url(#clip432)\" cx=\"1345.84\" cy=\"674.817\" r=\"14.4\" fill=\"#009af9\" fill-rule=\"evenodd\" fill-opacity=\"1\" stroke=\"#000000\" stroke-opacity=\"1\" stroke-width=\"3.2\"/>\n",
       "<circle clip-path=\"url(#clip432)\" cx=\"1469.36\" cy=\"674.652\" r=\"14.4\" fill=\"#009af9\" fill-rule=\"evenodd\" fill-opacity=\"1\" stroke=\"#000000\" stroke-opacity=\"1\" stroke-width=\"3.2\"/>\n",
       "<circle clip-path=\"url(#clip432)\" cx=\"773.622\" cy=\"217.355\" r=\"14.4\" fill=\"#009af9\" fill-rule=\"evenodd\" fill-opacity=\"1\" stroke=\"#000000\" stroke-opacity=\"1\" stroke-width=\"3.2\"/>\n",
       "<circle clip-path=\"url(#clip432)\" cx=\"1918.82\" cy=\"1167\" r=\"14.4\" fill=\"#009af9\" fill-rule=\"evenodd\" fill-opacity=\"1\" stroke=\"#000000\" stroke-opacity=\"1\" stroke-width=\"3.2\"/>\n",
       "<circle clip-path=\"url(#clip432)\" cx=\"918.156\" cy=\"237.784\" r=\"14.4\" fill=\"#009af9\" fill-rule=\"evenodd\" fill-opacity=\"1\" stroke=\"#000000\" stroke-opacity=\"1\" stroke-width=\"3.2\"/>\n",
       "<circle clip-path=\"url(#clip432)\" cx=\"1262.94\" cy=\"141.821\" r=\"14.4\" fill=\"#009af9\" fill-rule=\"evenodd\" fill-opacity=\"1\" stroke=\"#000000\" stroke-opacity=\"1\" stroke-width=\"3.2\"/>\n",
       "<circle clip-path=\"url(#clip432)\" cx=\"1391.95\" cy=\"381.634\" r=\"14.4\" fill=\"#009af9\" fill-rule=\"evenodd\" fill-opacity=\"1\" stroke=\"#000000\" stroke-opacity=\"1\" stroke-width=\"3.2\"/>\n",
       "<circle clip-path=\"url(#clip432)\" cx=\"619.546\" cy=\"424.367\" r=\"14.4\" fill=\"#009af9\" fill-rule=\"evenodd\" fill-opacity=\"1\" stroke=\"#000000\" stroke-opacity=\"1\" stroke-width=\"3.2\"/>\n",
       "<circle clip-path=\"url(#clip432)\" cx=\"1678.83\" cy=\"1239.95\" r=\"14.4\" fill=\"#009af9\" fill-rule=\"evenodd\" fill-opacity=\"1\" stroke=\"#000000\" stroke-opacity=\"1\" stroke-width=\"3.2\"/>\n",
       "<circle clip-path=\"url(#clip432)\" cx=\"426.626\" cy=\"736.433\" r=\"14.4\" fill=\"#009af9\" fill-rule=\"evenodd\" fill-opacity=\"1\" stroke=\"#000000\" stroke-opacity=\"1\" stroke-width=\"3.2\"/>\n",
       "<circle clip-path=\"url(#clip432)\" cx=\"1953.22\" cy=\"1389.14\" r=\"14.4\" fill=\"#009af9\" fill-rule=\"evenodd\" fill-opacity=\"1\" stroke=\"#000000\" stroke-opacity=\"1\" stroke-width=\"3.2\"/>\n",
       "<circle clip-path=\"url(#clip432)\" cx=\"962.897\" cy=\"456.725\" r=\"14.4\" fill=\"#009af9\" fill-rule=\"evenodd\" fill-opacity=\"1\" stroke=\"#000000\" stroke-opacity=\"1\" stroke-width=\"3.2\"/>\n",
       "<circle clip-path=\"url(#clip432)\" cx=\"2175.7\" cy=\"929.468\" r=\"14.4\" fill=\"#009af9\" fill-rule=\"evenodd\" fill-opacity=\"1\" stroke=\"#000000\" stroke-opacity=\"1\" stroke-width=\"3.2\"/>\n",
       "<circle clip-path=\"url(#clip432)\" cx=\"935.874\" cy=\"283.363\" r=\"14.4\" fill=\"#009af9\" fill-rule=\"evenodd\" fill-opacity=\"1\" stroke=\"#000000\" stroke-opacity=\"1\" stroke-width=\"3.2\"/>\n",
       "<circle clip-path=\"url(#clip432)\" cx=\"968.962\" cy=\"308.772\" r=\"14.4\" fill=\"#009af9\" fill-rule=\"evenodd\" fill-opacity=\"1\" stroke=\"#000000\" stroke-opacity=\"1\" stroke-width=\"3.2\"/>\n",
       "<circle clip-path=\"url(#clip432)\" cx=\"284.343\" cy=\"705.869\" r=\"14.4\" fill=\"#009af9\" fill-rule=\"evenodd\" fill-opacity=\"1\" stroke=\"#000000\" stroke-opacity=\"1\" stroke-width=\"3.2\"/>\n",
       "<circle clip-path=\"url(#clip432)\" cx=\"1117.83\" cy=\"155.601\" r=\"14.4\" fill=\"#009af9\" fill-rule=\"evenodd\" fill-opacity=\"1\" stroke=\"#000000\" stroke-opacity=\"1\" stroke-width=\"3.2\"/>\n",
       "<circle clip-path=\"url(#clip432)\" cx=\"1273.08\" cy=\"150.703\" r=\"14.4\" fill=\"#009af9\" fill-rule=\"evenodd\" fill-opacity=\"1\" stroke=\"#000000\" stroke-opacity=\"1\" stroke-width=\"3.2\"/>\n",
       "<circle clip-path=\"url(#clip432)\" cx=\"2292.51\" cy=\"857.921\" r=\"14.4\" fill=\"#009af9\" fill-rule=\"evenodd\" fill-opacity=\"1\" stroke=\"#000000\" stroke-opacity=\"1\" stroke-width=\"3.2\"/>\n",
       "<circle clip-path=\"url(#clip432)\" cx=\"978.08\" cy=\"326.565\" r=\"14.4\" fill=\"#009af9\" fill-rule=\"evenodd\" fill-opacity=\"1\" stroke=\"#000000\" stroke-opacity=\"1\" stroke-width=\"3.2\"/>\n",
       "<circle clip-path=\"url(#clip432)\" cx=\"724.862\" cy=\"385.47\" r=\"14.4\" fill=\"#009af9\" fill-rule=\"evenodd\" fill-opacity=\"1\" stroke=\"#000000\" stroke-opacity=\"1\" stroke-width=\"3.2\"/>\n",
       "<circle clip-path=\"url(#clip432)\" cx=\"773.83\" cy=\"348.118\" r=\"14.4\" fill=\"#009af9\" fill-rule=\"evenodd\" fill-opacity=\"1\" stroke=\"#000000\" stroke-opacity=\"1\" stroke-width=\"3.2\"/>\n",
       "<circle clip-path=\"url(#clip432)\" cx=\"1888.64\" cy=\"1392.25\" r=\"14.4\" fill=\"#009af9\" fill-rule=\"evenodd\" fill-opacity=\"1\" stroke=\"#000000\" stroke-opacity=\"1\" stroke-width=\"3.2\"/>\n",
       "<circle clip-path=\"url(#clip432)\" cx=\"1001.97\" cy=\"263.073\" r=\"14.4\" fill=\"#009af9\" fill-rule=\"evenodd\" fill-opacity=\"1\" stroke=\"#000000\" stroke-opacity=\"1\" stroke-width=\"3.2\"/>\n",
       "<circle clip-path=\"url(#clip432)\" cx=\"2146.21\" cy=\"938.044\" r=\"14.4\" fill=\"#009af9\" fill-rule=\"evenodd\" fill-opacity=\"1\" stroke=\"#000000\" stroke-opacity=\"1\" stroke-width=\"3.2\"/>\n",
       "<circle clip-path=\"url(#clip432)\" cx=\"429.706\" cy=\"250.934\" r=\"14.4\" fill=\"#009af9\" fill-rule=\"evenodd\" fill-opacity=\"1\" stroke=\"#000000\" stroke-opacity=\"1\" stroke-width=\"3.2\"/>\n",
       "<circle clip-path=\"url(#clip432)\" cx=\"534.241\" cy=\"326.563\" r=\"14.4\" fill=\"#009af9\" fill-rule=\"evenodd\" fill-opacity=\"1\" stroke=\"#000000\" stroke-opacity=\"1\" stroke-width=\"3.2\"/>\n",
       "<circle clip-path=\"url(#clip432)\" cx=\"884.797\" cy=\"281.348\" r=\"14.4\" fill=\"#009af9\" fill-rule=\"evenodd\" fill-opacity=\"1\" stroke=\"#000000\" stroke-opacity=\"1\" stroke-width=\"3.2\"/>\n",
       "<circle clip-path=\"url(#clip432)\" cx=\"605.149\" cy=\"352.273\" r=\"14.4\" fill=\"#009af9\" fill-rule=\"evenodd\" fill-opacity=\"1\" stroke=\"#000000\" stroke-opacity=\"1\" stroke-width=\"3.2\"/>\n",
       "<circle clip-path=\"url(#clip432)\" cx=\"1486.13\" cy=\"837.552\" r=\"14.4\" fill=\"#009af9\" fill-rule=\"evenodd\" fill-opacity=\"1\" stroke=\"#000000\" stroke-opacity=\"1\" stroke-width=\"3.2\"/>\n",
       "<circle clip-path=\"url(#clip432)\" cx=\"1956.15\" cy=\"1099.22\" r=\"14.4\" fill=\"#009af9\" fill-rule=\"evenodd\" fill-opacity=\"1\" stroke=\"#000000\" stroke-opacity=\"1\" stroke-width=\"3.2\"/>\n",
       "<circle clip-path=\"url(#clip432)\" cx=\"839.718\" cy=\"131.665\" r=\"14.4\" fill=\"#009af9\" fill-rule=\"evenodd\" fill-opacity=\"1\" stroke=\"#000000\" stroke-opacity=\"1\" stroke-width=\"3.2\"/>\n",
       "<circle clip-path=\"url(#clip432)\" cx=\"1460.24\" cy=\"672.351\" r=\"14.4\" fill=\"#009af9\" fill-rule=\"evenodd\" fill-opacity=\"1\" stroke=\"#000000\" stroke-opacity=\"1\" stroke-width=\"3.2\"/>\n",
       "<circle clip-path=\"url(#clip432)\" cx=\"1226.47\" cy=\"87.9763\" r=\"14.4\" fill=\"#009af9\" fill-rule=\"evenodd\" fill-opacity=\"1\" stroke=\"#000000\" stroke-opacity=\"1\" stroke-width=\"3.2\"/>\n",
       "<circle clip-path=\"url(#clip432)\" cx=\"1131.91\" cy=\"252.186\" r=\"14.4\" fill=\"#009af9\" fill-rule=\"evenodd\" fill-opacity=\"1\" stroke=\"#000000\" stroke-opacity=\"1\" stroke-width=\"3.2\"/>\n",
       "<circle clip-path=\"url(#clip432)\" cx=\"1493.23\" cy=\"684.9\" r=\"14.4\" fill=\"#009af9\" fill-rule=\"evenodd\" fill-opacity=\"1\" stroke=\"#000000\" stroke-opacity=\"1\" stroke-width=\"3.2\"/>\n",
       "<circle clip-path=\"url(#clip432)\" cx=\"772.228\" cy=\"311.44\" r=\"14.4\" fill=\"#009af9\" fill-rule=\"evenodd\" fill-opacity=\"1\" stroke=\"#000000\" stroke-opacity=\"1\" stroke-width=\"3.2\"/>\n",
       "<circle clip-path=\"url(#clip432)\" cx=\"2167.3\" cy=\"1182.44\" r=\"14.4\" fill=\"#009af9\" fill-rule=\"evenodd\" fill-opacity=\"1\" stroke=\"#000000\" stroke-opacity=\"1\" stroke-width=\"3.2\"/>\n",
       "<circle clip-path=\"url(#clip432)\" cx=\"1221.34\" cy=\"212.393\" r=\"14.4\" fill=\"#009af9\" fill-rule=\"evenodd\" fill-opacity=\"1\" stroke=\"#000000\" stroke-opacity=\"1\" stroke-width=\"3.2\"/>\n",
       "<circle clip-path=\"url(#clip432)\" cx=\"1991.45\" cy=\"1233.63\" r=\"14.4\" fill=\"#009af9\" fill-rule=\"evenodd\" fill-opacity=\"1\" stroke=\"#000000\" stroke-opacity=\"1\" stroke-width=\"3.2\"/>\n",
       "<circle clip-path=\"url(#clip432)\" cx=\"1298.44\" cy=\"433.57\" r=\"14.4\" fill=\"#009af9\" fill-rule=\"evenodd\" fill-opacity=\"1\" stroke=\"#000000\" stroke-opacity=\"1\" stroke-width=\"3.2\"/>\n",
       "<circle clip-path=\"url(#clip432)\" cx=\"642.945\" cy=\"97.7375\" r=\"14.4\" fill=\"#009af9\" fill-rule=\"evenodd\" fill-opacity=\"1\" stroke=\"#000000\" stroke-opacity=\"1\" stroke-width=\"3.2\"/>\n",
       "<circle clip-path=\"url(#clip432)\" cx=\"823.439\" cy=\"252.827\" r=\"14.4\" fill=\"#009af9\" fill-rule=\"evenodd\" fill-opacity=\"1\" stroke=\"#000000\" stroke-opacity=\"1\" stroke-width=\"3.2\"/>\n",
       "<circle clip-path=\"url(#clip432)\" cx=\"445.674\" cy=\"553.058\" r=\"14.4\" fill=\"#009af9\" fill-rule=\"evenodd\" fill-opacity=\"1\" stroke=\"#000000\" stroke-opacity=\"1\" stroke-width=\"3.2\"/>\n",
       "<circle clip-path=\"url(#clip432)\" cx=\"974.63\" cy=\"397.389\" r=\"14.4\" fill=\"#009af9\" fill-rule=\"evenodd\" fill-opacity=\"1\" stroke=\"#000000\" stroke-opacity=\"1\" stroke-width=\"3.2\"/>\n",
       "<circle clip-path=\"url(#clip432)\" cx=\"925.526\" cy=\"196.761\" r=\"14.4\" fill=\"#009af9\" fill-rule=\"evenodd\" fill-opacity=\"1\" stroke=\"#000000\" stroke-opacity=\"1\" stroke-width=\"3.2\"/>\n",
       "<circle clip-path=\"url(#clip432)\" cx=\"1822.28\" cy=\"976.327\" r=\"14.4\" fill=\"#009af9\" fill-rule=\"evenodd\" fill-opacity=\"1\" stroke=\"#000000\" stroke-opacity=\"1\" stroke-width=\"3.2\"/>\n",
       "<circle clip-path=\"url(#clip432)\" cx=\"1139.13\" cy=\"353.577\" r=\"14.4\" fill=\"#009af9\" fill-rule=\"evenodd\" fill-opacity=\"1\" stroke=\"#000000\" stroke-opacity=\"1\" stroke-width=\"3.2\"/>\n",
       "<circle clip-path=\"url(#clip432)\" cx=\"662.365\" cy=\"299.401\" r=\"14.4\" fill=\"#009af9\" fill-rule=\"evenodd\" fill-opacity=\"1\" stroke=\"#000000\" stroke-opacity=\"1\" stroke-width=\"3.2\"/>\n",
       "<circle clip-path=\"url(#clip432)\" cx=\"1171.09\" cy=\"238.322\" r=\"14.4\" fill=\"#009af9\" fill-rule=\"evenodd\" fill-opacity=\"1\" stroke=\"#000000\" stroke-opacity=\"1\" stroke-width=\"3.2\"/>\n",
       "<circle clip-path=\"url(#clip432)\" cx=\"762.683\" cy=\"543.073\" r=\"14.4\" fill=\"#009af9\" fill-rule=\"evenodd\" fill-opacity=\"1\" stroke=\"#000000\" stroke-opacity=\"1\" stroke-width=\"3.2\"/>\n",
       "<circle clip-path=\"url(#clip432)\" cx=\"1890.92\" cy=\"1118.27\" r=\"14.4\" fill=\"#009af9\" fill-rule=\"evenodd\" fill-opacity=\"1\" stroke=\"#000000\" stroke-opacity=\"1\" stroke-width=\"3.2\"/>\n",
       "<circle clip-path=\"url(#clip432)\" cx=\"2143.48\" cy=\"1011.66\" r=\"14.4\" fill=\"#009af9\" fill-rule=\"evenodd\" fill-opacity=\"1\" stroke=\"#000000\" stroke-opacity=\"1\" stroke-width=\"3.2\"/>\n",
       "<circle clip-path=\"url(#clip432)\" cx=\"1002.73\" cy=\"233.44\" r=\"14.4\" fill=\"#009af9\" fill-rule=\"evenodd\" fill-opacity=\"1\" stroke=\"#000000\" stroke-opacity=\"1\" stroke-width=\"3.2\"/>\n",
       "<circle clip-path=\"url(#clip432)\" cx=\"1689.39\" cy=\"1274.67\" r=\"14.4\" fill=\"#009af9\" fill-rule=\"evenodd\" fill-opacity=\"1\" stroke=\"#000000\" stroke-opacity=\"1\" stroke-width=\"3.2\"/>\n",
       "<circle clip-path=\"url(#clip432)\" cx=\"2112.04\" cy=\"1093.65\" r=\"14.4\" fill=\"#009af9\" fill-rule=\"evenodd\" fill-opacity=\"1\" stroke=\"#000000\" stroke-opacity=\"1\" stroke-width=\"3.2\"/>\n",
       "<circle clip-path=\"url(#clip432)\" cx=\"902.589\" cy=\"156.574\" r=\"14.4\" fill=\"#009af9\" fill-rule=\"evenodd\" fill-opacity=\"1\" stroke=\"#000000\" stroke-opacity=\"1\" stroke-width=\"3.2\"/>\n",
       "<circle clip-path=\"url(#clip432)\" cx=\"1420.22\" cy=\"586.892\" r=\"14.4\" fill=\"#009af9\" fill-rule=\"evenodd\" fill-opacity=\"1\" stroke=\"#000000\" stroke-opacity=\"1\" stroke-width=\"3.2\"/>\n",
       "<circle clip-path=\"url(#clip432)\" cx=\"1312.18\" cy=\"285.051\" r=\"14.4\" fill=\"#009af9\" fill-rule=\"evenodd\" fill-opacity=\"1\" stroke=\"#000000\" stroke-opacity=\"1\" stroke-width=\"3.2\"/>\n",
       "<circle clip-path=\"url(#clip432)\" cx=\"426.306\" cy=\"476.579\" r=\"14.4\" fill=\"#009af9\" fill-rule=\"evenodd\" fill-opacity=\"1\" stroke=\"#000000\" stroke-opacity=\"1\" stroke-width=\"3.2\"/>\n",
       "</svg>\n"
      ]
     },
     "execution_count": 9,
     "metadata": {},
     "output_type": "execute_result"
    }
   ],
   "source": [
    "using Plots\n",
    "scatter(t,y,legend=false)"
   ]
  },
  {
   "cell_type": "markdown",
   "id": "3d68a92b",
   "metadata": {},
   "source": [
    "Sprawdźmy najpierw jak zachowują się błędy w porównaniu z rozwiązaniem bazowym:"
   ]
  },
  {
   "cell_type": "code",
   "execution_count": 10,
   "id": "0e3c64b1",
   "metadata": {},
   "outputs": [],
   "source": [
    "#Generate the test set.\n",
    "m = 100;\n",
    "t_test = -1 .+ 2*rand(m,1)\n",
    "y_test = t_test.^3 - t_test + 0.4 ./ (1 .+ 25*t_test.^2) + 0.10*randn(m,1);"
   ]
  },
  {
   "cell_type": "code",
   "execution_count": 11,
   "id": "aee4fabc",
   "metadata": {},
   "outputs": [],
   "source": [
    "error_train = zeros(21);\n",
    "error_train_gs = zeros(21);\n",
    "error_test = zeros(21);\n",
    "error_test_gs = zeros(21);"
   ]
  },
  {
   "cell_type": "code",
   "execution_count": 12,
   "id": "69834a06",
   "metadata": {},
   "outputs": [],
   "source": [
    "for p = 1:21\n",
    "    α = fitpoly(t,y,p)\n",
    "    error_train[p] = MSE(fitdata(t,p,α),y) \n",
    "    error_test[p] = MSE(fitdata(t_test,p,α),y_test)\n",
    "    a = gram_schmidt_solve(t,y,p)\n",
    "    error_train_gs[p] = MSE(fitdata(t,p,a),y) \n",
    "    error_test_gs[p] = MSE(fitdata(t_test,p,a),y_test)\n",
    "end\n"
   ]
  },
  {
   "cell_type": "code",
   "execution_count": 13,
   "id": "ef1653d6",
   "metadata": {},
   "outputs": [
    {
     "data": {
      "image/svg+xml": [
       "<?xml version=\"1.0\" encoding=\"utf-8\"?>\n",
       "<svg xmlns=\"http://www.w3.org/2000/svg\" xmlns:xlink=\"http://www.w3.org/1999/xlink\" width=\"600\" height=\"400\" viewBox=\"0 0 2400 1600\">\n",
       "<defs>\n",
       "  <clipPath id=\"clip470\">\n",
       "    <rect x=\"0\" y=\"0\" width=\"2400\" height=\"1600\"/>\n",
       "  </clipPath>\n",
       "</defs>\n",
       "<path clip-path=\"url(#clip470)\" d=\"\n",
       "M0 1600 L2400 1600 L2400 0 L0 0  Z\n",
       "  \" fill=\"#ffffff\" fill-rule=\"evenodd\" fill-opacity=\"1\"/>\n",
       "<defs>\n",
       "  <clipPath id=\"clip471\">\n",
       "    <rect x=\"480\" y=\"0\" width=\"1681\" height=\"1600\"/>\n",
       "  </clipPath>\n",
       "</defs>\n",
       "<path clip-path=\"url(#clip470)\" d=\"\n",
       "M175.445 1423.18 L2352.76 1423.18 L2352.76 47.2441 L175.445 47.2441  Z\n",
       "  \" fill=\"#ffffff\" fill-rule=\"evenodd\" fill-opacity=\"1\"/>\n",
       "<defs>\n",
       "  <clipPath id=\"clip472\">\n",
       "    <rect x=\"175\" y=\"47\" width=\"2178\" height=\"1377\"/>\n",
       "  </clipPath>\n",
       "</defs>\n",
       "<polyline clip-path=\"url(#clip472)\" style=\"stroke:#000000; stroke-linecap:round; stroke-linejoin:round; stroke-width:2; stroke-opacity:0.1; fill:none\" points=\"\n",
       "  237.067,1423.18 237.067,47.2441 \n",
       "  \"/>\n",
       "<polyline clip-path=\"url(#clip472)\" style=\"stroke:#000000; stroke-linecap:round; stroke-linejoin:round; stroke-width:2; stroke-opacity:0.1; fill:none\" points=\"\n",
       "  750.584,1423.18 750.584,47.2441 \n",
       "  \"/>\n",
       "<polyline clip-path=\"url(#clip472)\" style=\"stroke:#000000; stroke-linecap:round; stroke-linejoin:round; stroke-width:2; stroke-opacity:0.1; fill:none\" points=\"\n",
       "  1264.1,1423.18 1264.1,47.2441 \n",
       "  \"/>\n",
       "<polyline clip-path=\"url(#clip472)\" style=\"stroke:#000000; stroke-linecap:round; stroke-linejoin:round; stroke-width:2; stroke-opacity:0.1; fill:none\" points=\"\n",
       "  1777.62,1423.18 1777.62,47.2441 \n",
       "  \"/>\n",
       "<polyline clip-path=\"url(#clip472)\" style=\"stroke:#000000; stroke-linecap:round; stroke-linejoin:round; stroke-width:2; stroke-opacity:0.1; fill:none\" points=\"\n",
       "  2291.13,1423.18 2291.13,47.2441 \n",
       "  \"/>\n",
       "<polyline clip-path=\"url(#clip470)\" style=\"stroke:#000000; stroke-linecap:round; stroke-linejoin:round; stroke-width:4; stroke-opacity:1; fill:none\" points=\"\n",
       "  175.445,1423.18 2352.76,1423.18 \n",
       "  \"/>\n",
       "<polyline clip-path=\"url(#clip470)\" style=\"stroke:#000000; stroke-linecap:round; stroke-linejoin:round; stroke-width:4; stroke-opacity:1; fill:none\" points=\"\n",
       "  237.067,1423.18 237.067,1404.28 \n",
       "  \"/>\n",
       "<polyline clip-path=\"url(#clip470)\" style=\"stroke:#000000; stroke-linecap:round; stroke-linejoin:round; stroke-width:4; stroke-opacity:1; fill:none\" points=\"\n",
       "  750.584,1423.18 750.584,1404.28 \n",
       "  \"/>\n",
       "<polyline clip-path=\"url(#clip470)\" style=\"stroke:#000000; stroke-linecap:round; stroke-linejoin:round; stroke-width:4; stroke-opacity:1; fill:none\" points=\"\n",
       "  1264.1,1423.18 1264.1,1404.28 \n",
       "  \"/>\n",
       "<polyline clip-path=\"url(#clip470)\" style=\"stroke:#000000; stroke-linecap:round; stroke-linejoin:round; stroke-width:4; stroke-opacity:1; fill:none\" points=\"\n",
       "  1777.62,1423.18 1777.62,1404.28 \n",
       "  \"/>\n",
       "<polyline clip-path=\"url(#clip470)\" style=\"stroke:#000000; stroke-linecap:round; stroke-linejoin:round; stroke-width:4; stroke-opacity:1; fill:none\" points=\"\n",
       "  2291.13,1423.18 2291.13,1404.28 \n",
       "  \"/>\n",
       "<path clip-path=\"url(#clip470)\" d=\"M237.067 1454.1 Q233.456 1454.1 231.627 1457.66 Q229.822 1461.2 229.822 1468.33 Q229.822 1475.44 231.627 1479.01 Q233.456 1482.55 237.067 1482.55 Q240.701 1482.55 242.507 1479.01 Q244.336 1475.44 244.336 1468.33 Q244.336 1461.2 242.507 1457.66 Q240.701 1454.1 237.067 1454.1 M237.067 1450.39 Q242.877 1450.39 245.933 1455 Q249.012 1459.58 249.012 1468.33 Q249.012 1477.06 245.933 1481.67 Q242.877 1486.25 237.067 1486.25 Q231.257 1486.25 228.178 1481.67 Q225.123 1477.06 225.123 1468.33 Q225.123 1459.58 228.178 1455 Q231.257 1450.39 237.067 1450.39 Z\" fill=\"#000000\" fill-rule=\"evenodd\" fill-opacity=\"1\" /><path clip-path=\"url(#clip470)\" d=\"M740.862 1451.02 L759.218 1451.02 L759.218 1454.96 L745.144 1454.96 L745.144 1463.43 Q746.163 1463.08 747.181 1462.92 Q748.2 1462.73 749.218 1462.73 Q755.005 1462.73 758.385 1465.9 Q761.764 1469.08 761.764 1474.49 Q761.764 1480.07 758.292 1483.17 Q754.82 1486.25 748.501 1486.25 Q746.325 1486.25 744.056 1485.88 Q741.811 1485.51 739.403 1484.77 L739.403 1480.07 Q741.487 1481.2 743.709 1481.76 Q745.931 1482.32 748.408 1482.32 Q752.413 1482.32 754.751 1480.21 Q757.088 1478.1 757.088 1474.49 Q757.088 1470.88 754.751 1468.77 Q752.413 1466.67 748.408 1466.67 Q746.533 1466.67 744.658 1467.08 Q742.806 1467.5 740.862 1468.38 L740.862 1451.02 Z\" fill=\"#000000\" fill-rule=\"evenodd\" fill-opacity=\"1\" /><path clip-path=\"url(#clip470)\" d=\"M1238.79 1481.64 L1246.43 1481.64 L1246.43 1455.28 L1238.12 1456.95 L1238.12 1452.69 L1246.38 1451.02 L1251.06 1451.02 L1251.06 1481.64 L1258.7 1481.64 L1258.7 1485.58 L1238.79 1485.58 L1238.79 1481.64 Z\" fill=\"#000000\" fill-rule=\"evenodd\" fill-opacity=\"1\" /><path clip-path=\"url(#clip470)\" d=\"M1278.14 1454.1 Q1274.53 1454.1 1272.7 1457.66 Q1270.89 1461.2 1270.89 1468.33 Q1270.89 1475.44 1272.7 1479.01 Q1274.53 1482.55 1278.14 1482.55 Q1281.77 1482.55 1283.58 1479.01 Q1285.41 1475.44 1285.41 1468.33 Q1285.41 1461.2 1283.58 1457.66 Q1281.77 1454.1 1278.14 1454.1 M1278.14 1450.39 Q1283.95 1450.39 1287.01 1455 Q1290.08 1459.58 1290.08 1468.33 Q1290.08 1477.06 1287.01 1481.67 Q1283.95 1486.25 1278.14 1486.25 Q1272.33 1486.25 1269.25 1481.67 Q1266.2 1477.06 1266.2 1468.33 Q1266.2 1459.58 1269.25 1455 Q1272.33 1450.39 1278.14 1450.39 Z\" fill=\"#000000\" fill-rule=\"evenodd\" fill-opacity=\"1\" /><path clip-path=\"url(#clip470)\" d=\"M1752.8 1481.64 L1760.44 1481.64 L1760.44 1455.28 L1752.13 1456.95 L1752.13 1452.69 L1760.4 1451.02 L1765.07 1451.02 L1765.07 1481.64 L1772.71 1481.64 L1772.71 1485.58 L1752.8 1485.58 L1752.8 1481.64 Z\" fill=\"#000000\" fill-rule=\"evenodd\" fill-opacity=\"1\" /><path clip-path=\"url(#clip470)\" d=\"M1782.2 1451.02 L1800.56 1451.02 L1800.56 1454.96 L1786.48 1454.96 L1786.48 1463.43 Q1787.5 1463.08 1788.52 1462.92 Q1789.54 1462.73 1790.56 1462.73 Q1796.34 1462.73 1799.72 1465.9 Q1803.1 1469.08 1803.1 1474.49 Q1803.1 1480.07 1799.63 1483.17 Q1796.16 1486.25 1789.84 1486.25 Q1787.66 1486.25 1785.39 1485.88 Q1783.15 1485.51 1780.74 1484.77 L1780.74 1480.07 Q1782.83 1481.2 1785.05 1481.76 Q1787.27 1482.32 1789.75 1482.32 Q1793.75 1482.32 1796.09 1480.21 Q1798.43 1478.1 1798.43 1474.49 Q1798.43 1470.88 1796.09 1468.77 Q1793.75 1466.67 1789.75 1466.67 Q1787.87 1466.67 1786 1467.08 Q1784.14 1467.5 1782.2 1468.38 L1782.2 1451.02 Z\" fill=\"#000000\" fill-rule=\"evenodd\" fill-opacity=\"1\" /><path clip-path=\"url(#clip470)\" d=\"M2269.91 1481.64 L2286.23 1481.64 L2286.23 1485.58 L2264.28 1485.58 L2264.28 1481.64 Q2266.94 1478.89 2271.53 1474.26 Q2276.13 1469.61 2277.31 1468.27 Q2279.56 1465.74 2280.44 1464.01 Q2281.34 1462.25 2281.34 1460.56 Q2281.34 1457.8 2279.4 1456.07 Q2277.48 1454.33 2274.37 1454.33 Q2272.18 1454.33 2269.72 1455.09 Q2267.29 1455.86 2264.51 1457.41 L2264.51 1452.69 Q2267.34 1451.55 2269.79 1450.97 Q2272.25 1450.39 2274.28 1450.39 Q2279.65 1450.39 2282.85 1453.08 Q2286.04 1455.77 2286.04 1460.26 Q2286.04 1462.39 2285.23 1464.31 Q2284.44 1466.2 2282.34 1468.8 Q2281.76 1469.47 2278.66 1472.69 Q2275.56 1475.88 2269.91 1481.64 Z\" fill=\"#000000\" fill-rule=\"evenodd\" fill-opacity=\"1\" /><path clip-path=\"url(#clip470)\" d=\"M2306.04 1454.1 Q2302.43 1454.1 2300.6 1457.66 Q2298.8 1461.2 2298.8 1468.33 Q2298.8 1475.44 2300.6 1479.01 Q2302.43 1482.55 2306.04 1482.55 Q2309.68 1482.55 2311.48 1479.01 Q2313.31 1475.44 2313.31 1468.33 Q2313.31 1461.2 2311.48 1457.66 Q2309.68 1454.1 2306.04 1454.1 M2306.04 1450.39 Q2311.85 1450.39 2314.91 1455 Q2317.99 1459.58 2317.99 1468.33 Q2317.99 1477.06 2314.91 1481.67 Q2311.85 1486.25 2306.04 1486.25 Q2300.23 1486.25 2297.15 1481.67 Q2294.1 1477.06 2294.1 1468.33 Q2294.1 1459.58 2297.15 1455 Q2300.23 1450.39 2306.04 1450.39 Z\" fill=\"#000000\" fill-rule=\"evenodd\" fill-opacity=\"1\" /><path clip-path=\"url(#clip470)\" d=\"M1156.84 1525.81 L1156.84 1562.76 L1164.6 1562.76 Q1174.44 1562.76 1178.99 1558.3 Q1183.57 1553.85 1183.57 1544.24 Q1183.57 1534.69 1178.99 1530.26 Q1174.44 1525.81 1164.6 1525.81 L1156.84 1525.81 M1150.41 1520.52 L1163.62 1520.52 Q1177.43 1520.52 1183.89 1526.28 Q1190.35 1532.01 1190.35 1544.24 Q1190.35 1556.52 1183.86 1562.28 Q1177.37 1568.04 1163.62 1568.04 L1150.41 1568.04 L1150.41 1520.52 Z\" fill=\"#000000\" fill-rule=\"evenodd\" fill-opacity=\"1\" /><path clip-path=\"url(#clip470)\" d=\"M1230.84 1548.76 L1230.84 1551.62 L1203.91 1551.62 Q1204.29 1557.67 1207.54 1560.85 Q1210.82 1564 1216.64 1564 Q1220.02 1564 1223.17 1563.17 Q1226.35 1562.35 1229.47 1560.69 L1229.47 1566.23 Q1226.32 1567.57 1223.01 1568.27 Q1219.7 1568.97 1216.29 1568.97 Q1207.76 1568.97 1202.77 1564 Q1197.8 1559.04 1197.8 1550.57 Q1197.8 1541.82 1202.51 1536.69 Q1207.25 1531.54 1215.28 1531.54 Q1222.47 1531.54 1226.64 1536.18 Q1230.84 1540.8 1230.84 1548.76 M1224.98 1547.04 Q1224.92 1542.23 1222.28 1539.37 Q1219.67 1536.5 1215.34 1536.5 Q1210.44 1536.5 1207.48 1539.27 Q1204.55 1542.04 1204.1 1547.07 L1224.98 1547.04 Z\" fill=\"#000000\" fill-rule=\"evenodd\" fill-opacity=\"1\" /><path clip-path=\"url(#clip470)\" d=\"M1263.91 1549.81 Q1263.91 1543.44 1261.27 1539.94 Q1258.66 1536.44 1253.92 1536.44 Q1249.2 1536.44 1246.56 1539.94 Q1243.95 1543.44 1243.95 1549.81 Q1243.95 1556.14 1246.56 1559.64 Q1249.2 1563.14 1253.92 1563.14 Q1258.66 1563.14 1261.27 1559.64 Q1263.91 1556.14 1263.91 1549.81 M1269.77 1563.62 Q1269.77 1572.72 1265.72 1577.15 Q1261.68 1581.6 1253.34 1581.6 Q1250.26 1581.6 1247.52 1581.13 Q1244.78 1580.68 1242.2 1579.72 L1242.2 1574.03 Q1244.78 1575.43 1247.3 1576.1 Q1249.81 1576.76 1252.42 1576.76 Q1258.18 1576.76 1261.05 1573.74 Q1263.91 1570.75 1263.91 1564.67 L1263.91 1561.77 Q1262.1 1564.92 1259.26 1566.48 Q1256.43 1568.04 1252.48 1568.04 Q1245.93 1568.04 1241.92 1563.05 Q1237.91 1558.05 1237.91 1549.81 Q1237.91 1541.53 1241.92 1536.53 Q1245.93 1531.54 1252.48 1531.54 Q1256.43 1531.54 1259.26 1533.1 Q1262.1 1534.66 1263.91 1537.81 L1263.91 1532.4 L1269.77 1532.4 L1269.77 1563.62 Z\" fill=\"#000000\" fill-rule=\"evenodd\" fill-opacity=\"1\" /><path clip-path=\"url(#clip470)\" d=\"M1302.49 1537.87 Q1301.5 1537.3 1300.32 1537.04 Q1299.18 1536.76 1297.78 1536.76 Q1292.81 1536.76 1290.14 1540 Q1287.49 1543.22 1287.49 1549.27 L1287.49 1568.04 L1281.61 1568.04 L1281.61 1532.4 L1287.49 1532.4 L1287.49 1537.93 Q1289.34 1534.69 1292.3 1533.13 Q1295.26 1531.54 1299.49 1531.54 Q1300.1 1531.54 1300.83 1531.63 Q1301.56 1531.7 1302.45 1531.85 L1302.49 1537.87 Z\" fill=\"#000000\" fill-rule=\"evenodd\" fill-opacity=\"1\" /><path clip-path=\"url(#clip470)\" d=\"M1337.69 1548.76 L1337.69 1551.62 L1310.76 1551.62 Q1311.14 1557.67 1314.39 1560.85 Q1317.67 1564 1323.49 1564 Q1326.87 1564 1330.02 1563.17 Q1333.2 1562.35 1336.32 1560.69 L1336.32 1566.23 Q1333.17 1567.57 1329.86 1568.27 Q1326.55 1568.97 1323.14 1568.97 Q1314.61 1568.97 1309.62 1564 Q1304.65 1559.04 1304.65 1550.57 Q1304.65 1541.82 1309.36 1536.69 Q1314.1 1531.54 1322.12 1531.54 Q1329.32 1531.54 1333.49 1536.18 Q1337.69 1540.8 1337.69 1548.76 M1331.83 1547.04 Q1331.77 1542.23 1329.13 1539.37 Q1326.52 1536.5 1322.19 1536.5 Q1317.29 1536.5 1314.33 1539.27 Q1311.4 1542.04 1310.95 1547.07 L1331.83 1547.04 Z\" fill=\"#000000\" fill-rule=\"evenodd\" fill-opacity=\"1\" /><path clip-path=\"url(#clip470)\" d=\"M1377.79 1548.76 L1377.79 1551.62 L1350.87 1551.62 Q1351.25 1557.67 1354.49 1560.85 Q1357.77 1564 1363.6 1564 Q1366.97 1564 1370.12 1563.17 Q1373.3 1562.35 1376.42 1560.69 L1376.42 1566.23 Q1373.27 1567.57 1369.96 1568.27 Q1366.65 1568.97 1363.25 1568.97 Q1354.72 1568.97 1349.72 1564 Q1344.75 1559.04 1344.75 1550.57 Q1344.75 1541.82 1349.46 1536.69 Q1354.21 1531.54 1362.23 1531.54 Q1369.42 1531.54 1373.59 1536.18 Q1377.79 1540.8 1377.79 1548.76 M1371.94 1547.04 Q1371.87 1542.23 1369.23 1539.37 Q1366.62 1536.5 1362.29 1536.5 Q1357.39 1536.5 1354.43 1539.27 Q1351.5 1542.04 1351.06 1547.07 L1371.94 1547.04 Z\" fill=\"#000000\" fill-rule=\"evenodd\" fill-opacity=\"1\" /><polyline clip-path=\"url(#clip472)\" style=\"stroke:#000000; stroke-linecap:round; stroke-linejoin:round; stroke-width:2; stroke-opacity:0.1; fill:none\" points=\"\n",
       "  175.445,1252 2352.76,1252 \n",
       "  \"/>\n",
       "<polyline clip-path=\"url(#clip472)\" style=\"stroke:#000000; stroke-linecap:round; stroke-linejoin:round; stroke-width:2; stroke-opacity:0.1; fill:none\" points=\"\n",
       "  175.445,917.274 2352.76,917.274 \n",
       "  \"/>\n",
       "<polyline clip-path=\"url(#clip472)\" style=\"stroke:#000000; stroke-linecap:round; stroke-linejoin:round; stroke-width:2; stroke-opacity:0.1; fill:none\" points=\"\n",
       "  175.445,582.553 2352.76,582.553 \n",
       "  \"/>\n",
       "<polyline clip-path=\"url(#clip472)\" style=\"stroke:#000000; stroke-linecap:round; stroke-linejoin:round; stroke-width:2; stroke-opacity:0.1; fill:none\" points=\"\n",
       "  175.445,247.832 2352.76,247.832 \n",
       "  \"/>\n",
       "<polyline clip-path=\"url(#clip470)\" style=\"stroke:#000000; stroke-linecap:round; stroke-linejoin:round; stroke-width:4; stroke-opacity:1; fill:none\" points=\"\n",
       "  175.445,1423.18 175.445,47.2441 \n",
       "  \"/>\n",
       "<polyline clip-path=\"url(#clip470)\" style=\"stroke:#000000; stroke-linecap:round; stroke-linejoin:round; stroke-width:4; stroke-opacity:1; fill:none\" points=\"\n",
       "  175.445,1252 194.343,1252 \n",
       "  \"/>\n",
       "<polyline clip-path=\"url(#clip470)\" style=\"stroke:#000000; stroke-linecap:round; stroke-linejoin:round; stroke-width:4; stroke-opacity:1; fill:none\" points=\"\n",
       "  175.445,917.274 194.343,917.274 \n",
       "  \"/>\n",
       "<polyline clip-path=\"url(#clip470)\" style=\"stroke:#000000; stroke-linecap:round; stroke-linejoin:round; stroke-width:4; stroke-opacity:1; fill:none\" points=\"\n",
       "  175.445,582.553 194.343,582.553 \n",
       "  \"/>\n",
       "<polyline clip-path=\"url(#clip470)\" style=\"stroke:#000000; stroke-linecap:round; stroke-linejoin:round; stroke-width:4; stroke-opacity:1; fill:none\" points=\"\n",
       "  175.445,247.832 194.343,247.832 \n",
       "  \"/>\n",
       "<path clip-path=\"url(#clip470)\" d=\"M119.538 1265.34 L127.177 1265.34 L127.177 1238.98 L118.867 1240.64 L118.867 1236.38 L127.13 1234.72 L131.806 1234.72 L131.806 1265.34 L139.445 1265.34 L139.445 1269.28 L119.538 1269.28 L119.538 1265.34 Z\" fill=\"#000000\" fill-rule=\"evenodd\" fill-opacity=\"1\" /><path clip-path=\"url(#clip470)\" d=\"M123.126 930.619 L139.445 930.619 L139.445 934.554 L117.501 934.554 L117.501 930.619 Q120.163 927.865 124.746 923.235 Q129.353 918.582 130.533 917.24 Q132.779 914.717 133.658 912.981 Q134.561 911.221 134.561 909.531 Q134.561 906.777 132.617 905.041 Q130.695 903.305 127.593 903.305 Q125.394 903.305 122.941 904.069 Q120.51 904.832 117.732 906.383 L117.732 901.661 Q120.556 900.527 123.01 899.948 Q125.464 899.369 127.501 899.369 Q132.871 899.369 136.066 902.055 Q139.26 904.74 139.26 909.231 Q139.26 911.36 138.45 913.281 Q137.663 915.18 135.556 917.772 Q134.978 918.443 131.876 921.661 Q128.774 924.855 123.126 930.619 Z\" fill=\"#000000\" fill-rule=\"evenodd\" fill-opacity=\"1\" /><path clip-path=\"url(#clip470)\" d=\"M132.316 581.199 Q135.672 581.916 137.547 584.185 Q139.445 586.453 139.445 589.787 Q139.445 594.902 135.927 597.703 Q132.408 600.504 125.927 600.504 Q123.751 600.504 121.436 600.064 Q119.144 599.648 116.691 598.791 L116.691 594.277 Q118.635 595.412 120.95 595.99 Q123.265 596.569 125.788 596.569 Q130.186 596.569 132.478 594.833 Q134.792 593.097 134.792 589.787 Q134.792 586.731 132.64 585.018 Q130.51 583.282 126.691 583.282 L122.663 583.282 L122.663 579.44 L126.876 579.44 Q130.325 579.44 132.154 578.074 Q133.982 576.685 133.982 574.092 Q133.982 571.43 132.084 570.018 Q130.209 568.583 126.691 568.583 Q124.769 568.583 122.57 569 Q120.371 569.417 117.732 570.296 L117.732 566.129 Q120.394 565.389 122.709 565.018 Q125.047 564.648 127.107 564.648 Q132.431 564.648 135.533 567.079 Q138.635 569.486 138.635 573.606 Q138.635 576.477 136.992 578.467 Q135.348 580.435 132.316 581.199 Z\" fill=\"#000000\" fill-rule=\"evenodd\" fill-opacity=\"1\" /><path clip-path=\"url(#clip470)\" d=\"M129.862 234.626 L118.056 253.075 L129.862 253.075 L129.862 234.626 M128.635 230.552 L134.515 230.552 L134.515 253.075 L139.445 253.075 L139.445 256.963 L134.515 256.963 L134.515 265.112 L129.862 265.112 L129.862 256.963 L114.26 256.963 L114.26 252.45 L128.635 230.552 Z\" fill=\"#000000\" fill-rule=\"evenodd\" fill-opacity=\"1\" /><path clip-path=\"url(#clip470)\" d=\"M41.7242 1011.99 Q42.4244 1009.92 44.7161 1007.98 Q47.0077 1006.01 51.0181 1004.04 L64.0042 997.511 L64.0042 1004.42 L51.8138 1010.5 Q47.0395 1012.85 45.48 1015.08 Q43.9204 1017.28 43.9204 1021.1 L43.9204 1028.1 L64.0042 1028.1 L64.0042 1034.53 L16.4842 1034.53 L16.4842 1020.01 Q16.4842 1011.87 19.8898 1007.86 Q23.2955 1003.84 30.1704 1003.84 Q34.6582 1003.84 37.6183 1005.95 Q40.5784 1008.01 41.7242 1011.99 M21.7677 1028.1 L38.6368 1028.1 L38.6368 1020.01 Q38.6368 1015.37 36.5043 1013.01 Q34.34 1010.62 30.1704 1010.62 Q26.0009 1010.62 23.9002 1013.01 Q21.7677 1015.37 21.7677 1020.01 L21.7677 1028.1 Z\" fill=\"#000000\" fill-rule=\"evenodd\" fill-opacity=\"1\" /><path clip-path=\"url(#clip470)\" d=\"M44.7161 961.927 L47.5806 961.927 L47.5806 988.854 Q53.6281 988.472 56.8109 985.225 Q59.9619 981.947 59.9619 976.122 Q59.9619 972.748 59.1344 969.597 Q58.3069 966.414 56.6518 963.295 L62.1899 963.295 Q63.5267 966.446 64.227 969.756 Q64.9272 973.067 64.9272 976.472 Q64.9272 985.002 59.9619 989.999 Q54.9967 994.965 46.5303 994.965 Q37.7774 994.965 32.6531 990.254 Q27.4968 985.512 27.4968 977.491 Q27.4968 970.298 32.1438 966.128 Q36.7589 961.927 44.7161 961.927 M42.9973 967.783 Q38.1912 967.847 35.3266 970.488 Q32.4621 973.098 32.4621 977.427 Q32.4621 982.329 35.2312 985.289 Q38.0002 988.217 43.0292 988.663 L42.9973 967.783 Z\" fill=\"#000000\" fill-rule=\"evenodd\" fill-opacity=\"1\" /><path clip-path=\"url(#clip470)\" d=\"M14.479 952.314 L14.479 946.458 L64.0042 946.458 L64.0042 952.314 L14.479 952.314 Z\" fill=\"#000000\" fill-rule=\"evenodd\" fill-opacity=\"1\" /><path clip-path=\"url(#clip470)\" d=\"M46.0847 918.003 Q46.0847 925.101 47.7079 927.838 Q49.3312 930.576 53.2461 930.576 Q56.3653 930.576 58.2114 928.538 Q60.0256 926.47 60.0256 922.937 Q60.0256 918.067 56.5881 915.139 Q53.1188 912.179 47.3897 912.179 L46.0847 912.179 L46.0847 918.003 M43.6657 906.322 L64.0042 906.322 L64.0042 912.179 L58.5933 912.179 Q61.8398 914.184 63.3994 917.176 Q64.9272 920.168 64.9272 924.496 Q64.9272 929.971 61.8716 933.217 Q58.7843 936.432 53.6281 936.432 Q47.6125 936.432 44.5569 932.422 Q41.5014 928.379 41.5014 920.39 L41.5014 912.179 L40.9285 912.179 Q36.8862 912.179 34.6901 914.852 Q32.4621 917.494 32.4621 922.3 Q32.4621 925.356 33.1941 928.252 Q33.9262 931.148 35.3903 933.822 L29.9795 933.822 Q28.7381 930.607 28.1334 927.584 Q27.4968 924.56 27.4968 921.695 Q27.4968 913.961 31.5072 910.142 Q35.5176 906.322 43.6657 906.322 Z\" fill=\"#000000\" fill-rule=\"evenodd\" fill-opacity=\"1\" /><path clip-path=\"url(#clip470)\" d=\"M18.2347 888.466 L28.3562 888.466 L28.3562 876.403 L32.9077 876.403 L32.9077 888.466 L52.2594 888.466 Q56.6199 888.466 57.8613 887.289 Q59.1026 886.079 59.1026 882.419 L59.1026 876.403 L64.0042 876.403 L64.0042 882.419 Q64.0042 889.198 61.4897 891.777 Q58.9434 894.355 52.2594 894.355 L32.9077 894.355 L32.9077 898.651 L28.3562 898.651 L28.3562 894.355 L18.2347 894.355 L18.2347 888.466 Z\" fill=\"#000000\" fill-rule=\"evenodd\" fill-opacity=\"1\" /><path clip-path=\"url(#clip470)\" d=\"M28.3562 868.701 L28.3562 862.844 L64.0042 862.844 L64.0042 868.701 L28.3562 868.701 M14.479 868.701 L14.479 862.844 L21.895 862.844 L21.895 868.701 L14.479 868.701 Z\" fill=\"#000000\" fill-rule=\"evenodd\" fill-opacity=\"1\" /><path clip-path=\"url(#clip470)\" d=\"M28.3562 854.792 L28.3562 848.585 L58.275 837.445 L28.3562 826.305 L28.3562 820.099 L64.0042 833.467 L64.0042 841.424 L28.3562 854.792 Z\" fill=\"#000000\" fill-rule=\"evenodd\" fill-opacity=\"1\" /><path clip-path=\"url(#clip470)\" d=\"M44.7161 781.522 L47.5806 781.522 L47.5806 808.449 Q53.6281 808.067 56.8109 804.821 Q59.9619 801.543 59.9619 795.718 Q59.9619 792.344 59.1344 789.193 Q58.3069 786.01 56.6518 782.891 L62.1899 782.891 Q63.5267 786.042 64.227 789.352 Q64.9272 792.662 64.9272 796.068 Q64.9272 804.598 59.9619 809.595 Q54.9967 814.561 46.5303 814.561 Q37.7774 814.561 32.6531 809.85 Q27.4968 805.107 27.4968 797.087 Q27.4968 789.893 32.1438 785.724 Q36.7589 781.522 44.7161 781.522 M42.9973 787.379 Q38.1912 787.443 35.3266 790.084 Q32.4621 792.694 32.4621 797.023 Q32.4621 801.925 35.2312 804.885 Q38.0002 807.813 43.0292 808.258 L42.9973 787.379 Z\" fill=\"#000000\" fill-rule=\"evenodd\" fill-opacity=\"1\" /><path clip-path=\"url(#clip470)\" d=\"M41.7242 728.401 Q42.4244 726.332 44.7161 724.39 Q47.0077 722.417 51.0181 720.444 L64.0042 713.919 L64.0042 720.825 L51.8138 726.905 Q47.0395 729.26 45.48 731.488 Q43.9204 733.684 43.9204 737.504 L43.9204 744.506 L64.0042 744.506 L64.0042 750.935 L16.4842 750.935 L16.4842 736.421 Q16.4842 728.273 19.8898 724.263 Q23.2955 720.253 30.1704 720.253 Q34.6582 720.253 37.6183 722.353 Q40.5784 724.422 41.7242 728.401 M21.7677 744.506 L38.6368 744.506 L38.6368 736.421 Q38.6368 731.774 36.5043 729.419 Q34.34 727.032 30.1704 727.032 Q26.0009 727.032 23.9002 729.419 Q21.7677 731.774 21.7677 736.421 L21.7677 744.506 Z\" fill=\"#000000\" fill-rule=\"evenodd\" fill-opacity=\"1\" /><path clip-path=\"url(#clip470)\" d=\"M16.4842 705.643 L16.4842 696.063 L48.8219 683.936 L16.4842 671.746 L16.4842 662.165 L64.0042 662.165 L64.0042 668.436 L22.277 668.436 L54.8694 680.69 L54.8694 687.151 L22.277 699.405 L64.0042 699.405 L64.0042 705.643 L16.4842 705.643 Z\" fill=\"#000000\" fill-rule=\"evenodd\" fill-opacity=\"1\" /><path clip-path=\"url(#clip470)\" d=\"M18.0438 620.916 L24.314 620.916 Q22.5634 624.576 21.704 627.822 Q20.8447 631.069 20.8447 634.093 Q20.8447 639.344 22.8817 642.209 Q24.9187 645.042 28.6745 645.042 Q31.8255 645.042 33.4488 643.164 Q35.0402 641.254 36.0269 635.971 L36.8226 632.088 Q38.1912 624.894 41.6605 621.489 Q45.098 618.051 50.8908 618.051 Q57.7976 618.051 61.3624 622.698 Q64.9272 627.313 64.9272 636.257 Q64.9272 639.631 64.1633 643.45 Q63.3994 647.238 61.9035 651.312 L55.2831 651.312 Q57.4793 647.397 58.5933 643.641 Q59.7073 639.886 59.7073 636.257 Q59.7073 630.751 57.543 627.759 Q55.3786 624.767 51.3682 624.767 Q47.8671 624.767 45.8937 626.931 Q43.9204 629.064 42.9337 633.965 L42.1698 637.88 Q40.7375 645.074 37.682 648.288 Q34.6264 651.503 29.1837 651.503 Q22.8817 651.503 19.2532 647.079 Q15.6248 642.623 15.6248 634.825 Q15.6248 631.483 16.2295 628.013 Q16.8343 624.544 18.0438 620.916 Z\" fill=\"#000000\" fill-rule=\"evenodd\" fill-opacity=\"1\" /><path clip-path=\"url(#clip470)\" d=\"M44.7161 557.068 L47.5806 557.068 L47.5806 583.995 Q53.6281 583.613 56.8109 580.366 Q59.9619 577.088 59.9619 571.263 Q59.9619 567.889 59.1344 564.738 Q58.3069 561.555 56.6518 558.436 L62.1899 558.436 Q63.5267 561.587 64.227 564.897 Q64.9272 568.208 64.9272 571.613 Q64.9272 580.143 59.9619 585.14 Q54.9967 590.106 46.5303 590.106 Q37.7774 590.106 32.6531 585.395 Q27.4968 580.653 27.4968 572.632 Q27.4968 565.439 32.1438 561.269 Q36.7589 557.068 44.7161 557.068 M42.9973 562.924 Q38.1912 562.988 35.3266 565.63 Q32.4621 568.239 32.4621 572.568 Q32.4621 577.47 35.2312 580.43 Q38.0002 583.358 43.0292 583.804 L42.9973 562.924 Z\" fill=\"#000000\" fill-rule=\"evenodd\" fill-opacity=\"1\" /><path clip-path=\"url(#clip470)\" d=\"M33.8307 526.799 Q33.2578 527.785 33.0032 528.963 Q32.7167 530.109 32.7167 531.509 Q32.7167 536.475 35.9632 539.148 Q39.1779 541.79 45.2253 541.79 L64.0042 541.79 L64.0042 547.678 L28.3562 547.678 L28.3562 541.79 L33.8944 541.79 Q30.6479 539.944 29.0883 536.984 Q27.4968 534.024 27.4968 529.791 Q27.4968 529.186 27.5923 528.454 Q27.656 527.722 27.8151 526.831 L33.8307 526.799 Z\" fill=\"#000000\" fill-rule=\"evenodd\" fill-opacity=\"1\" /><path clip-path=\"url(#clip470)\" d=\"M33.8307 501.145 Q33.2578 502.132 33.0032 503.309 Q32.7167 504.455 32.7167 505.856 Q32.7167 510.821 35.9632 513.494 Q39.1779 516.136 45.2253 516.136 L64.0042 516.136 L64.0042 522.024 L28.3562 522.024 L28.3562 516.136 L33.8944 516.136 Q30.6479 514.29 29.0883 511.33 Q27.4968 508.37 27.4968 504.137 Q27.4968 503.532 27.5923 502.8 Q27.656 502.068 27.8151 501.177 L33.8307 501.145 Z\" fill=\"#000000\" fill-rule=\"evenodd\" fill-opacity=\"1\" /><path clip-path=\"url(#clip470)\" d=\"M32.4621 482.621 Q32.4621 487.331 36.1542 490.069 Q39.8145 492.806 46.212 492.806 Q52.6095 492.806 56.3017 490.1 Q59.9619 487.363 59.9619 482.621 Q59.9619 477.942 56.2698 475.205 Q52.5777 472.467 46.212 472.467 Q39.8781 472.467 36.186 475.205 Q32.4621 477.942 32.4621 482.621 M27.4968 482.621 Q27.4968 474.982 32.4621 470.621 Q37.4273 466.261 46.212 466.261 Q54.9649 466.261 59.9619 470.621 Q64.9272 474.982 64.9272 482.621 Q64.9272 490.291 59.9619 494.652 Q54.9649 498.981 46.212 498.981 Q37.4273 498.981 32.4621 494.652 Q27.4968 490.291 27.4968 482.621 Z\" fill=\"#000000\" fill-rule=\"evenodd\" fill-opacity=\"1\" /><path clip-path=\"url(#clip470)\" d=\"M33.8307 435.896 Q33.2578 436.883 33.0032 438.061 Q32.7167 439.207 32.7167 440.607 Q32.7167 445.572 35.9632 448.246 Q39.1779 450.888 45.2253 450.888 L64.0042 450.888 L64.0042 456.776 L28.3562 456.776 L28.3562 450.888 L33.8944 450.888 Q30.6479 449.042 29.0883 446.082 Q27.4968 443.122 27.4968 438.888 Q27.4968 438.284 27.5923 437.552 Q27.656 436.819 27.8151 435.928 L33.8307 435.896 Z\" fill=\"#000000\" fill-rule=\"evenodd\" fill-opacity=\"1\" /><polyline clip-path=\"url(#clip472)\" style=\"stroke:#009af9; stroke-linecap:round; stroke-linejoin:round; stroke-width:4; stroke-opacity:1; fill:none\" points=\"\n",
       "  237.067,111.793 339.771,511.498 442.474,1058.87 545.177,1202.4 647.881,1202.68 750.584,1277.08 853.287,1279.88 955.991,1315.21 1058.69,1315.6 1161.4,1318.65 \n",
       "  1264.1,1319.19 1366.8,1346.31 1469.51,1349.13 1572.21,1353.44 1674.91,1353.5 1777.62,1355.87 1880.32,1367.26 1983.02,1371.97 2085.73,1380.2 2188.43,1382.29 \n",
       "  2291.13,1384.23 \n",
       "  \"/>\n",
       "<circle clip-path=\"url(#clip472)\" cx=\"237.067\" cy=\"111.793\" r=\"14.4\" fill=\"#009af9\" fill-rule=\"evenodd\" fill-opacity=\"1\" stroke=\"#000000\" stroke-opacity=\"1\" stroke-width=\"3.2\"/>\n",
       "<circle clip-path=\"url(#clip472)\" cx=\"339.771\" cy=\"511.498\" r=\"14.4\" fill=\"#009af9\" fill-rule=\"evenodd\" fill-opacity=\"1\" stroke=\"#000000\" stroke-opacity=\"1\" stroke-width=\"3.2\"/>\n",
       "<circle clip-path=\"url(#clip472)\" cx=\"442.474\" cy=\"1058.87\" r=\"14.4\" fill=\"#009af9\" fill-rule=\"evenodd\" fill-opacity=\"1\" stroke=\"#000000\" stroke-opacity=\"1\" stroke-width=\"3.2\"/>\n",
       "<circle clip-path=\"url(#clip472)\" cx=\"545.177\" cy=\"1202.4\" r=\"14.4\" fill=\"#009af9\" fill-rule=\"evenodd\" fill-opacity=\"1\" stroke=\"#000000\" stroke-opacity=\"1\" stroke-width=\"3.2\"/>\n",
       "<circle clip-path=\"url(#clip472)\" cx=\"647.881\" cy=\"1202.68\" r=\"14.4\" fill=\"#009af9\" fill-rule=\"evenodd\" fill-opacity=\"1\" stroke=\"#000000\" stroke-opacity=\"1\" stroke-width=\"3.2\"/>\n",
       "<circle clip-path=\"url(#clip472)\" cx=\"750.584\" cy=\"1277.08\" r=\"14.4\" fill=\"#009af9\" fill-rule=\"evenodd\" fill-opacity=\"1\" stroke=\"#000000\" stroke-opacity=\"1\" stroke-width=\"3.2\"/>\n",
       "<circle clip-path=\"url(#clip472)\" cx=\"853.287\" cy=\"1279.88\" r=\"14.4\" fill=\"#009af9\" fill-rule=\"evenodd\" fill-opacity=\"1\" stroke=\"#000000\" stroke-opacity=\"1\" stroke-width=\"3.2\"/>\n",
       "<circle clip-path=\"url(#clip472)\" cx=\"955.991\" cy=\"1315.21\" r=\"14.4\" fill=\"#009af9\" fill-rule=\"evenodd\" fill-opacity=\"1\" stroke=\"#000000\" stroke-opacity=\"1\" stroke-width=\"3.2\"/>\n",
       "<circle clip-path=\"url(#clip472)\" cx=\"1058.69\" cy=\"1315.6\" r=\"14.4\" fill=\"#009af9\" fill-rule=\"evenodd\" fill-opacity=\"1\" stroke=\"#000000\" stroke-opacity=\"1\" stroke-width=\"3.2\"/>\n",
       "<circle clip-path=\"url(#clip472)\" cx=\"1161.4\" cy=\"1318.65\" r=\"14.4\" fill=\"#009af9\" fill-rule=\"evenodd\" fill-opacity=\"1\" stroke=\"#000000\" stroke-opacity=\"1\" stroke-width=\"3.2\"/>\n",
       "<circle clip-path=\"url(#clip472)\" cx=\"1264.1\" cy=\"1319.19\" r=\"14.4\" fill=\"#009af9\" fill-rule=\"evenodd\" fill-opacity=\"1\" stroke=\"#000000\" stroke-opacity=\"1\" stroke-width=\"3.2\"/>\n",
       "<circle clip-path=\"url(#clip472)\" cx=\"1366.8\" cy=\"1346.31\" r=\"14.4\" fill=\"#009af9\" fill-rule=\"evenodd\" fill-opacity=\"1\" stroke=\"#000000\" stroke-opacity=\"1\" stroke-width=\"3.2\"/>\n",
       "<circle clip-path=\"url(#clip472)\" cx=\"1469.51\" cy=\"1349.13\" r=\"14.4\" fill=\"#009af9\" fill-rule=\"evenodd\" fill-opacity=\"1\" stroke=\"#000000\" stroke-opacity=\"1\" stroke-width=\"3.2\"/>\n",
       "<circle clip-path=\"url(#clip472)\" cx=\"1572.21\" cy=\"1353.44\" r=\"14.4\" fill=\"#009af9\" fill-rule=\"evenodd\" fill-opacity=\"1\" stroke=\"#000000\" stroke-opacity=\"1\" stroke-width=\"3.2\"/>\n",
       "<circle clip-path=\"url(#clip472)\" cx=\"1674.91\" cy=\"1353.5\" r=\"14.4\" fill=\"#009af9\" fill-rule=\"evenodd\" fill-opacity=\"1\" stroke=\"#000000\" stroke-opacity=\"1\" stroke-width=\"3.2\"/>\n",
       "<circle clip-path=\"url(#clip472)\" cx=\"1777.62\" cy=\"1355.87\" r=\"14.4\" fill=\"#009af9\" fill-rule=\"evenodd\" fill-opacity=\"1\" stroke=\"#000000\" stroke-opacity=\"1\" stroke-width=\"3.2\"/>\n",
       "<circle clip-path=\"url(#clip472)\" cx=\"1880.32\" cy=\"1367.26\" r=\"14.4\" fill=\"#009af9\" fill-rule=\"evenodd\" fill-opacity=\"1\" stroke=\"#000000\" stroke-opacity=\"1\" stroke-width=\"3.2\"/>\n",
       "<circle clip-path=\"url(#clip472)\" cx=\"1983.02\" cy=\"1371.97\" r=\"14.4\" fill=\"#009af9\" fill-rule=\"evenodd\" fill-opacity=\"1\" stroke=\"#000000\" stroke-opacity=\"1\" stroke-width=\"3.2\"/>\n",
       "<circle clip-path=\"url(#clip472)\" cx=\"2085.73\" cy=\"1380.2\" r=\"14.4\" fill=\"#009af9\" fill-rule=\"evenodd\" fill-opacity=\"1\" stroke=\"#000000\" stroke-opacity=\"1\" stroke-width=\"3.2\"/>\n",
       "<circle clip-path=\"url(#clip472)\" cx=\"2188.43\" cy=\"1382.29\" r=\"14.4\" fill=\"#009af9\" fill-rule=\"evenodd\" fill-opacity=\"1\" stroke=\"#000000\" stroke-opacity=\"1\" stroke-width=\"3.2\"/>\n",
       "<circle clip-path=\"url(#clip472)\" cx=\"2291.13\" cy=\"1384.23\" r=\"14.4\" fill=\"#009af9\" fill-rule=\"evenodd\" fill-opacity=\"1\" stroke=\"#000000\" stroke-opacity=\"1\" stroke-width=\"3.2\"/>\n",
       "<polyline clip-path=\"url(#clip472)\" style=\"stroke:#e26f46; stroke-linecap:round; stroke-linejoin:round; stroke-width:4; stroke-opacity:1; fill:none\" points=\"\n",
       "  237.067,86.1857 339.771,221.477 442.474,1118.36 545.177,1228.59 647.881,1225.49 750.584,1222.52 853.287,1225.32 955.991,1252.36 1058.69,1251.87 1161.4,1259.74 \n",
       "  1264.1,1259.58 1366.8,1239.61 1469.51,1227.33 1572.21,1207.62 1674.91,1207.55 1777.62,1188.27 1880.32,1181.46 1983.02,1138.27 2085.73,1171.87 2188.43,1127.24 \n",
       "  2291.13,1136.81 \n",
       "  \"/>\n",
       "<path clip-path=\"url(#clip472)\" d=\"M221.067 70.1857 L221.067 102.186 L253.067 102.186 L253.067 70.1857 L221.067 70.1857 Z\" fill=\"#e26f46\" fill-rule=\"evenodd\" fill-opacity=\"1\" stroke=\"#000000\" stroke-opacity=\"1\" stroke-width=\"3.2\"/>\n",
       "<path clip-path=\"url(#clip472)\" d=\"M323.771 205.477 L323.771 237.477 L355.771 237.477 L355.771 205.477 L323.771 205.477 Z\" fill=\"#e26f46\" fill-rule=\"evenodd\" fill-opacity=\"1\" stroke=\"#000000\" stroke-opacity=\"1\" stroke-width=\"3.2\"/>\n",
       "<path clip-path=\"url(#clip472)\" d=\"M426.474 1102.36 L426.474 1134.36 L458.474 1134.36 L458.474 1102.36 L426.474 1102.36 Z\" fill=\"#e26f46\" fill-rule=\"evenodd\" fill-opacity=\"1\" stroke=\"#000000\" stroke-opacity=\"1\" stroke-width=\"3.2\"/>\n",
       "<path clip-path=\"url(#clip472)\" d=\"M529.177 1212.59 L529.177 1244.59 L561.177 1244.59 L561.177 1212.59 L529.177 1212.59 Z\" fill=\"#e26f46\" fill-rule=\"evenodd\" fill-opacity=\"1\" stroke=\"#000000\" stroke-opacity=\"1\" stroke-width=\"3.2\"/>\n",
       "<path clip-path=\"url(#clip472)\" d=\"M631.881 1209.49 L631.881 1241.49 L663.881 1241.49 L663.881 1209.49 L631.881 1209.49 Z\" fill=\"#e26f46\" fill-rule=\"evenodd\" fill-opacity=\"1\" stroke=\"#000000\" stroke-opacity=\"1\" stroke-width=\"3.2\"/>\n",
       "<path clip-path=\"url(#clip472)\" d=\"M734.584 1206.52 L734.584 1238.52 L766.584 1238.52 L766.584 1206.52 L734.584 1206.52 Z\" fill=\"#e26f46\" fill-rule=\"evenodd\" fill-opacity=\"1\" stroke=\"#000000\" stroke-opacity=\"1\" stroke-width=\"3.2\"/>\n",
       "<path clip-path=\"url(#clip472)\" d=\"M837.287 1209.32 L837.287 1241.32 L869.287 1241.32 L869.287 1209.32 L837.287 1209.32 Z\" fill=\"#e26f46\" fill-rule=\"evenodd\" fill-opacity=\"1\" stroke=\"#000000\" stroke-opacity=\"1\" stroke-width=\"3.2\"/>\n",
       "<path clip-path=\"url(#clip472)\" d=\"M939.991 1236.36 L939.991 1268.36 L971.991 1268.36 L971.991 1236.36 L939.991 1236.36 Z\" fill=\"#e26f46\" fill-rule=\"evenodd\" fill-opacity=\"1\" stroke=\"#000000\" stroke-opacity=\"1\" stroke-width=\"3.2\"/>\n",
       "<path clip-path=\"url(#clip472)\" d=\"M1042.69 1235.87 L1042.69 1267.87 L1074.69 1267.87 L1074.69 1235.87 L1042.69 1235.87 Z\" fill=\"#e26f46\" fill-rule=\"evenodd\" fill-opacity=\"1\" stroke=\"#000000\" stroke-opacity=\"1\" stroke-width=\"3.2\"/>\n",
       "<path clip-path=\"url(#clip472)\" d=\"M1145.4 1243.74 L1145.4 1275.74 L1177.4 1275.74 L1177.4 1243.74 L1145.4 1243.74 Z\" fill=\"#e26f46\" fill-rule=\"evenodd\" fill-opacity=\"1\" stroke=\"#000000\" stroke-opacity=\"1\" stroke-width=\"3.2\"/>\n",
       "<path clip-path=\"url(#clip472)\" d=\"M1248.1 1243.58 L1248.1 1275.58 L1280.1 1275.58 L1280.1 1243.58 L1248.1 1243.58 Z\" fill=\"#e26f46\" fill-rule=\"evenodd\" fill-opacity=\"1\" stroke=\"#000000\" stroke-opacity=\"1\" stroke-width=\"3.2\"/>\n",
       "<path clip-path=\"url(#clip472)\" d=\"M1350.8 1223.61 L1350.8 1255.61 L1382.8 1255.61 L1382.8 1223.61 L1350.8 1223.61 Z\" fill=\"#e26f46\" fill-rule=\"evenodd\" fill-opacity=\"1\" stroke=\"#000000\" stroke-opacity=\"1\" stroke-width=\"3.2\"/>\n",
       "<path clip-path=\"url(#clip472)\" d=\"M1453.51 1211.33 L1453.51 1243.33 L1485.51 1243.33 L1485.51 1211.33 L1453.51 1211.33 Z\" fill=\"#e26f46\" fill-rule=\"evenodd\" fill-opacity=\"1\" stroke=\"#000000\" stroke-opacity=\"1\" stroke-width=\"3.2\"/>\n",
       "<path clip-path=\"url(#clip472)\" d=\"M1556.21 1191.62 L1556.21 1223.62 L1588.21 1223.62 L1588.21 1191.62 L1556.21 1191.62 Z\" fill=\"#e26f46\" fill-rule=\"evenodd\" fill-opacity=\"1\" stroke=\"#000000\" stroke-opacity=\"1\" stroke-width=\"3.2\"/>\n",
       "<path clip-path=\"url(#clip472)\" d=\"M1658.91 1191.55 L1658.91 1223.55 L1690.91 1223.55 L1690.91 1191.55 L1658.91 1191.55 Z\" fill=\"#e26f46\" fill-rule=\"evenodd\" fill-opacity=\"1\" stroke=\"#000000\" stroke-opacity=\"1\" stroke-width=\"3.2\"/>\n",
       "<path clip-path=\"url(#clip472)\" d=\"M1761.62 1172.27 L1761.62 1204.27 L1793.62 1204.27 L1793.62 1172.27 L1761.62 1172.27 Z\" fill=\"#e26f46\" fill-rule=\"evenodd\" fill-opacity=\"1\" stroke=\"#000000\" stroke-opacity=\"1\" stroke-width=\"3.2\"/>\n",
       "<path clip-path=\"url(#clip472)\" d=\"M1864.32 1165.46 L1864.32 1197.46 L1896.32 1197.46 L1896.32 1165.46 L1864.32 1165.46 Z\" fill=\"#e26f46\" fill-rule=\"evenodd\" fill-opacity=\"1\" stroke=\"#000000\" stroke-opacity=\"1\" stroke-width=\"3.2\"/>\n",
       "<path clip-path=\"url(#clip472)\" d=\"M1967.02 1122.27 L1967.02 1154.27 L1999.02 1154.27 L1999.02 1122.27 L1967.02 1122.27 Z\" fill=\"#e26f46\" fill-rule=\"evenodd\" fill-opacity=\"1\" stroke=\"#000000\" stroke-opacity=\"1\" stroke-width=\"3.2\"/>\n",
       "<path clip-path=\"url(#clip472)\" d=\"M2069.73 1155.87 L2069.73 1187.87 L2101.73 1187.87 L2101.73 1155.87 L2069.73 1155.87 Z\" fill=\"#e26f46\" fill-rule=\"evenodd\" fill-opacity=\"1\" stroke=\"#000000\" stroke-opacity=\"1\" stroke-width=\"3.2\"/>\n",
       "<path clip-path=\"url(#clip472)\" d=\"M2172.43 1111.24 L2172.43 1143.24 L2204.43 1143.24 L2204.43 1111.24 L2172.43 1111.24 Z\" fill=\"#e26f46\" fill-rule=\"evenodd\" fill-opacity=\"1\" stroke=\"#000000\" stroke-opacity=\"1\" stroke-width=\"3.2\"/>\n",
       "<path clip-path=\"url(#clip472)\" d=\"M2275.13 1120.81 L2275.13 1152.81 L2307.13 1152.81 L2307.13 1120.81 L2275.13 1120.81 Z\" fill=\"#e26f46\" fill-rule=\"evenodd\" fill-opacity=\"1\" stroke=\"#000000\" stroke-opacity=\"1\" stroke-width=\"3.2\"/>\n",
       "<polyline clip-path=\"url(#clip472)\" style=\"stroke:#3da44d; stroke-linecap:round; stroke-linejoin:round; stroke-width:4; stroke-opacity:1; fill:none\" points=\"\n",
       "  237.067,111.793 339.771,511.498 442.474,1058.87 545.177,1202.4 647.881,1202.68 750.584,1277.08 853.287,1279.88 955.991,1315.21 1058.69,1315.6 1161.4,1318.65 \n",
       "  1264.1,1319.19 1366.8,1346.31 1469.51,1349.13 1572.21,1353.44 1674.91,1353.5 1777.62,1355.87 1880.32,1367.26 1983.02,1371.97 2085.73,1380.2 2188.43,1382.29 \n",
       "  2291.13,1384.24 \n",
       "  \"/>\n",
       "<circle clip-path=\"url(#clip472)\" cx=\"237.067\" cy=\"111.793\" r=\"14.4\" fill=\"#3da44d\" fill-rule=\"evenodd\" fill-opacity=\"1\" stroke=\"#000000\" stroke-opacity=\"1\" stroke-width=\"3.2\"/>\n",
       "<circle clip-path=\"url(#clip472)\" cx=\"339.771\" cy=\"511.498\" r=\"14.4\" fill=\"#3da44d\" fill-rule=\"evenodd\" fill-opacity=\"1\" stroke=\"#000000\" stroke-opacity=\"1\" stroke-width=\"3.2\"/>\n",
       "<circle clip-path=\"url(#clip472)\" cx=\"442.474\" cy=\"1058.87\" r=\"14.4\" fill=\"#3da44d\" fill-rule=\"evenodd\" fill-opacity=\"1\" stroke=\"#000000\" stroke-opacity=\"1\" stroke-width=\"3.2\"/>\n",
       "<circle clip-path=\"url(#clip472)\" cx=\"545.177\" cy=\"1202.4\" r=\"14.4\" fill=\"#3da44d\" fill-rule=\"evenodd\" fill-opacity=\"1\" stroke=\"#000000\" stroke-opacity=\"1\" stroke-width=\"3.2\"/>\n",
       "<circle clip-path=\"url(#clip472)\" cx=\"647.881\" cy=\"1202.68\" r=\"14.4\" fill=\"#3da44d\" fill-rule=\"evenodd\" fill-opacity=\"1\" stroke=\"#000000\" stroke-opacity=\"1\" stroke-width=\"3.2\"/>\n",
       "<circle clip-path=\"url(#clip472)\" cx=\"750.584\" cy=\"1277.08\" r=\"14.4\" fill=\"#3da44d\" fill-rule=\"evenodd\" fill-opacity=\"1\" stroke=\"#000000\" stroke-opacity=\"1\" stroke-width=\"3.2\"/>\n",
       "<circle clip-path=\"url(#clip472)\" cx=\"853.287\" cy=\"1279.88\" r=\"14.4\" fill=\"#3da44d\" fill-rule=\"evenodd\" fill-opacity=\"1\" stroke=\"#000000\" stroke-opacity=\"1\" stroke-width=\"3.2\"/>\n",
       "<circle clip-path=\"url(#clip472)\" cx=\"955.991\" cy=\"1315.21\" r=\"14.4\" fill=\"#3da44d\" fill-rule=\"evenodd\" fill-opacity=\"1\" stroke=\"#000000\" stroke-opacity=\"1\" stroke-width=\"3.2\"/>\n",
       "<circle clip-path=\"url(#clip472)\" cx=\"1058.69\" cy=\"1315.6\" r=\"14.4\" fill=\"#3da44d\" fill-rule=\"evenodd\" fill-opacity=\"1\" stroke=\"#000000\" stroke-opacity=\"1\" stroke-width=\"3.2\"/>\n",
       "<circle clip-path=\"url(#clip472)\" cx=\"1161.4\" cy=\"1318.65\" r=\"14.4\" fill=\"#3da44d\" fill-rule=\"evenodd\" fill-opacity=\"1\" stroke=\"#000000\" stroke-opacity=\"1\" stroke-width=\"3.2\"/>\n",
       "<circle clip-path=\"url(#clip472)\" cx=\"1264.1\" cy=\"1319.19\" r=\"14.4\" fill=\"#3da44d\" fill-rule=\"evenodd\" fill-opacity=\"1\" stroke=\"#000000\" stroke-opacity=\"1\" stroke-width=\"3.2\"/>\n",
       "<circle clip-path=\"url(#clip472)\" cx=\"1366.8\" cy=\"1346.31\" r=\"14.4\" fill=\"#3da44d\" fill-rule=\"evenodd\" fill-opacity=\"1\" stroke=\"#000000\" stroke-opacity=\"1\" stroke-width=\"3.2\"/>\n",
       "<circle clip-path=\"url(#clip472)\" cx=\"1469.51\" cy=\"1349.13\" r=\"14.4\" fill=\"#3da44d\" fill-rule=\"evenodd\" fill-opacity=\"1\" stroke=\"#000000\" stroke-opacity=\"1\" stroke-width=\"3.2\"/>\n",
       "<circle clip-path=\"url(#clip472)\" cx=\"1572.21\" cy=\"1353.44\" r=\"14.4\" fill=\"#3da44d\" fill-rule=\"evenodd\" fill-opacity=\"1\" stroke=\"#000000\" stroke-opacity=\"1\" stroke-width=\"3.2\"/>\n",
       "<circle clip-path=\"url(#clip472)\" cx=\"1674.91\" cy=\"1353.5\" r=\"14.4\" fill=\"#3da44d\" fill-rule=\"evenodd\" fill-opacity=\"1\" stroke=\"#000000\" stroke-opacity=\"1\" stroke-width=\"3.2\"/>\n",
       "<circle clip-path=\"url(#clip472)\" cx=\"1777.62\" cy=\"1355.87\" r=\"14.4\" fill=\"#3da44d\" fill-rule=\"evenodd\" fill-opacity=\"1\" stroke=\"#000000\" stroke-opacity=\"1\" stroke-width=\"3.2\"/>\n",
       "<circle clip-path=\"url(#clip472)\" cx=\"1880.32\" cy=\"1367.26\" r=\"14.4\" fill=\"#3da44d\" fill-rule=\"evenodd\" fill-opacity=\"1\" stroke=\"#000000\" stroke-opacity=\"1\" stroke-width=\"3.2\"/>\n",
       "<circle clip-path=\"url(#clip472)\" cx=\"1983.02\" cy=\"1371.97\" r=\"14.4\" fill=\"#3da44d\" fill-rule=\"evenodd\" fill-opacity=\"1\" stroke=\"#000000\" stroke-opacity=\"1\" stroke-width=\"3.2\"/>\n",
       "<circle clip-path=\"url(#clip472)\" cx=\"2085.73\" cy=\"1380.2\" r=\"14.4\" fill=\"#3da44d\" fill-rule=\"evenodd\" fill-opacity=\"1\" stroke=\"#000000\" stroke-opacity=\"1\" stroke-width=\"3.2\"/>\n",
       "<circle clip-path=\"url(#clip472)\" cx=\"2188.43\" cy=\"1382.29\" r=\"14.4\" fill=\"#3da44d\" fill-rule=\"evenodd\" fill-opacity=\"1\" stroke=\"#000000\" stroke-opacity=\"1\" stroke-width=\"3.2\"/>\n",
       "<circle clip-path=\"url(#clip472)\" cx=\"2291.13\" cy=\"1384.24\" r=\"14.4\" fill=\"#3da44d\" fill-rule=\"evenodd\" fill-opacity=\"1\" stroke=\"#000000\" stroke-opacity=\"1\" stroke-width=\"3.2\"/>\n",
       "<polyline clip-path=\"url(#clip472)\" style=\"stroke:#c271d2; stroke-linecap:round; stroke-linejoin:round; stroke-width:4; stroke-opacity:1; fill:none\" points=\"\n",
       "  237.067,86.1857 339.771,221.477 442.474,1118.36 545.177,1228.59 647.881,1225.49 750.584,1222.52 853.287,1225.32 955.991,1252.36 1058.69,1251.87 1161.4,1259.74 \n",
       "  1264.1,1259.58 1366.8,1239.61 1469.51,1227.33 1572.21,1207.62 1674.91,1207.55 1777.62,1188.27 1880.32,1181.46 1983.02,1138.26 2085.73,1171.82 2188.43,1126.78 \n",
       "  2291.13,1135.21 \n",
       "  \"/>\n",
       "<path clip-path=\"url(#clip472)\" d=\"M221.067 70.1857 L221.067 102.186 L253.067 102.186 L253.067 70.1857 L221.067 70.1857 Z\" fill=\"#c271d2\" fill-rule=\"evenodd\" fill-opacity=\"1\" stroke=\"#000000\" stroke-opacity=\"1\" stroke-width=\"3.2\"/>\n",
       "<path clip-path=\"url(#clip472)\" d=\"M323.771 205.477 L323.771 237.477 L355.771 237.477 L355.771 205.477 L323.771 205.477 Z\" fill=\"#c271d2\" fill-rule=\"evenodd\" fill-opacity=\"1\" stroke=\"#000000\" stroke-opacity=\"1\" stroke-width=\"3.2\"/>\n",
       "<path clip-path=\"url(#clip472)\" d=\"M426.474 1102.36 L426.474 1134.36 L458.474 1134.36 L458.474 1102.36 L426.474 1102.36 Z\" fill=\"#c271d2\" fill-rule=\"evenodd\" fill-opacity=\"1\" stroke=\"#000000\" stroke-opacity=\"1\" stroke-width=\"3.2\"/>\n",
       "<path clip-path=\"url(#clip472)\" d=\"M529.177 1212.59 L529.177 1244.59 L561.177 1244.59 L561.177 1212.59 L529.177 1212.59 Z\" fill=\"#c271d2\" fill-rule=\"evenodd\" fill-opacity=\"1\" stroke=\"#000000\" stroke-opacity=\"1\" stroke-width=\"3.2\"/>\n",
       "<path clip-path=\"url(#clip472)\" d=\"M631.881 1209.49 L631.881 1241.49 L663.881 1241.49 L663.881 1209.49 L631.881 1209.49 Z\" fill=\"#c271d2\" fill-rule=\"evenodd\" fill-opacity=\"1\" stroke=\"#000000\" stroke-opacity=\"1\" stroke-width=\"3.2\"/>\n",
       "<path clip-path=\"url(#clip472)\" d=\"M734.584 1206.52 L734.584 1238.52 L766.584 1238.52 L766.584 1206.52 L734.584 1206.52 Z\" fill=\"#c271d2\" fill-rule=\"evenodd\" fill-opacity=\"1\" stroke=\"#000000\" stroke-opacity=\"1\" stroke-width=\"3.2\"/>\n",
       "<path clip-path=\"url(#clip472)\" d=\"M837.287 1209.32 L837.287 1241.32 L869.287 1241.32 L869.287 1209.32 L837.287 1209.32 Z\" fill=\"#c271d2\" fill-rule=\"evenodd\" fill-opacity=\"1\" stroke=\"#000000\" stroke-opacity=\"1\" stroke-width=\"3.2\"/>\n",
       "<path clip-path=\"url(#clip472)\" d=\"M939.991 1236.36 L939.991 1268.36 L971.991 1268.36 L971.991 1236.36 L939.991 1236.36 Z\" fill=\"#c271d2\" fill-rule=\"evenodd\" fill-opacity=\"1\" stroke=\"#000000\" stroke-opacity=\"1\" stroke-width=\"3.2\"/>\n",
       "<path clip-path=\"url(#clip472)\" d=\"M1042.69 1235.87 L1042.69 1267.87 L1074.69 1267.87 L1074.69 1235.87 L1042.69 1235.87 Z\" fill=\"#c271d2\" fill-rule=\"evenodd\" fill-opacity=\"1\" stroke=\"#000000\" stroke-opacity=\"1\" stroke-width=\"3.2\"/>\n",
       "<path clip-path=\"url(#clip472)\" d=\"M1145.4 1243.74 L1145.4 1275.74 L1177.4 1275.74 L1177.4 1243.74 L1145.4 1243.74 Z\" fill=\"#c271d2\" fill-rule=\"evenodd\" fill-opacity=\"1\" stroke=\"#000000\" stroke-opacity=\"1\" stroke-width=\"3.2\"/>\n",
       "<path clip-path=\"url(#clip472)\" d=\"M1248.1 1243.58 L1248.1 1275.58 L1280.1 1275.58 L1280.1 1243.58 L1248.1 1243.58 Z\" fill=\"#c271d2\" fill-rule=\"evenodd\" fill-opacity=\"1\" stroke=\"#000000\" stroke-opacity=\"1\" stroke-width=\"3.2\"/>\n",
       "<path clip-path=\"url(#clip472)\" d=\"M1350.8 1223.61 L1350.8 1255.61 L1382.8 1255.61 L1382.8 1223.61 L1350.8 1223.61 Z\" fill=\"#c271d2\" fill-rule=\"evenodd\" fill-opacity=\"1\" stroke=\"#000000\" stroke-opacity=\"1\" stroke-width=\"3.2\"/>\n",
       "<path clip-path=\"url(#clip472)\" d=\"M1453.51 1211.33 L1453.51 1243.33 L1485.51 1243.33 L1485.51 1211.33 L1453.51 1211.33 Z\" fill=\"#c271d2\" fill-rule=\"evenodd\" fill-opacity=\"1\" stroke=\"#000000\" stroke-opacity=\"1\" stroke-width=\"3.2\"/>\n",
       "<path clip-path=\"url(#clip472)\" d=\"M1556.21 1191.62 L1556.21 1223.62 L1588.21 1223.62 L1588.21 1191.62 L1556.21 1191.62 Z\" fill=\"#c271d2\" fill-rule=\"evenodd\" fill-opacity=\"1\" stroke=\"#000000\" stroke-opacity=\"1\" stroke-width=\"3.2\"/>\n",
       "<path clip-path=\"url(#clip472)\" d=\"M1658.91 1191.55 L1658.91 1223.55 L1690.91 1223.55 L1690.91 1191.55 L1658.91 1191.55 Z\" fill=\"#c271d2\" fill-rule=\"evenodd\" fill-opacity=\"1\" stroke=\"#000000\" stroke-opacity=\"1\" stroke-width=\"3.2\"/>\n",
       "<path clip-path=\"url(#clip472)\" d=\"M1761.62 1172.27 L1761.62 1204.27 L1793.62 1204.27 L1793.62 1172.27 L1761.62 1172.27 Z\" fill=\"#c271d2\" fill-rule=\"evenodd\" fill-opacity=\"1\" stroke=\"#000000\" stroke-opacity=\"1\" stroke-width=\"3.2\"/>\n",
       "<path clip-path=\"url(#clip472)\" d=\"M1864.32 1165.46 L1864.32 1197.46 L1896.32 1197.46 L1896.32 1165.46 L1864.32 1165.46 Z\" fill=\"#c271d2\" fill-rule=\"evenodd\" fill-opacity=\"1\" stroke=\"#000000\" stroke-opacity=\"1\" stroke-width=\"3.2\"/>\n",
       "<path clip-path=\"url(#clip472)\" d=\"M1967.02 1122.26 L1967.02 1154.26 L1999.02 1154.26 L1999.02 1122.26 L1967.02 1122.26 Z\" fill=\"#c271d2\" fill-rule=\"evenodd\" fill-opacity=\"1\" stroke=\"#000000\" stroke-opacity=\"1\" stroke-width=\"3.2\"/>\n",
       "<path clip-path=\"url(#clip472)\" d=\"M2069.73 1155.82 L2069.73 1187.82 L2101.73 1187.82 L2101.73 1155.82 L2069.73 1155.82 Z\" fill=\"#c271d2\" fill-rule=\"evenodd\" fill-opacity=\"1\" stroke=\"#000000\" stroke-opacity=\"1\" stroke-width=\"3.2\"/>\n",
       "<path clip-path=\"url(#clip472)\" d=\"M2172.43 1110.78 L2172.43 1142.78 L2204.43 1142.78 L2204.43 1110.78 L2172.43 1110.78 Z\" fill=\"#c271d2\" fill-rule=\"evenodd\" fill-opacity=\"1\" stroke=\"#000000\" stroke-opacity=\"1\" stroke-width=\"3.2\"/>\n",
       "<path clip-path=\"url(#clip472)\" d=\"M2275.13 1119.21 L2275.13 1151.21 L2307.13 1151.21 L2307.13 1119.21 L2275.13 1119.21 Z\" fill=\"#c271d2\" fill-rule=\"evenodd\" fill-opacity=\"1\" stroke=\"#000000\" stroke-opacity=\"1\" stroke-width=\"3.2\"/>\n",
       "<path clip-path=\"url(#clip470)\" d=\"\n",
       "M1837.77 352.309 L2280.18 352.309 L2280.18 93.1086 L1837.77 93.1086  Z\n",
       "  \" fill=\"#ffffff\" fill-rule=\"evenodd\" fill-opacity=\"1\"/>\n",
       "<polyline clip-path=\"url(#clip470)\" style=\"stroke:#000000; stroke-linecap:round; stroke-linejoin:round; stroke-width:4; stroke-opacity:1; fill:none\" points=\"\n",
       "  1837.77,352.309 2280.18,352.309 2280.18,93.1086 1837.77,93.1086 1837.77,352.309 \n",
       "  \"/>\n",
       "<polyline clip-path=\"url(#clip470)\" style=\"stroke:#009af9; stroke-linecap:round; stroke-linejoin:round; stroke-width:4; stroke-opacity:1; fill:none\" points=\"\n",
       "  1861.97,144.949 2007.12,144.949 \n",
       "  \"/>\n",
       "<circle clip-path=\"url(#clip470)\" cx=\"1934.54\" cy=\"144.949\" r=\"20.1603\" fill=\"#009af9\" fill-rule=\"evenodd\" fill-opacity=\"1\" stroke=\"#000000\" stroke-opacity=\"1\" stroke-width=\"5.12\"/>\n",
       "<path clip-path=\"url(#clip470)\" d=\"M2031.31 127.669 L2060.55 127.669 L2060.55 131.604 L2048.28 131.604 L2048.28 162.229 L2043.58 162.229 L2043.58 131.604 L2031.31 131.604 L2031.31 127.669 Z\" fill=\"#000000\" fill-rule=\"evenodd\" fill-opacity=\"1\" /><path clip-path=\"url(#clip470)\" d=\"M2072.93 140.284 Q2072.21 139.868 2071.36 139.682 Q2070.52 139.474 2069.51 139.474 Q2065.89 139.474 2063.95 141.835 Q2062.03 144.173 2062.03 148.571 L2062.03 162.229 L2057.75 162.229 L2057.75 136.303 L2062.03 136.303 L2062.03 140.331 Q2063.37 137.969 2065.52 136.835 Q2067.68 135.678 2070.76 135.678 Q2071.2 135.678 2071.73 135.747 Q2072.26 135.794 2072.91 135.909 L2072.93 140.284 Z\" fill=\"#000000\" fill-rule=\"evenodd\" fill-opacity=\"1\" /><path clip-path=\"url(#clip470)\" d=\"M2089.18 149.196 Q2084.02 149.196 2082.03 150.377 Q2080.04 151.557 2080.04 154.405 Q2080.04 156.673 2081.52 158.016 Q2083.02 159.335 2085.59 159.335 Q2089.14 159.335 2091.27 156.835 Q2093.42 154.312 2093.42 150.145 L2093.42 149.196 L2089.18 149.196 M2097.68 147.437 L2097.68 162.229 L2093.42 162.229 L2093.42 158.293 Q2091.96 160.655 2089.78 161.789 Q2087.61 162.9 2084.46 162.9 Q2080.48 162.9 2078.12 160.678 Q2075.78 158.432 2075.78 154.682 Q2075.78 150.307 2078.7 148.085 Q2081.64 145.863 2087.45 145.863 L2093.42 145.863 L2093.42 145.446 Q2093.42 142.507 2091.47 140.909 Q2089.55 139.289 2086.06 139.289 Q2083.83 139.289 2081.73 139.821 Q2079.62 140.354 2077.68 141.419 L2077.68 137.483 Q2080.02 136.581 2082.21 136.141 Q2084.41 135.678 2086.5 135.678 Q2092.12 135.678 2094.9 138.594 Q2097.68 141.511 2097.68 147.437 Z\" fill=\"#000000\" fill-rule=\"evenodd\" fill-opacity=\"1\" /><path clip-path=\"url(#clip470)\" d=\"M2106.45 136.303 L2110.71 136.303 L2110.71 162.229 L2106.45 162.229 L2106.45 136.303 M2106.45 126.21 L2110.71 126.21 L2110.71 131.604 L2106.45 131.604 L2106.45 126.21 Z\" fill=\"#000000\" fill-rule=\"evenodd\" fill-opacity=\"1\" /><path clip-path=\"url(#clip470)\" d=\"M2141.17 146.581 L2141.17 162.229 L2136.91 162.229 L2136.91 146.719 Q2136.91 143.039 2135.48 141.21 Q2134.04 139.382 2131.17 139.382 Q2127.72 139.382 2125.73 141.581 Q2123.74 143.78 2123.74 147.576 L2123.74 162.229 L2119.46 162.229 L2119.46 136.303 L2123.74 136.303 L2123.74 140.331 Q2125.27 137.993 2127.33 136.835 Q2129.41 135.678 2132.12 135.678 Q2136.59 135.678 2138.88 138.456 Q2141.17 141.21 2141.17 146.581 Z\" fill=\"#000000\" fill-rule=\"evenodd\" fill-opacity=\"1\" /><path clip-path=\"url(#clip470)\" d=\"M2169.6 131.511 L2169.6 144.497 L2175.48 144.497 Q2178.74 144.497 2180.52 142.807 Q2182.31 141.118 2182.31 137.993 Q2182.31 134.891 2180.52 133.201 Q2178.74 131.511 2175.48 131.511 L2169.6 131.511 M2164.92 127.669 L2175.48 127.669 Q2181.29 127.669 2184.25 130.307 Q2187.24 132.923 2187.24 137.993 Q2187.24 143.108 2184.25 145.724 Q2181.29 148.34 2175.48 148.34 L2169.6 148.34 L2169.6 162.229 L2164.92 162.229 L2164.92 127.669 Z\" fill=\"#000000\" fill-rule=\"evenodd\" fill-opacity=\"1\" /><path clip-path=\"url(#clip470)\" d=\"M2201.68 139.289 Q2198.26 139.289 2196.26 141.974 Q2194.27 144.636 2194.27 149.289 Q2194.27 153.942 2196.24 156.627 Q2198.23 159.289 2201.68 159.289 Q2205.08 159.289 2207.07 156.604 Q2209.07 153.918 2209.07 149.289 Q2209.07 144.682 2207.07 141.997 Q2205.08 139.289 2201.68 139.289 M2201.68 135.678 Q2207.24 135.678 2210.41 139.289 Q2213.58 142.9 2213.58 149.289 Q2213.58 155.655 2210.41 159.289 Q2207.24 162.9 2201.68 162.9 Q2196.1 162.9 2192.93 159.289 Q2189.78 155.655 2189.78 149.289 Q2189.78 142.9 2192.93 139.289 Q2196.1 135.678 2201.68 135.678 Z\" fill=\"#000000\" fill-rule=\"evenodd\" fill-opacity=\"1\" /><path clip-path=\"url(#clip470)\" d=\"M2220.64 126.21 L2224.9 126.21 L2224.9 162.229 L2220.64 162.229 L2220.64 126.21 Z\" fill=\"#000000\" fill-rule=\"evenodd\" fill-opacity=\"1\" /><path clip-path=\"url(#clip470)\" d=\"M2244.6 164.636 Q2242.79 169.266 2241.08 170.678 Q2239.37 172.09 2236.5 172.09 L2233.09 172.09 L2233.09 168.525 L2235.59 168.525 Q2237.35 168.525 2238.32 167.692 Q2239.3 166.858 2240.48 163.756 L2241.24 161.812 L2230.76 136.303 L2235.27 136.303 L2243.37 156.581 L2251.47 136.303 L2255.99 136.303 L2244.6 164.636 Z\" fill=\"#000000\" fill-rule=\"evenodd\" fill-opacity=\"1\" /><polyline clip-path=\"url(#clip470)\" style=\"stroke:#e26f46; stroke-linecap:round; stroke-linejoin:round; stroke-width:4; stroke-opacity:1; fill:none\" points=\"\n",
       "  1861.97,196.789 2007.12,196.789 \n",
       "  \"/>\n",
       "<path clip-path=\"url(#clip470)\" d=\"M1912.14 174.388 L1912.14 219.189 L1956.94 219.189 L1956.94 174.388 L1912.14 174.388 Z\" fill=\"#e26f46\" fill-rule=\"evenodd\" fill-opacity=\"1\" stroke=\"#000000\" stroke-opacity=\"1\" stroke-width=\"5.12\"/>\n",
       "<path clip-path=\"url(#clip470)\" d=\"M2031.31 179.509 L2060.55 179.509 L2060.55 183.444 L2048.28 183.444 L2048.28 214.069 L2043.58 214.069 L2043.58 183.444 L2031.31 183.444 L2031.31 179.509 Z\" fill=\"#000000\" fill-rule=\"evenodd\" fill-opacity=\"1\" /><path clip-path=\"url(#clip470)\" d=\"M2079 200.041 L2079 202.124 L2059.41 202.124 Q2059.69 206.522 2062.05 208.837 Q2064.44 211.129 2068.67 211.129 Q2071.13 211.129 2073.42 210.527 Q2075.73 209.925 2078 208.721 L2078 212.749 Q2075.71 213.721 2073.3 214.231 Q2070.89 214.74 2068.42 214.74 Q2062.21 214.74 2058.58 211.129 Q2054.97 207.518 2054.97 201.36 Q2054.97 194.995 2058.4 191.268 Q2061.84 187.518 2067.68 187.518 Q2072.91 187.518 2075.94 190.897 Q2079 194.254 2079 200.041 M2074.74 198.791 Q2074.69 195.296 2072.77 193.212 Q2070.87 191.129 2067.72 191.129 Q2064.16 191.129 2062.01 193.143 Q2059.88 195.157 2059.55 198.814 L2074.74 198.791 Z\" fill=\"#000000\" fill-rule=\"evenodd\" fill-opacity=\"1\" /><path clip-path=\"url(#clip470)\" d=\"M2102.52 188.907 L2102.52 192.934 Q2100.71 192.009 2098.77 191.546 Q2096.82 191.083 2094.74 191.083 Q2091.57 191.083 2089.97 192.055 Q2088.39 193.027 2088.39 194.971 Q2088.39 196.453 2089.53 197.309 Q2090.66 198.143 2094.09 198.907 L2095.55 199.231 Q2100.08 200.203 2101.98 201.985 Q2103.9 203.745 2103.9 206.916 Q2103.9 210.527 2101.03 212.633 Q2098.19 214.74 2093.19 214.74 Q2091.1 214.74 2088.83 214.323 Q2086.59 213.93 2084.09 213.12 L2084.09 208.721 Q2086.45 209.948 2088.74 210.573 Q2091.03 211.175 2093.28 211.175 Q2096.29 211.175 2097.91 210.157 Q2099.53 209.115 2099.53 207.24 Q2099.53 205.504 2098.35 204.578 Q2097.19 203.652 2093.23 202.796 L2091.75 202.448 Q2087.79 201.615 2086.03 199.902 Q2084.27 198.166 2084.27 195.157 Q2084.27 191.499 2086.87 189.509 Q2089.46 187.518 2094.23 187.518 Q2096.59 187.518 2098.67 187.865 Q2100.76 188.212 2102.52 188.907 Z\" fill=\"#000000\" fill-rule=\"evenodd\" fill-opacity=\"1\" /><path clip-path=\"url(#clip470)\" d=\"M2114.9 180.782 L2114.9 188.143 L2123.67 188.143 L2123.67 191.453 L2114.9 191.453 L2114.9 205.527 Q2114.9 208.698 2115.76 209.601 Q2116.64 210.504 2119.3 210.504 L2123.67 210.504 L2123.67 214.069 L2119.3 214.069 Q2114.37 214.069 2112.49 212.24 Q2110.62 210.388 2110.62 205.527 L2110.62 191.453 L2107.49 191.453 L2107.49 188.143 L2110.62 188.143 L2110.62 180.782 L2114.9 180.782 Z\" fill=\"#000000\" fill-rule=\"evenodd\" fill-opacity=\"1\" /><path clip-path=\"url(#clip470)\" d=\"M2149.2 183.351 L2149.2 196.337 L2155.08 196.337 Q2158.35 196.337 2160.13 194.647 Q2161.91 192.958 2161.91 189.833 Q2161.91 186.731 2160.13 185.041 Q2158.35 183.351 2155.08 183.351 L2149.2 183.351 M2144.53 179.509 L2155.08 179.509 Q2160.89 179.509 2163.86 182.147 Q2166.84 184.763 2166.84 189.833 Q2166.84 194.948 2163.86 197.564 Q2160.89 200.18 2155.08 200.18 L2149.2 200.18 L2149.2 214.069 L2144.53 214.069 L2144.53 179.509 Z\" fill=\"#000000\" fill-rule=\"evenodd\" fill-opacity=\"1\" /><path clip-path=\"url(#clip470)\" d=\"M2181.29 191.129 Q2177.86 191.129 2175.87 193.814 Q2173.88 196.476 2173.88 201.129 Q2173.88 205.782 2175.85 208.467 Q2177.84 211.129 2181.29 211.129 Q2184.69 211.129 2186.68 208.444 Q2188.67 205.758 2188.67 201.129 Q2188.67 196.522 2186.68 193.837 Q2184.69 191.129 2181.29 191.129 M2181.29 187.518 Q2186.84 187.518 2190.01 191.129 Q2193.19 194.74 2193.19 201.129 Q2193.19 207.495 2190.01 211.129 Q2186.84 214.74 2181.29 214.74 Q2175.71 214.74 2172.54 211.129 Q2169.39 207.495 2169.39 201.129 Q2169.39 194.74 2172.54 191.129 Q2175.71 187.518 2181.29 187.518 Z\" fill=\"#000000\" fill-rule=\"evenodd\" fill-opacity=\"1\" /><path clip-path=\"url(#clip470)\" d=\"M2200.25 178.05 L2204.51 178.05 L2204.51 214.069 L2200.25 214.069 L2200.25 178.05 Z\" fill=\"#000000\" fill-rule=\"evenodd\" fill-opacity=\"1\" /><path clip-path=\"url(#clip470)\" d=\"M2224.2 216.476 Q2222.4 221.106 2220.69 222.518 Q2218.97 223.93 2216.1 223.93 L2212.7 223.93 L2212.7 220.365 L2215.2 220.365 Q2216.96 220.365 2217.93 219.532 Q2218.9 218.698 2220.08 215.596 L2220.85 213.652 L2210.36 188.143 L2214.88 188.143 L2222.98 208.421 L2231.08 188.143 L2235.59 188.143 L2224.2 216.476 Z\" fill=\"#000000\" fill-rule=\"evenodd\" fill-opacity=\"1\" /><polyline clip-path=\"url(#clip470)\" style=\"stroke:#3da44d; stroke-linecap:round; stroke-linejoin:round; stroke-width:4; stroke-opacity:1; fill:none\" points=\"\n",
       "  1861.97,248.629 2007.12,248.629 \n",
       "  \"/>\n",
       "<circle clip-path=\"url(#clip470)\" cx=\"1934.54\" cy=\"248.629\" r=\"20.1603\" fill=\"#3da44d\" fill-rule=\"evenodd\" fill-opacity=\"1\" stroke=\"#000000\" stroke-opacity=\"1\" stroke-width=\"5.12\"/>\n",
       "<path clip-path=\"url(#clip470)\" d=\"M2031.31 231.349 L2060.55 231.349 L2060.55 235.284 L2048.28 235.284 L2048.28 265.909 L2043.58 265.909 L2043.58 235.284 L2031.31 235.284 L2031.31 231.349 Z\" fill=\"#000000\" fill-rule=\"evenodd\" fill-opacity=\"1\" /><path clip-path=\"url(#clip470)\" d=\"M2072.93 243.964 Q2072.21 243.548 2071.36 243.362 Q2070.52 243.154 2069.51 243.154 Q2065.89 243.154 2063.95 245.515 Q2062.03 247.853 2062.03 252.251 L2062.03 265.909 L2057.75 265.909 L2057.75 239.983 L2062.03 239.983 L2062.03 244.011 Q2063.37 241.649 2065.52 240.515 Q2067.68 239.358 2070.76 239.358 Q2071.2 239.358 2071.73 239.427 Q2072.26 239.474 2072.91 239.589 L2072.93 243.964 Z\" fill=\"#000000\" fill-rule=\"evenodd\" fill-opacity=\"1\" /><path clip-path=\"url(#clip470)\" d=\"M2089.18 252.876 Q2084.02 252.876 2082.03 254.057 Q2080.04 255.237 2080.04 258.085 Q2080.04 260.353 2081.52 261.696 Q2083.02 263.015 2085.59 263.015 Q2089.14 263.015 2091.27 260.515 Q2093.42 257.992 2093.42 253.825 L2093.42 252.876 L2089.18 252.876 M2097.68 251.117 L2097.68 265.909 L2093.42 265.909 L2093.42 261.973 Q2091.96 264.335 2089.78 265.469 Q2087.61 266.58 2084.46 266.58 Q2080.48 266.58 2078.12 264.358 Q2075.78 262.112 2075.78 258.362 Q2075.78 253.987 2078.7 251.765 Q2081.64 249.543 2087.45 249.543 L2093.42 249.543 L2093.42 249.126 Q2093.42 246.187 2091.47 244.589 Q2089.55 242.969 2086.06 242.969 Q2083.83 242.969 2081.73 243.501 Q2079.62 244.034 2077.68 245.099 L2077.68 241.163 Q2080.02 240.261 2082.21 239.821 Q2084.41 239.358 2086.5 239.358 Q2092.12 239.358 2094.9 242.274 Q2097.68 245.191 2097.68 251.117 Z\" fill=\"#000000\" fill-rule=\"evenodd\" fill-opacity=\"1\" /><path clip-path=\"url(#clip470)\" d=\"M2106.45 239.983 L2110.71 239.983 L2110.71 265.909 L2106.45 265.909 L2106.45 239.983 M2106.45 229.89 L2110.71 229.89 L2110.71 235.284 L2106.45 235.284 L2106.45 229.89 Z\" fill=\"#000000\" fill-rule=\"evenodd\" fill-opacity=\"1\" /><path clip-path=\"url(#clip470)\" d=\"M2141.17 250.261 L2141.17 265.909 L2136.91 265.909 L2136.91 250.399 Q2136.91 246.719 2135.48 244.89 Q2134.04 243.062 2131.17 243.062 Q2127.72 243.062 2125.73 245.261 Q2123.74 247.46 2123.74 251.256 L2123.74 265.909 L2119.46 265.909 L2119.46 239.983 L2123.74 239.983 L2123.74 244.011 Q2125.27 241.673 2127.33 240.515 Q2129.41 239.358 2132.12 239.358 Q2136.59 239.358 2138.88 242.136 Q2141.17 244.89 2141.17 250.261 Z\" fill=\"#000000\" fill-rule=\"evenodd\" fill-opacity=\"1\" /><path clip-path=\"url(#clip470)\" d=\"M2188.49 260.978 L2188.49 251.696 L2180.85 251.696 L2180.85 247.853 L2193.12 247.853 L2193.12 262.691 Q2190.41 264.612 2187.14 265.608 Q2183.88 266.58 2180.18 266.58 Q2172.07 266.58 2167.49 261.858 Q2162.93 257.112 2162.93 248.663 Q2162.93 240.191 2167.49 235.469 Q2172.07 230.724 2180.18 230.724 Q2183.56 230.724 2186.59 231.557 Q2189.64 232.39 2192.21 234.011 L2192.21 238.987 Q2189.62 236.788 2186.7 235.677 Q2183.79 234.566 2180.57 234.566 Q2174.23 234.566 2171.03 238.108 Q2167.86 241.649 2167.86 248.663 Q2167.86 255.654 2171.03 259.196 Q2174.23 262.737 2180.57 262.737 Q2183.05 262.737 2184.99 262.321 Q2186.94 261.881 2188.49 260.978 Z\" fill=\"#000000\" fill-rule=\"evenodd\" fill-opacity=\"1\" /><path clip-path=\"url(#clip470)\" d=\"M2222.38 232.483 L2222.38 237.043 Q2219.71 235.77 2217.35 235.145 Q2214.99 234.52 2212.79 234.52 Q2208.97 234.52 2206.89 236.001 Q2204.83 237.483 2204.83 240.214 Q2204.83 242.506 2206.2 243.687 Q2207.58 244.844 2211.43 245.562 L2214.25 246.14 Q2219.48 247.136 2221.96 249.659 Q2224.46 252.159 2224.46 256.372 Q2224.46 261.395 2221.08 263.987 Q2217.72 266.58 2211.22 266.58 Q2208.76 266.58 2205.99 266.024 Q2203.23 265.469 2200.27 264.381 L2200.27 259.566 Q2203.12 261.163 2205.85 261.973 Q2208.58 262.784 2211.22 262.784 Q2215.22 262.784 2217.4 261.21 Q2219.57 259.636 2219.57 256.719 Q2219.57 254.173 2218 252.737 Q2216.45 251.302 2212.88 250.585 L2210.04 250.029 Q2204.81 248.987 2202.47 246.765 Q2200.13 244.543 2200.13 240.585 Q2200.13 236.001 2203.35 233.362 Q2206.59 230.724 2212.26 230.724 Q2214.69 230.724 2217.21 231.163 Q2219.74 231.603 2222.38 232.483 Z\" fill=\"#000000\" fill-rule=\"evenodd\" fill-opacity=\"1\" /><polyline clip-path=\"url(#clip470)\" style=\"stroke:#c271d2; stroke-linecap:round; stroke-linejoin:round; stroke-width:4; stroke-opacity:1; fill:none\" points=\"\n",
       "  1861.97,300.469 2007.12,300.469 \n",
       "  \"/>\n",
       "<path clip-path=\"url(#clip470)\" d=\"M1912.14 278.068 L1912.14 322.869 L1956.94 322.869 L1956.94 278.068 L1912.14 278.068 Z\" fill=\"#c271d2\" fill-rule=\"evenodd\" fill-opacity=\"1\" stroke=\"#000000\" stroke-opacity=\"1\" stroke-width=\"5.12\"/>\n",
       "<path clip-path=\"url(#clip470)\" d=\"M2031.31 283.189 L2060.55 283.189 L2060.55 287.124 L2048.28 287.124 L2048.28 317.749 L2043.58 317.749 L2043.58 287.124 L2031.31 287.124 L2031.31 283.189 Z\" fill=\"#000000\" fill-rule=\"evenodd\" fill-opacity=\"1\" /><path clip-path=\"url(#clip470)\" d=\"M2079 303.721 L2079 305.804 L2059.41 305.804 Q2059.69 310.202 2062.05 312.517 Q2064.44 314.809 2068.67 314.809 Q2071.13 314.809 2073.42 314.207 Q2075.73 313.605 2078 312.401 L2078 316.429 Q2075.71 317.401 2073.3 317.911 Q2070.89 318.42 2068.42 318.42 Q2062.21 318.42 2058.58 314.809 Q2054.97 311.198 2054.97 305.04 Q2054.97 298.675 2058.4 294.948 Q2061.84 291.198 2067.68 291.198 Q2072.91 291.198 2075.94 294.577 Q2079 297.934 2079 303.721 M2074.74 302.471 Q2074.69 298.976 2072.77 296.892 Q2070.87 294.809 2067.72 294.809 Q2064.16 294.809 2062.01 296.823 Q2059.88 298.837 2059.55 302.494 L2074.74 302.471 Z\" fill=\"#000000\" fill-rule=\"evenodd\" fill-opacity=\"1\" /><path clip-path=\"url(#clip470)\" d=\"M2102.52 292.587 L2102.52 296.614 Q2100.71 295.689 2098.77 295.226 Q2096.82 294.763 2094.74 294.763 Q2091.57 294.763 2089.97 295.735 Q2088.39 296.707 2088.39 298.651 Q2088.39 300.133 2089.53 300.989 Q2090.66 301.823 2094.09 302.587 L2095.55 302.911 Q2100.08 303.883 2101.98 305.665 Q2103.9 307.425 2103.9 310.596 Q2103.9 314.207 2101.03 316.313 Q2098.19 318.42 2093.19 318.42 Q2091.1 318.42 2088.83 318.003 Q2086.59 317.61 2084.09 316.8 L2084.09 312.401 Q2086.45 313.628 2088.74 314.253 Q2091.03 314.855 2093.28 314.855 Q2096.29 314.855 2097.91 313.837 Q2099.53 312.795 2099.53 310.92 Q2099.53 309.184 2098.35 308.258 Q2097.19 307.332 2093.23 306.476 L2091.75 306.128 Q2087.79 305.295 2086.03 303.582 Q2084.27 301.846 2084.27 298.837 Q2084.27 295.179 2086.87 293.189 Q2089.46 291.198 2094.23 291.198 Q2096.59 291.198 2098.67 291.545 Q2100.76 291.892 2102.52 292.587 Z\" fill=\"#000000\" fill-rule=\"evenodd\" fill-opacity=\"1\" /><path clip-path=\"url(#clip470)\" d=\"M2114.9 284.462 L2114.9 291.823 L2123.67 291.823 L2123.67 295.133 L2114.9 295.133 L2114.9 309.207 Q2114.9 312.378 2115.76 313.281 Q2116.64 314.184 2119.3 314.184 L2123.67 314.184 L2123.67 317.749 L2119.3 317.749 Q2114.37 317.749 2112.49 315.92 Q2110.62 314.068 2110.62 309.207 L2110.62 295.133 L2107.49 295.133 L2107.49 291.823 L2110.62 291.823 L2110.62 284.462 L2114.9 284.462 Z\" fill=\"#000000\" fill-rule=\"evenodd\" fill-opacity=\"1\" /><path clip-path=\"url(#clip470)\" d=\"M2168.09 312.818 L2168.09 303.536 L2160.45 303.536 L2160.45 299.693 L2172.72 299.693 L2172.72 314.531 Q2170.01 316.452 2166.75 317.448 Q2163.49 318.42 2159.78 318.42 Q2151.68 318.42 2147.1 313.698 Q2142.54 308.952 2142.54 300.503 Q2142.54 292.031 2147.1 287.309 Q2151.68 282.564 2159.78 282.564 Q2163.16 282.564 2166.2 283.397 Q2169.25 284.23 2171.82 285.851 L2171.82 290.827 Q2169.23 288.628 2166.31 287.517 Q2163.39 286.406 2160.18 286.406 Q2153.83 286.406 2150.64 289.948 Q2147.47 293.489 2147.47 300.503 Q2147.47 307.494 2150.64 311.036 Q2153.83 314.577 2160.18 314.577 Q2162.65 314.577 2164.6 314.161 Q2166.54 313.721 2168.09 312.818 Z\" fill=\"#000000\" fill-rule=\"evenodd\" fill-opacity=\"1\" /><path clip-path=\"url(#clip470)\" d=\"M2201.98 284.323 L2201.98 288.883 Q2199.32 287.61 2196.96 286.985 Q2194.6 286.36 2192.4 286.36 Q2188.58 286.36 2186.5 287.841 Q2184.44 289.323 2184.44 292.054 Q2184.44 294.346 2185.8 295.527 Q2187.19 296.684 2191.03 297.402 L2193.86 297.98 Q2199.09 298.976 2201.57 301.499 Q2204.07 303.999 2204.07 308.212 Q2204.07 313.235 2200.69 315.827 Q2197.33 318.42 2190.82 318.42 Q2188.37 318.42 2185.59 317.864 Q2182.84 317.309 2179.88 316.221 L2179.88 311.406 Q2182.72 313.003 2185.45 313.813 Q2188.19 314.624 2190.82 314.624 Q2194.83 314.624 2197.01 313.05 Q2199.18 311.476 2199.18 308.559 Q2199.18 306.013 2197.61 304.577 Q2196.06 303.142 2192.49 302.425 L2189.64 301.869 Q2184.41 300.827 2182.07 298.605 Q2179.74 296.383 2179.74 292.425 Q2179.74 287.841 2182.95 285.202 Q2186.2 282.564 2191.87 282.564 Q2194.3 282.564 2196.82 283.003 Q2199.34 283.443 2201.98 284.323 Z\" fill=\"#000000\" fill-rule=\"evenodd\" fill-opacity=\"1\" /></svg>\n"
      ]
     },
     "execution_count": 13,
     "metadata": {},
     "output_type": "execute_result"
    }
   ],
   "source": [
    "plot(0:20, error_train, label = \"Train Poly\", marker = :circle)\n",
    "plot!(0:20, error_test, label = \"Test Poly\", marker = :square)\n",
    "plot!(0:20, error_train_gs, label = \"Train GS\", marker = :circle)\n",
    "plot!(0:20, error_test_gs, label = \"Test GS\", marker = :square)\n",
    "plot!(xlabel=\"Degree\", ylabel = \"Relative RMS error\")"
   ]
  },
  {
   "cell_type": "markdown",
   "id": "74e9995a",
   "metadata": {},
   "source": [
    "Sprawdźmy teraz jaka jest różnica w szybkości pomiędzy oboma rozwiązaniami. Użyjemy do tego biblioteki [<tt>BechmarkTools.jl</tt>](https://github.com/JuliaCI/BenchmarkTools.jl). Pozwala ona na efektywne badanie wydajności kodu w Julii. W porównaniu z wbudowanymi w język makrami <tt>@time</tt> i <tt>@elapsed</tt>, makra <tt>@btime</tt> i <tt>@belapsed</tt> są znacznie bardziej odporne na procesy w tle, kompliowanie kodu i inne formy losowego szumu, które mogą zaburzyć wynik benchmarku.\n",
    "\n",
    "Wykorzystamy makro <tt>@belapsed</tt>, które zwraca przeciętny czas wykonywania algorytmu w formie zmiennej (dla porównania, makro <tt>@btime</tt> printuje wynik)."
   ]
  },
  {
   "cell_type": "code",
   "execution_count": 14,
   "id": "e4fe4bca",
   "metadata": {},
   "outputs": [],
   "source": [
    "#import Pkg; Pkg.add(\"BenchmarkTools\")"
   ]
  },
  {
   "cell_type": "code",
   "execution_count": 15,
   "id": "de529ed9",
   "metadata": {},
   "outputs": [],
   "source": [
    "using BenchmarkTools"
   ]
  },
  {
   "cell_type": "code",
   "execution_count": 16,
   "id": "b38da8a7",
   "metadata": {},
   "outputs": [],
   "source": [
    "time_fitpoly=zeros(length(1:0.5:5));\n",
    "time_gs=zeros(length(1:0.5:5));"
   ]
  },
  {
   "cell_type": "code",
   "execution_count": 21,
   "id": "857f9ed8",
   "metadata": {},
   "outputs": [
    {
     "name": "stderr",
     "output_type": "stream",
     "text": [
      "\u001b[36m\u001b[1m[ \u001b[22m\u001b[39m\u001b[36m\u001b[1mInfo: \u001b[22m\u001b[39mFor 10 points; fitpoly: 1.9888888888888887e-6, gram_schmidt_solve: 1.76e-5\n",
      "\u001b[36m\u001b[1m[ \u001b[22m\u001b[39m\u001b[36m\u001b[1mInfo: \u001b[22m\u001b[39mFor 32 points; fitpoly: 3.6625e-6, gram_schmidt_solve: 1.81e-5\n",
      "\u001b[36m\u001b[1m[ \u001b[22m\u001b[39m\u001b[36m\u001b[1mInfo: \u001b[22m\u001b[39mFor 100 points; fitpoly: 8.333333333333334e-6, gram_schmidt_solve: 2.03e-5\n",
      "\u001b[36m\u001b[1m[ \u001b[22m\u001b[39m\u001b[36m\u001b[1mInfo: \u001b[22m\u001b[39mFor 317 points; fitpoly: 2.41e-5, gram_schmidt_solve: 2.93e-5\n",
      "\u001b[36m\u001b[1m[ \u001b[22m\u001b[39m\u001b[36m\u001b[1mInfo: \u001b[22m\u001b[39mFor 1000 points; fitpoly: 7.07e-5, gram_schmidt_solve: 4.54e-5\n",
      "\u001b[36m\u001b[1m[ \u001b[22m\u001b[39m\u001b[36m\u001b[1mInfo: \u001b[22m\u001b[39mFor 3163 points; fitpoly: 0.0002219, gram_schmidt_solve: 0.0001092\n",
      "\u001b[36m\u001b[1m[ \u001b[22m\u001b[39m\u001b[36m\u001b[1mInfo: \u001b[22m\u001b[39mFor 10000 points; fitpoly: 0.0007108, gram_schmidt_solve: 0.0003644\n",
      "\u001b[36m\u001b[1m[ \u001b[22m\u001b[39m\u001b[36m\u001b[1mInfo: \u001b[22m\u001b[39mFor 31623 points; fitpoly: 0.002526, gram_schmidt_solve: 0.0014828\n",
      "\u001b[36m\u001b[1m[ \u001b[22m\u001b[39m\u001b[36m\u001b[1mInfo: \u001b[22m\u001b[39mFor 100000 points; fitpoly: 0.0075402, gram_schmidt_solve: 0.0040829\n"
     ]
    }
   ],
   "source": [
    "for (i,p) in enumerate(1:0.5:5)\n",
    "    m = ceil(Int,10^p)\n",
    "    t = -1 .+ 2*rand(m);\n",
    "    y = t.^3 - t + 0.4 ./ (1 .+ 25*t.^2) + 0.10*randn(m);\n",
    "    t1 = @belapsed fitpoly(t,y,3)\n",
    "    time_fitpoly[i] = t1\n",
    "    t2 = @belapsed gram_schmidt_solve(t,y,3)\n",
    "    time_gs[i] = t2\n",
    "    @info \"For $m points; fitpoly: $t1, gram_schmidt_solve: $t2\"\n",
    "end"
   ]
  },
  {
   "cell_type": "markdown",
   "id": "562e7239",
   "metadata": {},
   "source": [
    "Wygenerujmy wykres:"
   ]
  },
  {
   "cell_type": "code",
   "execution_count": 24,
   "id": "2d27ac99",
   "metadata": {},
   "outputs": [
    {
     "data": {
      "image/svg+xml": [
       "<?xml version=\"1.0\" encoding=\"utf-8\"?>\n",
       "<svg xmlns=\"http://www.w3.org/2000/svg\" xmlns:xlink=\"http://www.w3.org/1999/xlink\" width=\"600\" height=\"400\" viewBox=\"0 0 2400 1600\">\n",
       "<defs>\n",
       "  <clipPath id=\"clip530\">\n",
       "    <rect x=\"0\" y=\"0\" width=\"2400\" height=\"1600\"/>\n",
       "  </clipPath>\n",
       "</defs>\n",
       "<path clip-path=\"url(#clip530)\" d=\"\n",
       "M0 1600 L2400 1600 L2400 0 L0 0  Z\n",
       "  \" fill=\"#ffffff\" fill-rule=\"evenodd\" fill-opacity=\"1\"/>\n",
       "<defs>\n",
       "  <clipPath id=\"clip531\">\n",
       "    <rect x=\"480\" y=\"0\" width=\"1681\" height=\"1600\"/>\n",
       "  </clipPath>\n",
       "</defs>\n",
       "<path clip-path=\"url(#clip530)\" d=\"\n",
       "M280.19 1423.18 L2352.76 1423.18 L2352.76 47.2441 L280.19 47.2441  Z\n",
       "  \" fill=\"#ffffff\" fill-rule=\"evenodd\" fill-opacity=\"1\"/>\n",
       "<defs>\n",
       "  <clipPath id=\"clip532\">\n",
       "    <rect x=\"280\" y=\"47\" width=\"2074\" height=\"1377\"/>\n",
       "  </clipPath>\n",
       "</defs>\n",
       "<polyline clip-path=\"url(#clip532)\" style=\"stroke:#000000; stroke-linecap:round; stroke-linejoin:round; stroke-width:2; stroke-opacity:0.1; fill:none\" points=\"\n",
       "  338.848,1423.18 338.848,47.2441 \n",
       "  \"/>\n",
       "<polyline clip-path=\"url(#clip532)\" style=\"stroke:#000000; stroke-linecap:round; stroke-linejoin:round; stroke-width:2; stroke-opacity:0.1; fill:none\" points=\"\n",
       "  827.66,1423.18 827.66,47.2441 \n",
       "  \"/>\n",
       "<polyline clip-path=\"url(#clip532)\" style=\"stroke:#000000; stroke-linecap:round; stroke-linejoin:round; stroke-width:2; stroke-opacity:0.1; fill:none\" points=\"\n",
       "  1316.47,1423.18 1316.47,47.2441 \n",
       "  \"/>\n",
       "<polyline clip-path=\"url(#clip532)\" style=\"stroke:#000000; stroke-linecap:round; stroke-linejoin:round; stroke-width:2; stroke-opacity:0.1; fill:none\" points=\"\n",
       "  1805.29,1423.18 1805.29,47.2441 \n",
       "  \"/>\n",
       "<polyline clip-path=\"url(#clip532)\" style=\"stroke:#000000; stroke-linecap:round; stroke-linejoin:round; stroke-width:2; stroke-opacity:0.1; fill:none\" points=\"\n",
       "  2294.1,1423.18 2294.1,47.2441 \n",
       "  \"/>\n",
       "<polyline clip-path=\"url(#clip530)\" style=\"stroke:#000000; stroke-linecap:round; stroke-linejoin:round; stroke-width:4; stroke-opacity:1; fill:none\" points=\"\n",
       "  280.19,1423.18 2352.76,1423.18 \n",
       "  \"/>\n",
       "<polyline clip-path=\"url(#clip530)\" style=\"stroke:#000000; stroke-linecap:round; stroke-linejoin:round; stroke-width:4; stroke-opacity:1; fill:none\" points=\"\n",
       "  338.848,1423.18 338.848,1404.28 \n",
       "  \"/>\n",
       "<polyline clip-path=\"url(#clip530)\" style=\"stroke:#000000; stroke-linecap:round; stroke-linejoin:round; stroke-width:4; stroke-opacity:1; fill:none\" points=\"\n",
       "  827.66,1423.18 827.66,1404.28 \n",
       "  \"/>\n",
       "<polyline clip-path=\"url(#clip530)\" style=\"stroke:#000000; stroke-linecap:round; stroke-linejoin:round; stroke-width:4; stroke-opacity:1; fill:none\" points=\"\n",
       "  1316.47,1423.18 1316.47,1404.28 \n",
       "  \"/>\n",
       "<polyline clip-path=\"url(#clip530)\" style=\"stroke:#000000; stroke-linecap:round; stroke-linejoin:round; stroke-width:4; stroke-opacity:1; fill:none\" points=\"\n",
       "  1805.29,1423.18 1805.29,1404.28 \n",
       "  \"/>\n",
       "<polyline clip-path=\"url(#clip530)\" style=\"stroke:#000000; stroke-linecap:round; stroke-linejoin:round; stroke-width:4; stroke-opacity:1; fill:none\" points=\"\n",
       "  2294.1,1423.18 2294.1,1404.28 \n",
       "  \"/>\n",
       "<path clip-path=\"url(#clip530)\" d=\"M329.23 1481.64 L336.868 1481.64 L336.868 1455.28 L328.558 1456.95 L328.558 1452.69 L336.822 1451.02 L341.498 1451.02 L341.498 1481.64 L349.137 1481.64 L349.137 1485.58 L329.23 1485.58 L329.23 1481.64 Z\" fill=\"#000000\" fill-rule=\"evenodd\" fill-opacity=\"1\" /><path clip-path=\"url(#clip530)\" d=\"M822.313 1481.64 L838.632 1481.64 L838.632 1485.58 L816.688 1485.58 L816.688 1481.64 Q819.35 1478.89 823.933 1474.26 Q828.54 1469.61 829.72 1468.27 Q831.966 1465.74 832.845 1464.01 Q833.748 1462.25 833.748 1460.56 Q833.748 1457.8 831.804 1456.07 Q829.882 1454.33 826.781 1454.33 Q824.582 1454.33 822.128 1455.09 Q819.697 1455.86 816.92 1457.41 L816.92 1452.69 Q819.744 1451.55 822.197 1450.97 Q824.651 1450.39 826.688 1450.39 Q832.058 1450.39 835.253 1453.08 Q838.447 1455.77 838.447 1460.26 Q838.447 1462.39 837.637 1464.31 Q836.85 1466.2 834.744 1468.8 Q834.165 1469.47 831.063 1472.69 Q827.961 1475.88 822.313 1481.64 Z\" fill=\"#000000\" fill-rule=\"evenodd\" fill-opacity=\"1\" /><path clip-path=\"url(#clip530)\" d=\"M1320.72 1466.95 Q1324.08 1467.66 1325.95 1469.93 Q1327.85 1472.2 1327.85 1475.53 Q1327.85 1480.65 1324.33 1483.45 Q1320.81 1486.25 1314.33 1486.25 Q1312.16 1486.25 1309.84 1485.81 Q1307.55 1485.39 1305.1 1484.54 L1305.1 1480.02 Q1307.04 1481.16 1309.35 1481.74 Q1311.67 1482.32 1314.19 1482.32 Q1318.59 1482.32 1320.88 1480.58 Q1323.2 1478.84 1323.2 1475.53 Q1323.2 1472.48 1321.04 1470.77 Q1318.92 1469.03 1315.1 1469.03 L1311.07 1469.03 L1311.07 1465.19 L1315.28 1465.19 Q1318.73 1465.19 1320.56 1463.82 Q1322.39 1462.43 1322.39 1459.84 Q1322.39 1457.18 1320.49 1455.77 Q1318.61 1454.33 1315.1 1454.33 Q1313.17 1454.33 1310.98 1454.75 Q1308.78 1455.16 1306.14 1456.04 L1306.14 1451.88 Q1308.8 1451.14 1311.11 1450.77 Q1313.45 1450.39 1315.51 1450.39 Q1320.84 1450.39 1323.94 1452.83 Q1327.04 1455.23 1327.04 1459.35 Q1327.04 1462.22 1325.4 1464.21 Q1323.75 1466.18 1320.72 1466.95 Z\" fill=\"#000000\" fill-rule=\"evenodd\" fill-opacity=\"1\" /><path clip-path=\"url(#clip530)\" d=\"M1808.29 1455.09 L1796.49 1473.54 L1808.29 1473.54 L1808.29 1455.09 M1807.07 1451.02 L1812.95 1451.02 L1812.95 1473.54 L1817.88 1473.54 L1817.88 1477.43 L1812.95 1477.43 L1812.95 1485.58 L1808.29 1485.58 L1808.29 1477.43 L1792.69 1477.43 L1792.69 1472.92 L1807.07 1451.02 Z\" fill=\"#000000\" fill-rule=\"evenodd\" fill-opacity=\"1\" /><path clip-path=\"url(#clip530)\" d=\"M2284.38 1451.02 L2302.73 1451.02 L2302.73 1454.96 L2288.66 1454.96 L2288.66 1463.43 Q2289.68 1463.08 2290.7 1462.92 Q2291.71 1462.73 2292.73 1462.73 Q2298.52 1462.73 2301.9 1465.9 Q2305.28 1469.08 2305.28 1474.49 Q2305.28 1480.07 2301.81 1483.17 Q2298.33 1486.25 2292.02 1486.25 Q2289.84 1486.25 2287.57 1485.88 Q2285.33 1485.51 2282.92 1484.77 L2282.92 1480.07 Q2285 1481.2 2287.22 1481.76 Q2289.45 1482.32 2291.92 1482.32 Q2295.93 1482.32 2298.27 1480.21 Q2300.6 1478.1 2300.6 1474.49 Q2300.6 1470.88 2298.27 1468.77 Q2295.93 1466.67 2291.92 1466.67 Q2290.05 1466.67 2288.17 1467.08 Q2286.32 1467.5 2284.38 1468.38 L2284.38 1451.02 Z\" fill=\"#000000\" fill-rule=\"evenodd\" fill-opacity=\"1\" /><path clip-path=\"url(#clip530)\" d=\"M1318.43 1539.24 Q1320.63 1535.29 1323.68 1533.41 Q1326.74 1531.54 1330.88 1531.54 Q1336.45 1531.54 1339.47 1535.45 Q1342.49 1539.33 1342.49 1546.53 L1342.49 1568.04 L1336.6 1568.04 L1336.6 1546.72 Q1336.6 1541.59 1334.79 1539.11 Q1332.98 1536.63 1329.25 1536.63 Q1324.7 1536.63 1322.06 1539.65 Q1319.42 1542.68 1319.42 1547.9 L1319.42 1568.04 L1313.53 1568.04 L1313.53 1546.72 Q1313.53 1541.56 1311.71 1539.11 Q1309.9 1536.63 1306.11 1536.63 Q1301.62 1536.63 1298.98 1539.68 Q1296.34 1542.71 1296.34 1547.9 L1296.34 1568.04 L1290.45 1568.04 L1290.45 1532.4 L1296.34 1532.4 L1296.34 1537.93 Q1298.35 1534.66 1301.15 1533.1 Q1303.95 1531.54 1307.8 1531.54 Q1311.68 1531.54 1314.39 1533.51 Q1317.13 1535.48 1318.43 1539.24 Z\" fill=\"#000000\" fill-rule=\"evenodd\" fill-opacity=\"1\" /><polyline clip-path=\"url(#clip532)\" style=\"stroke:#000000; stroke-linecap:round; stroke-linejoin:round; stroke-width:2; stroke-opacity:0.1; fill:none\" points=\"\n",
       "  280.19,1384.58 2352.76,1384.58 \n",
       "  \"/>\n",
       "<polyline clip-path=\"url(#clip532)\" style=\"stroke:#000000; stroke-linecap:round; stroke-linejoin:round; stroke-width:2; stroke-opacity:0.1; fill:none\" points=\"\n",
       "  280.19,1040.19 2352.76,1040.19 \n",
       "  \"/>\n",
       "<polyline clip-path=\"url(#clip532)\" style=\"stroke:#000000; stroke-linecap:round; stroke-linejoin:round; stroke-width:2; stroke-opacity:0.1; fill:none\" points=\"\n",
       "  280.19,695.795 2352.76,695.795 \n",
       "  \"/>\n",
       "<polyline clip-path=\"url(#clip532)\" style=\"stroke:#000000; stroke-linecap:round; stroke-linejoin:round; stroke-width:2; stroke-opacity:0.1; fill:none\" points=\"\n",
       "  280.19,351.403 2352.76,351.403 \n",
       "  \"/>\n",
       "<polyline clip-path=\"url(#clip530)\" style=\"stroke:#000000; stroke-linecap:round; stroke-linejoin:round; stroke-width:4; stroke-opacity:1; fill:none\" points=\"\n",
       "  280.19,1423.18 280.19,47.2441 \n",
       "  \"/>\n",
       "<polyline clip-path=\"url(#clip530)\" style=\"stroke:#000000; stroke-linecap:round; stroke-linejoin:round; stroke-width:4; stroke-opacity:1; fill:none\" points=\"\n",
       "  280.19,1384.58 299.088,1384.58 \n",
       "  \"/>\n",
       "<polyline clip-path=\"url(#clip530)\" style=\"stroke:#000000; stroke-linecap:round; stroke-linejoin:round; stroke-width:4; stroke-opacity:1; fill:none\" points=\"\n",
       "  280.19,1040.19 299.088,1040.19 \n",
       "  \"/>\n",
       "<polyline clip-path=\"url(#clip530)\" style=\"stroke:#000000; stroke-linecap:round; stroke-linejoin:round; stroke-width:4; stroke-opacity:1; fill:none\" points=\"\n",
       "  280.19,695.795 299.088,695.795 \n",
       "  \"/>\n",
       "<polyline clip-path=\"url(#clip530)\" style=\"stroke:#000000; stroke-linecap:round; stroke-linejoin:round; stroke-width:4; stroke-opacity:1; fill:none\" points=\"\n",
       "  280.19,351.403 299.088,351.403 \n",
       "  \"/>\n",
       "<path clip-path=\"url(#clip530)\" d=\"M126.691 1370.38 Q123.08 1370.38 121.251 1373.94 Q119.445 1377.49 119.445 1384.62 Q119.445 1391.72 121.251 1395.29 Q123.08 1398.83 126.691 1398.83 Q130.325 1398.83 132.13 1395.29 Q133.959 1391.72 133.959 1384.62 Q133.959 1377.49 132.13 1373.94 Q130.325 1370.38 126.691 1370.38 M126.691 1366.68 Q132.501 1366.68 135.556 1371.28 Q138.635 1375.87 138.635 1384.62 Q138.635 1393.34 135.556 1397.95 Q132.501 1402.53 126.691 1402.53 Q120.88 1402.53 117.802 1397.95 Q114.746 1393.34 114.746 1384.62 Q114.746 1375.87 117.802 1371.28 Q120.88 1366.68 126.691 1366.68 Z\" fill=\"#000000\" fill-rule=\"evenodd\" fill-opacity=\"1\" /><path clip-path=\"url(#clip530)\" d=\"M146.853 1395.98 L151.737 1395.98 L151.737 1401.86 L146.853 1401.86 L146.853 1395.98 Z\" fill=\"#000000\" fill-rule=\"evenodd\" fill-opacity=\"1\" /><path clip-path=\"url(#clip530)\" d=\"M171.922 1370.38 Q168.311 1370.38 166.482 1373.94 Q164.677 1377.49 164.677 1384.62 Q164.677 1391.72 166.482 1395.29 Q168.311 1398.83 171.922 1398.83 Q175.556 1398.83 177.362 1395.29 Q179.19 1391.72 179.19 1384.62 Q179.19 1377.49 177.362 1373.94 Q175.556 1370.38 171.922 1370.38 M171.922 1366.68 Q177.732 1366.68 180.788 1371.28 Q183.866 1375.87 183.866 1384.62 Q183.866 1393.34 180.788 1397.95 Q177.732 1402.53 171.922 1402.53 Q166.112 1402.53 163.033 1397.95 Q159.978 1393.34 159.978 1384.62 Q159.978 1375.87 163.033 1371.28 Q166.112 1366.68 171.922 1366.68 Z\" fill=\"#000000\" fill-rule=\"evenodd\" fill-opacity=\"1\" /><path clip-path=\"url(#clip530)\" d=\"M202.084 1370.38 Q198.473 1370.38 196.644 1373.94 Q194.838 1377.49 194.838 1384.62 Q194.838 1391.72 196.644 1395.29 Q198.473 1398.83 202.084 1398.83 Q205.718 1398.83 207.524 1395.29 Q209.352 1391.72 209.352 1384.62 Q209.352 1377.49 207.524 1373.94 Q205.718 1370.38 202.084 1370.38 M202.084 1366.68 Q207.894 1366.68 210.949 1371.28 Q214.028 1375.87 214.028 1384.62 Q214.028 1393.34 210.949 1397.95 Q207.894 1402.53 202.084 1402.53 Q196.274 1402.53 193.195 1397.95 Q190.139 1393.34 190.139 1384.62 Q190.139 1375.87 193.195 1371.28 Q196.274 1366.68 202.084 1366.68 Z\" fill=\"#000000\" fill-rule=\"evenodd\" fill-opacity=\"1\" /><path clip-path=\"url(#clip530)\" d=\"M232.246 1370.38 Q228.635 1370.38 226.806 1373.94 Q225 1377.49 225 1384.62 Q225 1391.72 226.806 1395.29 Q228.635 1398.83 232.246 1398.83 Q235.88 1398.83 237.685 1395.29 Q239.514 1391.72 239.514 1384.62 Q239.514 1377.49 237.685 1373.94 Q235.88 1370.38 232.246 1370.38 M232.246 1366.68 Q238.056 1366.68 241.111 1371.28 Q244.19 1375.87 244.19 1384.62 Q244.19 1393.34 241.111 1397.95 Q238.056 1402.53 232.246 1402.53 Q226.435 1402.53 223.357 1397.95 Q220.301 1393.34 220.301 1384.62 Q220.301 1375.87 223.357 1371.28 Q226.435 1366.68 232.246 1366.68 Z\" fill=\"#000000\" fill-rule=\"evenodd\" fill-opacity=\"1\" /><path clip-path=\"url(#clip530)\" d=\"M128.288 1025.99 Q124.677 1025.99 122.848 1029.55 Q121.043 1033.09 121.043 1040.22 Q121.043 1047.33 122.848 1050.89 Q124.677 1054.44 128.288 1054.44 Q131.922 1054.44 133.728 1050.89 Q135.556 1047.33 135.556 1040.22 Q135.556 1033.09 133.728 1029.55 Q131.922 1025.99 128.288 1025.99 M128.288 1022.28 Q134.098 1022.28 137.154 1026.89 Q140.232 1031.47 140.232 1040.22 Q140.232 1048.95 137.154 1053.56 Q134.098 1058.14 128.288 1058.14 Q122.478 1058.14 119.399 1053.56 Q116.343 1048.95 116.343 1040.22 Q116.343 1031.47 119.399 1026.89 Q122.478 1022.28 128.288 1022.28 Z\" fill=\"#000000\" fill-rule=\"evenodd\" fill-opacity=\"1\" /><path clip-path=\"url(#clip530)\" d=\"M148.45 1051.59 L153.334 1051.59 L153.334 1057.47 L148.45 1057.47 L148.45 1051.59 Z\" fill=\"#000000\" fill-rule=\"evenodd\" fill-opacity=\"1\" /><path clip-path=\"url(#clip530)\" d=\"M173.519 1025.99 Q169.908 1025.99 168.079 1029.55 Q166.274 1033.09 166.274 1040.22 Q166.274 1047.33 168.079 1050.89 Q169.908 1054.44 173.519 1054.44 Q177.153 1054.44 178.959 1050.89 Q180.788 1047.33 180.788 1040.22 Q180.788 1033.09 178.959 1029.55 Q177.153 1025.99 173.519 1025.99 M173.519 1022.28 Q179.329 1022.28 182.385 1026.89 Q185.463 1031.47 185.463 1040.22 Q185.463 1048.95 182.385 1053.56 Q179.329 1058.14 173.519 1058.14 Q167.709 1058.14 164.63 1053.56 Q161.575 1048.95 161.575 1040.22 Q161.575 1031.47 164.63 1026.89 Q167.709 1022.28 173.519 1022.28 Z\" fill=\"#000000\" fill-rule=\"evenodd\" fill-opacity=\"1\" /><path clip-path=\"url(#clip530)\" d=\"M203.681 1025.99 Q200.07 1025.99 198.241 1029.55 Q196.436 1033.09 196.436 1040.22 Q196.436 1047.33 198.241 1050.89 Q200.07 1054.44 203.681 1054.44 Q207.315 1054.44 209.121 1050.89 Q210.949 1047.33 210.949 1040.22 Q210.949 1033.09 209.121 1029.55 Q207.315 1025.99 203.681 1025.99 M203.681 1022.28 Q209.491 1022.28 212.547 1026.89 Q215.625 1031.47 215.625 1040.22 Q215.625 1048.95 212.547 1053.56 Q209.491 1058.14 203.681 1058.14 Q197.871 1058.14 194.792 1053.56 Q191.737 1048.95 191.737 1040.22 Q191.737 1031.47 194.792 1026.89 Q197.871 1022.28 203.681 1022.28 Z\" fill=\"#000000\" fill-rule=\"evenodd\" fill-opacity=\"1\" /><path clip-path=\"url(#clip530)\" d=\"M227.871 1053.53 L244.19 1053.53 L244.19 1057.47 L222.246 1057.47 L222.246 1053.53 Q224.908 1050.78 229.491 1046.15 Q234.097 1041.5 235.278 1040.15 Q237.523 1037.63 238.403 1035.89 Q239.306 1034.13 239.306 1032.44 Q239.306 1029.69 237.361 1027.95 Q235.44 1026.22 232.338 1026.22 Q230.139 1026.22 227.685 1026.98 Q225.255 1027.75 222.477 1029.3 L222.477 1024.57 Q225.301 1023.44 227.755 1022.86 Q230.209 1022.28 232.246 1022.28 Q237.616 1022.28 240.81 1024.97 Q244.005 1027.65 244.005 1032.14 Q244.005 1034.27 243.195 1036.19 Q242.408 1038.09 240.301 1040.69 Q239.722 1041.36 236.621 1044.57 Q233.519 1047.77 227.871 1053.53 Z\" fill=\"#000000\" fill-rule=\"evenodd\" fill-opacity=\"1\" /><path clip-path=\"url(#clip530)\" d=\"M126.205 681.594 Q122.593 681.594 120.765 685.159 Q118.959 688.7 118.959 695.83 Q118.959 702.936 120.765 706.501 Q122.593 710.043 126.205 710.043 Q129.839 710.043 131.644 706.501 Q133.473 702.936 133.473 695.83 Q133.473 688.7 131.644 685.159 Q129.839 681.594 126.205 681.594 M126.205 677.89 Q132.015 677.89 135.07 682.497 Q138.149 687.08 138.149 695.83 Q138.149 704.557 135.07 709.163 Q132.015 713.747 126.205 713.747 Q120.394 713.747 117.316 709.163 Q114.26 704.557 114.26 695.83 Q114.26 687.08 117.316 682.497 Q120.394 677.89 126.205 677.89 Z\" fill=\"#000000\" fill-rule=\"evenodd\" fill-opacity=\"1\" /><path clip-path=\"url(#clip530)\" d=\"M146.366 707.196 L151.251 707.196 L151.251 713.075 L146.366 713.075 L146.366 707.196 Z\" fill=\"#000000\" fill-rule=\"evenodd\" fill-opacity=\"1\" /><path clip-path=\"url(#clip530)\" d=\"M171.436 681.594 Q167.825 681.594 165.996 685.159 Q164.19 688.7 164.19 695.83 Q164.19 702.936 165.996 706.501 Q167.825 710.043 171.436 710.043 Q175.07 710.043 176.876 706.501 Q178.704 702.936 178.704 695.83 Q178.704 688.7 176.876 685.159 Q175.07 681.594 171.436 681.594 M171.436 677.89 Q177.246 677.89 180.301 682.497 Q183.38 687.08 183.38 695.83 Q183.38 704.557 180.301 709.163 Q177.246 713.747 171.436 713.747 Q165.626 713.747 162.547 709.163 Q159.491 704.557 159.491 695.83 Q159.491 687.08 162.547 682.497 Q165.626 677.89 171.436 677.89 Z\" fill=\"#000000\" fill-rule=\"evenodd\" fill-opacity=\"1\" /><path clip-path=\"url(#clip530)\" d=\"M201.598 681.594 Q197.987 681.594 196.158 685.159 Q194.352 688.7 194.352 695.83 Q194.352 702.936 196.158 706.501 Q197.987 710.043 201.598 710.043 Q205.232 710.043 207.037 706.501 Q208.866 702.936 208.866 695.83 Q208.866 688.7 207.037 685.159 Q205.232 681.594 201.598 681.594 M201.598 677.89 Q207.408 677.89 210.463 682.497 Q213.542 687.08 213.542 695.83 Q213.542 704.557 210.463 709.163 Q207.408 713.747 201.598 713.747 Q195.787 713.747 192.709 709.163 Q189.653 704.557 189.653 695.83 Q189.653 687.08 192.709 682.497 Q195.787 677.89 201.598 677.89 Z\" fill=\"#000000\" fill-rule=\"evenodd\" fill-opacity=\"1\" /><path clip-path=\"url(#clip530)\" d=\"M234.607 682.589 L222.801 701.038 L234.607 701.038 L234.607 682.589 M233.38 678.515 L239.259 678.515 L239.259 701.038 L244.19 701.038 L244.19 704.927 L239.259 704.927 L239.259 713.075 L234.607 713.075 L234.607 704.927 L219.005 704.927 L219.005 700.413 L233.38 678.515 Z\" fill=\"#000000\" fill-rule=\"evenodd\" fill-opacity=\"1\" /><path clip-path=\"url(#clip530)\" d=\"M126.529 337.201 Q122.918 337.201 121.089 340.766 Q119.283 344.308 119.283 351.437 Q119.283 358.544 121.089 362.108 Q122.918 365.65 126.529 365.65 Q130.163 365.65 131.968 362.108 Q133.797 358.544 133.797 351.437 Q133.797 344.308 131.968 340.766 Q130.163 337.201 126.529 337.201 M126.529 333.498 Q132.339 333.498 135.394 338.104 Q138.473 342.687 138.473 351.437 Q138.473 360.164 135.394 364.771 Q132.339 369.354 126.529 369.354 Q120.718 369.354 117.64 364.771 Q114.584 360.164 114.584 351.437 Q114.584 342.687 117.64 338.104 Q120.718 333.498 126.529 333.498 Z\" fill=\"#000000\" fill-rule=\"evenodd\" fill-opacity=\"1\" /><path clip-path=\"url(#clip530)\" d=\"M146.691 362.803 L151.575 362.803 L151.575 368.683 L146.691 368.683 L146.691 362.803 Z\" fill=\"#000000\" fill-rule=\"evenodd\" fill-opacity=\"1\" /><path clip-path=\"url(#clip530)\" d=\"M171.76 337.201 Q168.149 337.201 166.32 340.766 Q164.515 344.308 164.515 351.437 Q164.515 358.544 166.32 362.108 Q168.149 365.65 171.76 365.65 Q175.394 365.65 177.2 362.108 Q179.028 358.544 179.028 351.437 Q179.028 344.308 177.2 340.766 Q175.394 337.201 171.76 337.201 M171.76 333.498 Q177.57 333.498 180.626 338.104 Q183.704 342.687 183.704 351.437 Q183.704 360.164 180.626 364.771 Q177.57 369.354 171.76 369.354 Q165.95 369.354 162.871 364.771 Q159.815 360.164 159.815 351.437 Q159.815 342.687 162.871 338.104 Q165.95 333.498 171.76 333.498 Z\" fill=\"#000000\" fill-rule=\"evenodd\" fill-opacity=\"1\" /><path clip-path=\"url(#clip530)\" d=\"M201.922 337.201 Q198.311 337.201 196.482 340.766 Q194.676 344.308 194.676 351.437 Q194.676 358.544 196.482 362.108 Q198.311 365.65 201.922 365.65 Q205.556 365.65 207.362 362.108 Q209.19 358.544 209.19 351.437 Q209.19 344.308 207.362 340.766 Q205.556 337.201 201.922 337.201 M201.922 333.498 Q207.732 333.498 210.787 338.104 Q213.866 342.687 213.866 351.437 Q213.866 360.164 210.787 364.771 Q207.732 369.354 201.922 369.354 Q196.112 369.354 193.033 364.771 Q189.977 360.164 189.977 351.437 Q189.977 342.687 193.033 338.104 Q196.112 333.498 201.922 333.498 Z\" fill=\"#000000\" fill-rule=\"evenodd\" fill-opacity=\"1\" /><path clip-path=\"url(#clip530)\" d=\"M232.662 349.539 Q229.514 349.539 227.662 351.692 Q225.834 353.845 225.834 357.595 Q225.834 361.321 227.662 363.497 Q229.514 365.65 232.662 365.65 Q235.81 365.65 237.639 363.497 Q239.491 361.321 239.491 357.595 Q239.491 353.845 237.639 351.692 Q235.81 349.539 232.662 349.539 M241.945 334.886 L241.945 339.146 Q240.185 338.312 238.38 337.873 Q236.597 337.433 234.838 337.433 Q230.209 337.433 227.755 340.558 Q225.324 343.683 224.977 350.002 Q226.343 347.988 228.403 346.923 Q230.463 345.835 232.94 345.835 Q238.148 345.835 241.158 349.007 Q244.19 352.155 244.19 357.595 Q244.19 362.919 241.042 366.136 Q237.894 369.354 232.662 369.354 Q226.667 369.354 223.496 364.771 Q220.324 360.164 220.324 351.437 Q220.324 343.243 224.213 338.382 Q228.102 333.498 234.653 333.498 Q236.412 333.498 238.195 333.845 Q240 334.192 241.945 334.886 Z\" fill=\"#000000\" fill-rule=\"evenodd\" fill-opacity=\"1\" /><path clip-path=\"url(#clip530)\" d=\"M16.4842 974.212 L16.4842 944.166 L21.895 944.166 L21.895 967.783 L35.9632 967.783 L35.9632 945.153 L41.3741 945.153 L41.3741 967.783 L58.5933 967.783 L58.5933 943.593 L64.0042 943.593 L64.0042 974.212 L16.4842 974.212 Z\" fill=\"#000000\" fill-rule=\"evenodd\" fill-opacity=\"1\" /><path clip-path=\"url(#clip530)\" d=\"M28.3562 903.649 L45.7028 916.539 L64.0042 902.98 L64.0042 909.887 L49.9996 920.263 L64.0042 930.639 L64.0042 937.546 L45.3526 923.701 L28.3562 936.368 L28.3562 929.462 L41.0558 920.008 L28.3562 910.555 L28.3562 903.649 Z\" fill=\"#000000\" fill-rule=\"evenodd\" fill-opacity=\"1\" /><path clip-path=\"url(#clip530)\" d=\"M44.7161 866.218 L47.5806 866.218 L47.5806 893.145 Q53.6281 892.763 56.8109 889.517 Q59.9619 886.238 59.9619 880.414 Q59.9619 877.04 59.1344 873.889 Q58.3069 870.706 56.6518 867.587 L62.1899 867.587 Q63.5267 870.738 64.227 874.048 Q64.9272 877.358 64.9272 880.764 Q64.9272 889.294 59.9619 894.291 Q54.9967 899.256 46.5303 899.256 Q37.7774 899.256 32.6531 894.546 Q27.4968 889.803 27.4968 881.782 Q27.4968 874.589 32.1438 870.42 Q36.7589 866.218 44.7161 866.218 M42.9973 872.075 Q38.1912 872.138 35.3266 874.78 Q32.4621 877.39 32.4621 881.719 Q32.4621 886.62 35.2312 889.58 Q38.0002 892.509 43.0292 892.954 L42.9973 872.075 Z\" fill=\"#000000\" fill-rule=\"evenodd\" fill-opacity=\"1\" /><path clip-path=\"url(#clip530)\" d=\"M29.7248 830.952 L35.1993 830.952 Q33.8307 833.435 33.1623 835.949 Q32.4621 838.432 32.4621 840.978 Q32.4621 846.675 36.0905 849.827 Q39.6872 852.978 46.212 852.978 Q52.7369 852.978 56.3653 849.827 Q59.9619 846.675 59.9619 840.978 Q59.9619 838.432 59.2935 835.949 Q58.5933 833.435 57.2247 830.952 L62.6355 830.952 Q63.7814 833.403 64.3543 836.045 Q64.9272 838.655 64.9272 841.615 Q64.9272 849.667 59.8664 854.41 Q54.8057 859.152 46.212 859.152 Q37.491 859.152 32.4939 854.378 Q27.4968 849.572 27.4968 841.233 Q27.4968 838.527 28.0697 835.949 Q28.6108 833.371 29.7248 830.952 Z\" fill=\"#000000\" fill-rule=\"evenodd\" fill-opacity=\"1\" /><path clip-path=\"url(#clip530)\" d=\"M49.9359 821.372 L28.3562 821.372 L28.3562 815.515 L49.7131 815.515 Q54.7739 815.515 57.3202 813.542 Q59.8346 811.569 59.8346 807.622 Q59.8346 802.879 56.8109 800.142 Q53.7872 797.373 48.5673 797.373 L28.3562 797.373 L28.3562 791.517 L64.0042 791.517 L64.0042 797.373 L58.5296 797.373 Q61.7762 799.506 63.3676 802.338 Q64.9272 805.139 64.9272 808.863 Q64.9272 815.006 61.1078 818.189 Q57.2883 821.372 49.9359 821.372 M27.4968 806.635 L27.4968 806.635 Z\" fill=\"#000000\" fill-rule=\"evenodd\" fill-opacity=\"1\" /><path clip-path=\"url(#clip530)\" d=\"M18.2347 773.661 L28.3562 773.661 L28.3562 761.598 L32.9077 761.598 L32.9077 773.661 L52.2594 773.661 Q56.6199 773.661 57.8613 772.483 Q59.1026 771.274 59.1026 767.613 L59.1026 761.598 L64.0042 761.598 L64.0042 767.613 Q64.0042 774.393 61.4897 776.971 Q58.9434 779.549 52.2594 779.549 L32.9077 779.549 L32.9077 783.846 L28.3562 783.846 L28.3562 779.549 L18.2347 779.549 L18.2347 773.661 Z\" fill=\"#000000\" fill-rule=\"evenodd\" fill-opacity=\"1\" /><path clip-path=\"url(#clip530)\" d=\"M28.3562 753.895 L28.3562 748.039 L64.0042 748.039 L64.0042 753.895 L28.3562 753.895 M14.479 753.895 L14.479 748.039 L21.895 748.039 L21.895 753.895 L14.479 753.895 Z\" fill=\"#000000\" fill-rule=\"evenodd\" fill-opacity=\"1\" /><path clip-path=\"url(#clip530)\" d=\"M32.4621 721.971 Q32.4621 726.682 36.1542 729.419 Q39.8145 732.156 46.212 732.156 Q52.6095 732.156 56.3017 729.451 Q59.9619 726.714 59.9619 721.971 Q59.9619 717.293 56.2698 714.555 Q52.5777 711.818 46.212 711.818 Q39.8781 711.818 36.186 714.555 Q32.4621 717.293 32.4621 721.971 M27.4968 721.971 Q27.4968 714.332 32.4621 709.972 Q37.4273 705.611 46.212 705.611 Q54.9649 705.611 59.9619 709.972 Q64.9272 714.332 64.9272 721.971 Q64.9272 729.642 59.9619 734.002 Q54.9649 738.331 46.212 738.331 Q37.4273 738.331 32.4621 734.002 Q27.4968 729.642 27.4968 721.971 Z\" fill=\"#000000\" fill-rule=\"evenodd\" fill-opacity=\"1\" /><path clip-path=\"url(#clip530)\" d=\"M42.4881 666.271 L64.0042 666.271 L64.0042 672.128 L42.679 672.128 Q37.6183 672.128 35.1038 674.101 Q32.5894 676.075 32.5894 680.021 Q32.5894 684.764 35.6131 687.501 Q38.6368 690.238 43.8567 690.238 L64.0042 690.238 L64.0042 696.127 L28.3562 696.127 L28.3562 690.238 L33.8944 690.238 Q30.6797 688.138 29.0883 685.305 Q27.4968 682.44 27.4968 678.716 Q27.4968 672.573 31.3163 669.422 Q35.1038 666.271 42.4881 666.271 Z\" fill=\"#000000\" fill-rule=\"evenodd\" fill-opacity=\"1\" /><path clip-path=\"url(#clip530)\" d=\"M18.2347 628.077 L28.3562 628.077 L28.3562 616.014 L32.9077 616.014 L32.9077 628.077 L52.2594 628.077 Q56.6199 628.077 57.8613 626.899 Q59.1026 625.69 59.1026 622.03 L59.1026 616.014 L64.0042 616.014 L64.0042 622.03 Q64.0042 628.809 61.4897 631.387 Q58.9434 633.965 52.2594 633.965 L32.9077 633.965 L32.9077 638.262 L28.3562 638.262 L28.3562 633.965 L18.2347 633.965 L18.2347 628.077 Z\" fill=\"#000000\" fill-rule=\"evenodd\" fill-opacity=\"1\" /><path clip-path=\"url(#clip530)\" d=\"M28.3562 608.312 L28.3562 602.455 L64.0042 602.455 L64.0042 608.312 L28.3562 608.312 M14.479 608.312 L14.479 602.455 L21.895 602.455 L21.895 608.312 L14.479 608.312 Z\" fill=\"#000000\" fill-rule=\"evenodd\" fill-opacity=\"1\" /><path clip-path=\"url(#clip530)\" d=\"M35.1993 562.447 Q31.2526 560.251 29.3747 557.195 Q27.4968 554.139 27.4968 550.002 Q27.4968 544.432 31.4117 541.408 Q35.2948 538.384 42.4881 538.384 L64.0042 538.384 L64.0042 544.273 L42.679 544.273 Q37.5546 544.273 35.072 546.087 Q32.5894 547.901 32.5894 551.625 Q32.5894 556.176 35.6131 558.818 Q38.6368 561.46 43.8567 561.46 L64.0042 561.46 L64.0042 567.348 L42.679 567.348 Q37.5228 567.348 35.072 569.163 Q32.5894 570.977 32.5894 574.764 Q32.5894 579.252 35.6449 581.894 Q38.6686 584.536 43.8567 584.536 L64.0042 584.536 L64.0042 590.424 L28.3562 590.424 L28.3562 584.536 L33.8944 584.536 Q30.616 582.53 29.0564 579.73 Q27.4968 576.929 27.4968 573.077 Q27.4968 569.194 29.4702 566.489 Q31.4436 563.752 35.1993 562.447 Z\" fill=\"#000000\" fill-rule=\"evenodd\" fill-opacity=\"1\" /><path clip-path=\"url(#clip530)\" d=\"M44.7161 496.212 L47.5806 496.212 L47.5806 523.138 Q53.6281 522.757 56.8109 519.51 Q59.9619 516.232 59.9619 510.407 Q59.9619 507.033 59.1344 503.882 Q58.3069 500.699 56.6518 497.58 L62.1899 497.58 Q63.5267 500.731 64.227 504.041 Q64.9272 507.351 64.9272 510.757 Q64.9272 519.287 59.9619 524.284 Q54.9967 529.25 46.5303 529.25 Q37.7774 529.25 32.6531 524.539 Q27.4968 519.796 27.4968 511.776 Q27.4968 504.582 32.1438 500.413 Q36.7589 496.212 44.7161 496.212 M42.9973 502.068 Q38.1912 502.132 35.3266 504.773 Q32.4621 507.383 32.4621 511.712 Q32.4621 516.614 35.2312 519.574 Q38.0002 522.502 43.0292 522.947 L42.9973 502.068 Z\" fill=\"#000000\" fill-rule=\"evenodd\" fill-opacity=\"1\" /><polyline clip-path=\"url(#clip532)\" style=\"stroke:#009af9; stroke-linecap:round; stroke-linejoin:round; stroke-width:4; stroke-opacity:1; fill:none\" points=\"\n",
       "  338.848,1384.24 583.254,1383.95 827.66,1383.15 1072.07,1380.43 1316.47,1372.41 1560.88,1346.37 1805.29,1262.18 2049.69,949.613 2294.1,86.1857 \n",
       "  \"/>\n",
       "<circle clip-path=\"url(#clip532)\" cx=\"338.848\" cy=\"1384.24\" r=\"14.4\" fill=\"#009af9\" fill-rule=\"evenodd\" fill-opacity=\"1\" stroke=\"#000000\" stroke-opacity=\"1\" stroke-width=\"3.2\"/>\n",
       "<circle clip-path=\"url(#clip532)\" cx=\"583.254\" cy=\"1383.95\" r=\"14.4\" fill=\"#009af9\" fill-rule=\"evenodd\" fill-opacity=\"1\" stroke=\"#000000\" stroke-opacity=\"1\" stroke-width=\"3.2\"/>\n",
       "<circle clip-path=\"url(#clip532)\" cx=\"827.66\" cy=\"1383.15\" r=\"14.4\" fill=\"#009af9\" fill-rule=\"evenodd\" fill-opacity=\"1\" stroke=\"#000000\" stroke-opacity=\"1\" stroke-width=\"3.2\"/>\n",
       "<circle clip-path=\"url(#clip532)\" cx=\"1072.07\" cy=\"1380.43\" r=\"14.4\" fill=\"#009af9\" fill-rule=\"evenodd\" fill-opacity=\"1\" stroke=\"#000000\" stroke-opacity=\"1\" stroke-width=\"3.2\"/>\n",
       "<circle clip-path=\"url(#clip532)\" cx=\"1316.47\" cy=\"1372.41\" r=\"14.4\" fill=\"#009af9\" fill-rule=\"evenodd\" fill-opacity=\"1\" stroke=\"#000000\" stroke-opacity=\"1\" stroke-width=\"3.2\"/>\n",
       "<circle clip-path=\"url(#clip532)\" cx=\"1560.88\" cy=\"1346.37\" r=\"14.4\" fill=\"#009af9\" fill-rule=\"evenodd\" fill-opacity=\"1\" stroke=\"#000000\" stroke-opacity=\"1\" stroke-width=\"3.2\"/>\n",
       "<circle clip-path=\"url(#clip532)\" cx=\"1805.29\" cy=\"1262.18\" r=\"14.4\" fill=\"#009af9\" fill-rule=\"evenodd\" fill-opacity=\"1\" stroke=\"#000000\" stroke-opacity=\"1\" stroke-width=\"3.2\"/>\n",
       "<circle clip-path=\"url(#clip532)\" cx=\"2049.69\" cy=\"949.613\" r=\"14.4\" fill=\"#009af9\" fill-rule=\"evenodd\" fill-opacity=\"1\" stroke=\"#000000\" stroke-opacity=\"1\" stroke-width=\"3.2\"/>\n",
       "<circle clip-path=\"url(#clip532)\" cx=\"2294.1\" cy=\"86.1857\" r=\"14.4\" fill=\"#009af9\" fill-rule=\"evenodd\" fill-opacity=\"1\" stroke=\"#000000\" stroke-opacity=\"1\" stroke-width=\"3.2\"/>\n",
       "<polyline clip-path=\"url(#clip532)\" style=\"stroke:#e26f46; stroke-linecap:round; stroke-linejoin:round; stroke-width:4; stroke-opacity:1; fill:none\" points=\"\n",
       "  338.848,1381.55 583.254,1381.46 827.66,1381.09 1072.07,1379.54 1316.47,1376.76 1560.88,1365.78 1805.29,1321.83 2049.69,1129.25 2294.1,681.52 \n",
       "  \"/>\n",
       "<path clip-path=\"url(#clip532)\" d=\"M322.848 1365.55 L322.848 1397.55 L354.848 1397.55 L354.848 1365.55 L322.848 1365.55 Z\" fill=\"#e26f46\" fill-rule=\"evenodd\" fill-opacity=\"1\" stroke=\"#000000\" stroke-opacity=\"1\" stroke-width=\"3.2\"/>\n",
       "<path clip-path=\"url(#clip532)\" d=\"M567.254 1365.46 L567.254 1397.46 L599.254 1397.46 L599.254 1365.46 L567.254 1365.46 Z\" fill=\"#e26f46\" fill-rule=\"evenodd\" fill-opacity=\"1\" stroke=\"#000000\" stroke-opacity=\"1\" stroke-width=\"3.2\"/>\n",
       "<path clip-path=\"url(#clip532)\" d=\"M811.66 1365.09 L811.66 1397.09 L843.66 1397.09 L843.66 1365.09 L811.66 1365.09 Z\" fill=\"#e26f46\" fill-rule=\"evenodd\" fill-opacity=\"1\" stroke=\"#000000\" stroke-opacity=\"1\" stroke-width=\"3.2\"/>\n",
       "<path clip-path=\"url(#clip532)\" d=\"M1056.07 1363.54 L1056.07 1395.54 L1088.07 1395.54 L1088.07 1363.54 L1056.07 1363.54 Z\" fill=\"#e26f46\" fill-rule=\"evenodd\" fill-opacity=\"1\" stroke=\"#000000\" stroke-opacity=\"1\" stroke-width=\"3.2\"/>\n",
       "<path clip-path=\"url(#clip532)\" d=\"M1300.47 1360.76 L1300.47 1392.76 L1332.47 1392.76 L1332.47 1360.76 L1300.47 1360.76 Z\" fill=\"#e26f46\" fill-rule=\"evenodd\" fill-opacity=\"1\" stroke=\"#000000\" stroke-opacity=\"1\" stroke-width=\"3.2\"/>\n",
       "<path clip-path=\"url(#clip532)\" d=\"M1544.88 1349.78 L1544.88 1381.78 L1576.88 1381.78 L1576.88 1349.78 L1544.88 1349.78 Z\" fill=\"#e26f46\" fill-rule=\"evenodd\" fill-opacity=\"1\" stroke=\"#000000\" stroke-opacity=\"1\" stroke-width=\"3.2\"/>\n",
       "<path clip-path=\"url(#clip532)\" d=\"M1789.29 1305.83 L1789.29 1337.83 L1821.29 1337.83 L1821.29 1305.83 L1789.29 1305.83 Z\" fill=\"#e26f46\" fill-rule=\"evenodd\" fill-opacity=\"1\" stroke=\"#000000\" stroke-opacity=\"1\" stroke-width=\"3.2\"/>\n",
       "<path clip-path=\"url(#clip532)\" d=\"M2033.69 1113.25 L2033.69 1145.25 L2065.69 1145.25 L2065.69 1113.25 L2033.69 1113.25 Z\" fill=\"#e26f46\" fill-rule=\"evenodd\" fill-opacity=\"1\" stroke=\"#000000\" stroke-opacity=\"1\" stroke-width=\"3.2\"/>\n",
       "<path clip-path=\"url(#clip532)\" d=\"M2278.1 665.52 L2278.1 697.52 L2310.1 697.52 L2310.1 665.52 L2278.1 665.52 Z\" fill=\"#e26f46\" fill-rule=\"evenodd\" fill-opacity=\"1\" stroke=\"#000000\" stroke-opacity=\"1\" stroke-width=\"3.2\"/>\n",
       "<path clip-path=\"url(#clip530)\" d=\"\n",
       "M349.276 248.629 L779.355 248.629 L779.355 93.1086 L349.276 93.1086  Z\n",
       "  \" fill=\"#ffffff\" fill-rule=\"evenodd\" fill-opacity=\"1\"/>\n",
       "<polyline clip-path=\"url(#clip530)\" style=\"stroke:#000000; stroke-linecap:round; stroke-linejoin:round; stroke-width:4; stroke-opacity:1; fill:none\" points=\"\n",
       "  349.276,248.629 779.355,248.629 779.355,93.1086 349.276,93.1086 349.276,248.629 \n",
       "  \"/>\n",
       "<polyline clip-path=\"url(#clip530)\" style=\"stroke:#009af9; stroke-linecap:round; stroke-linejoin:round; stroke-width:4; stroke-opacity:1; fill:none\" points=\"\n",
       "  372.304,144.949 510.475,144.949 \n",
       "  \"/>\n",
       "<circle clip-path=\"url(#clip530)\" cx=\"441.39\" cy=\"144.949\" r=\"19.1904\" fill=\"#009af9\" fill-rule=\"evenodd\" fill-opacity=\"1\" stroke=\"#000000\" stroke-opacity=\"1\" stroke-width=\"5.12\"/>\n",
       "<path clip-path=\"url(#clip530)\" d=\"M538.18 131.511 L538.18 144.497 L544.059 144.497 Q547.323 144.497 549.105 142.807 Q550.888 141.118 550.888 137.993 Q550.888 134.891 549.105 133.201 Q547.323 131.511 544.059 131.511 L538.18 131.511 M533.504 127.669 L544.059 127.669 Q549.869 127.669 552.832 130.307 Q555.818 132.923 555.818 137.993 Q555.818 143.108 552.832 145.724 Q549.869 148.34 544.059 148.34 L538.18 148.34 L538.18 162.229 L533.504 162.229 L533.504 127.669 Z\" fill=\"#000000\" fill-rule=\"evenodd\" fill-opacity=\"1\" /><path clip-path=\"url(#clip530)\" d=\"M570.263 139.289 Q566.837 139.289 564.846 141.974 Q562.855 144.636 562.855 149.289 Q562.855 153.942 564.823 156.627 Q566.814 159.289 570.263 159.289 Q573.665 159.289 575.656 156.604 Q577.647 153.918 577.647 149.289 Q577.647 144.682 575.656 141.997 Q573.665 139.289 570.263 139.289 M570.263 135.678 Q575.818 135.678 578.989 139.289 Q582.161 142.9 582.161 149.289 Q582.161 155.655 578.989 159.289 Q575.818 162.9 570.263 162.9 Q564.684 162.9 561.513 159.289 Q558.365 155.655 558.365 149.289 Q558.365 142.9 561.513 139.289 Q564.684 135.678 570.263 135.678 Z\" fill=\"#000000\" fill-rule=\"evenodd\" fill-opacity=\"1\" /><path clip-path=\"url(#clip530)\" d=\"M589.221 126.21 L593.48 126.21 L593.48 162.229 L589.221 162.229 L589.221 126.21 Z\" fill=\"#000000\" fill-rule=\"evenodd\" fill-opacity=\"1\" /><path clip-path=\"url(#clip530)\" d=\"M613.179 164.636 Q611.374 169.266 609.661 170.678 Q607.948 172.09 605.077 172.09 L601.675 172.09 L601.675 168.525 L604.175 168.525 Q605.934 168.525 606.906 167.692 Q607.878 166.858 609.059 163.756 L609.823 161.812 L599.337 136.303 L603.85 136.303 L611.952 156.581 L620.054 136.303 L624.568 136.303 L613.179 164.636 Z\" fill=\"#000000\" fill-rule=\"evenodd\" fill-opacity=\"1\" /><polyline clip-path=\"url(#clip530)\" style=\"stroke:#e26f46; stroke-linecap:round; stroke-linejoin:round; stroke-width:4; stroke-opacity:1; fill:none\" points=\"\n",
       "  372.304,196.789 510.475,196.789 \n",
       "  \"/>\n",
       "<path clip-path=\"url(#clip530)\" d=\"M420.067 175.466 L420.067 218.111 L462.712 218.111 L462.712 175.466 L420.067 175.466 Z\" fill=\"#e26f46\" fill-rule=\"evenodd\" fill-opacity=\"1\" stroke=\"#000000\" stroke-opacity=\"1\" stroke-width=\"5.12\"/>\n",
       "<path clip-path=\"url(#clip530)\" d=\"M559.059 209.138 L559.059 199.856 L551.42 199.856 L551.42 196.013 L563.689 196.013 L563.689 210.851 Q560.98 212.772 557.716 213.768 Q554.453 214.74 550.749 214.74 Q542.647 214.74 538.064 210.018 Q533.504 205.272 533.504 196.823 Q533.504 188.351 538.064 183.629 Q542.647 178.884 550.749 178.884 Q554.129 178.884 557.161 179.717 Q560.216 180.55 562.786 182.171 L562.786 187.147 Q560.193 184.948 557.277 183.837 Q554.36 182.726 551.142 182.726 Q544.8 182.726 541.605 186.268 Q538.434 189.809 538.434 196.823 Q538.434 203.814 541.605 207.356 Q544.8 210.897 551.142 210.897 Q553.619 210.897 555.564 210.481 Q557.508 210.041 559.059 209.138 Z\" fill=\"#000000\" fill-rule=\"evenodd\" fill-opacity=\"1\" /><path clip-path=\"url(#clip530)\" d=\"M592.948 180.643 L592.948 185.203 Q590.286 183.93 587.925 183.305 Q585.564 182.68 583.364 182.68 Q579.545 182.68 577.462 184.161 Q575.402 185.643 575.402 188.374 Q575.402 190.666 576.767 191.847 Q578.156 193.004 581.999 193.722 L584.823 194.3 Q590.054 195.296 592.531 197.819 Q595.031 200.319 595.031 204.532 Q595.031 209.555 591.651 212.147 Q588.295 214.74 581.79 214.74 Q579.337 214.74 576.559 214.184 Q573.804 213.629 570.841 212.541 L570.841 207.726 Q573.689 209.323 576.42 210.133 Q579.152 210.944 581.79 210.944 Q585.795 210.944 587.971 209.37 Q590.147 207.796 590.147 204.879 Q590.147 202.333 588.573 200.897 Q587.022 199.462 583.457 198.745 L580.61 198.189 Q575.378 197.147 573.04 194.925 Q570.703 192.703 570.703 188.745 Q570.703 184.161 573.92 181.522 Q577.161 178.884 582.832 178.884 Q585.263 178.884 587.786 179.323 Q590.309 179.763 592.948 180.643 Z\" fill=\"#000000\" fill-rule=\"evenodd\" fill-opacity=\"1\" /><path clip-path=\"url(#clip530)\" d=\"M633.735 188.907 L633.735 192.934 Q631.929 192.009 629.985 191.546 Q628.04 191.083 625.957 191.083 Q622.786 191.083 621.188 192.055 Q619.614 193.027 619.614 194.971 Q619.614 196.453 620.749 197.309 Q621.883 198.143 625.309 198.907 L626.767 199.231 Q631.304 200.203 633.202 201.985 Q635.123 203.745 635.123 206.916 Q635.123 210.527 632.253 212.633 Q629.406 214.74 624.406 214.74 Q622.323 214.74 620.054 214.323 Q617.809 213.93 615.309 213.12 L615.309 208.721 Q617.67 209.948 619.961 210.573 Q622.253 211.175 624.499 211.175 Q627.508 211.175 629.128 210.157 Q630.748 209.115 630.748 207.24 Q630.748 205.504 629.568 204.578 Q628.411 203.652 624.452 202.796 L622.971 202.448 Q619.012 201.615 617.253 199.902 Q615.494 198.166 615.494 195.157 Q615.494 191.499 618.087 189.509 Q620.679 187.518 625.448 187.518 Q627.809 187.518 629.892 187.865 Q631.975 188.212 633.735 188.907 Z\" fill=\"#000000\" fill-rule=\"evenodd\" fill-opacity=\"1\" /><path clip-path=\"url(#clip530)\" d=\"M651.952 191.129 Q648.526 191.129 646.535 193.814 Q644.545 196.476 644.545 201.129 Q644.545 205.782 646.512 208.467 Q648.503 211.129 651.952 211.129 Q655.355 211.129 657.346 208.444 Q659.336 205.758 659.336 201.129 Q659.336 196.522 657.346 193.837 Q655.355 191.129 651.952 191.129 M651.952 187.518 Q657.508 187.518 660.679 191.129 Q663.85 194.74 663.85 201.129 Q663.85 207.495 660.679 211.129 Q657.508 214.74 651.952 214.74 Q646.373 214.74 643.202 211.129 Q640.054 207.495 640.054 201.129 Q640.054 194.74 643.202 191.129 Q646.373 187.518 651.952 187.518 Z\" fill=\"#000000\" fill-rule=\"evenodd\" fill-opacity=\"1\" /><path clip-path=\"url(#clip530)\" d=\"M670.91 178.05 L675.17 178.05 L675.17 214.069 L670.91 214.069 L670.91 178.05 Z\" fill=\"#000000\" fill-rule=\"evenodd\" fill-opacity=\"1\" /><path clip-path=\"url(#clip530)\" d=\"M681.026 188.143 L685.54 188.143 L693.642 209.902 L701.743 188.143 L706.257 188.143 L696.535 214.069 L690.748 214.069 L681.026 188.143 Z\" fill=\"#000000\" fill-rule=\"evenodd\" fill-opacity=\"1\" /><path clip-path=\"url(#clip530)\" d=\"M734.313 200.041 L734.313 202.124 L714.73 202.124 Q715.007 206.522 717.368 208.837 Q719.753 211.129 723.989 211.129 Q726.442 211.129 728.734 210.527 Q731.049 209.925 733.317 208.721 L733.317 212.749 Q731.026 213.721 728.618 214.231 Q726.211 214.74 723.734 214.74 Q717.53 214.74 713.896 211.129 Q710.285 207.518 710.285 201.36 Q710.285 194.995 713.711 191.268 Q717.16 187.518 722.993 187.518 Q728.225 187.518 731.257 190.897 Q734.313 194.254 734.313 200.041 M730.053 198.791 Q730.007 195.296 728.086 193.212 Q726.188 191.129 723.04 191.129 Q719.475 191.129 717.322 193.143 Q715.192 195.157 714.868 198.814 L730.053 198.791 Z\" fill=\"#000000\" fill-rule=\"evenodd\" fill-opacity=\"1\" /><path clip-path=\"url(#clip530)\" d=\"M756.327 192.124 Q755.609 191.708 754.752 191.522 Q753.919 191.314 752.901 191.314 Q749.29 191.314 747.345 193.675 Q745.424 196.013 745.424 200.411 L745.424 214.069 L741.141 214.069 L741.141 188.143 L745.424 188.143 L745.424 192.171 Q746.766 189.809 748.919 188.675 Q751.072 187.518 754.151 187.518 Q754.59 187.518 755.123 187.587 Q755.655 187.634 756.303 187.749 L756.327 192.124 Z\" fill=\"#000000\" fill-rule=\"evenodd\" fill-opacity=\"1\" /></svg>\n"
      ]
     },
     "execution_count": 24,
     "metadata": {},
     "output_type": "execute_result"
    }
   ],
   "source": [
    "plot(1:0.5:5, time_fitpoly, label = \"Poly\", marker = :circle)\n",
    "plot!(1:0.5:5, time_gs, label = \"GS solver\", marker = :square)\n",
    "plot!(xlabel=\"m\", ylabel = \"Execution time\")"
   ]
  },
  {
   "cell_type": "markdown",
   "id": "1fbe5727",
   "metadata": {},
   "source": [
    "<b>Zadanie dodatkowe (10 punktów):</b> zoptymalizuj funkcję <tt>gram_schmidt_solve</tt> tak żeby działała szybciej niż jej forma prezentowana na zajęciach."
   ]
  }
 ],
 "metadata": {
  "kernelspec": {
   "display_name": "Julia 1.8.5",
   "language": "julia",
   "name": "julia-1.8"
  },
  "language_info": {
   "file_extension": ".jl",
   "mimetype": "application/julia",
   "name": "julia",
   "version": "1.8.5"
  }
 },
 "nbformat": 4,
 "nbformat_minor": 5
}
